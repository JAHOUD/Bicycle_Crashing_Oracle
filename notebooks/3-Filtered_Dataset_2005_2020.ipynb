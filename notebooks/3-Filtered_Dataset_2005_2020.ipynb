{
 "cells": [
  {
   "cell_type": "markdown",
   "metadata": {},
   "source": [
    "## Create a filtered/cleaned dataset for accidents between 2005 and 2020"
   ]
  },
  {
   "cell_type": "markdown",
   "metadata": {},
   "source": [
    "### Introduction"
   ]
  },
  {
   "cell_type": "markdown",
   "metadata": {},
   "source": [
    "In this Notebook we will define the filtering rules for our dataset.\n",
    "The generated dataset will contain informations about bicycle accidents in France form 2005 to 2020."
   ]
  },
  {
   "cell_type": "markdown",
   "metadata": {},
   "source": [
    "***"
   ]
  },
  {
   "cell_type": "markdown",
   "metadata": {},
   "source": [
    "### Import libraries & packages"
   ]
  },
  {
   "cell_type": "code",
   "execution_count": 65,
   "metadata": {},
   "outputs": [],
   "source": [
    "import pandas as pd\n",
    "import numpy as np"
   ]
  },
  {
   "cell_type": "markdown",
   "metadata": {},
   "source": [
    "### Import Merged dataset"
   ]
  },
  {
   "cell_type": "code",
   "execution_count": 66,
   "metadata": {},
   "outputs": [
    {
     "name": "stderr",
     "output_type": "stream",
     "text": [
      "C:\\Users\\WonderSSJ9\\anaconda3\\lib\\site-packages\\IPython\\core\\interactiveshell.py:3165: DtypeWarning: Columns (9,22,24,25,26,28,38,39) have mixed types.Specify dtype option on import or set low_memory=False.\n",
      "  has_raised = await self.run_ast_nodes(code_ast.body, cell_name,\n",
      "C:\\Users\\WonderSSJ9\\anaconda3\\lib\\site-packages\\numpy\\lib\\arraysetops.py:583: FutureWarning: elementwise comparison failed; returning scalar instead, but in the future will perform elementwise comparison\n",
      "  mask |= (ar1 == a)\n"
     ]
    }
   ],
   "source": [
    "#import merged dataset for 2005..2020:\n",
    "df= pd.read_csv('data/merged_data_2005_2020.csv', sep=';', index_col=0)\n",
    "\n",
    "#don't worry about the warning, all the concerned columns will be dropped in the next steps"
   ]
  },
  {
   "cell_type": "code",
   "execution_count": 67,
   "metadata": {},
   "outputs": [
    {
     "name": "stdout",
     "output_type": "stream",
     "text": [
      "Columns of the 'raw' dataset before filtering : \n",
      "\n",
      " ['Num_Acc', 'place', 'catu', 'grav', 'sexe', 'trajet', 'secu1', 'locp', 'actp', 'etatp', 'an_nais', 'num_veh', 'an', 'mois', 'jour', 'hrmn', 'lum', 'agg', 'int', 'atm', 'col', 'com', 'adr', 'lat', 'long', 'dep', 'catr', 'voie', 'v1', 'v2', 'circ', 'nbv', 'pr', 'pr1', 'vosp', 'prof', 'plan', 'lartpc', 'larrout', 'surf', 'infra', 'situ', 'senc', 'catv', 'occutc', 'obs', 'obsm', 'choc', 'manv', 'motor']\n"
     ]
    }
   ],
   "source": [
    "#we select bicycles category ; for the cars replace with 7; for motocycles replace with [2,30,31,32,33,34]\n",
    "df= df[df.catv==1]\n",
    "\n",
    "#display merged dataset columns:\n",
    "print(\"Columns of the 'raw' dataset before filtering : \\n\\n\", list(df.columns))"
   ]
  },
  {
   "cell_type": "markdown",
   "metadata": {},
   "source": [
    "***"
   ]
  },
  {
   "cell_type": "markdown",
   "metadata": {},
   "source": [
    "### Changes to apply on the dataset"
   ]
  },
  {
   "cell_type": "markdown",
   "metadata": {},
   "source": [
    "- drop : 'dep', 'com', 'col', 'adr', 'lat', 'long' ; 'senc', 'obs', 'obsm', 'choc', 'manv', 'motor', 'occutc' ; 'voie', 'v1', 'v2', 'pr', 'pr1', 'lartpc', 'larrout', 'plan' ; 'place', 'locp', 'actp', 'etatp' ; 'catv'\n",
    "- drop 'num_veh' & 'Numm_Acc' for the prediction model\n",
    "- replace 0 in 'surf' with mode value: 1\n",
    "- replace -1 values in 'surf' & 'atm' with the mode value: 1\n",
    "- compare 'surf' and 'atm' : to see if we keep them both\n",
    "- make a count_values for 'prof': to see if it should be removed\n",
    "- compare 'situ' and 'vosp': to see if we keep them both\n",
    "- make a count_values for 'catu':  to see if it should be removed\n",
    "- analyse 'trajet' and see if it has an influence on severity of accidents 'grav'\n",
    "- change the labeling in 'secu1' so that data before 2019 matches data after\n",
    "- rename 'secu1' to 'secu'\n",
    "- analyse 'secu'\n",
    "- replace 'an_nais' with 'age'\n",
    "- limit 'infra' to two categories\n",
    "- limit 'nbv' to 4 categories"
   ]
  },
  {
   "cell_type": "markdown",
   "metadata": {},
   "source": [
    "- **Drop unnecessary + Ids columns:**"
   ]
  },
  {
   "cell_type": "code",
   "execution_count": 68,
   "metadata": {},
   "outputs": [],
   "source": [
    "df.drop( ['dep', 'com', 'col', 'adr', 'lat', 'long', 'senc', 'obs', 'obsm', 'choc', 'manv', 'motor', 'occutc', 'voie', 'v1',\n",
    " 'v2', 'pr', 'pr1', 'lartpc', 'larrout', 'place', 'locp', 'actp', 'etatp', 'num_veh', 'Num_Acc', 'catv'] , axis=1, inplace=True)"
   ]
  },
  {
   "cell_type": "markdown",
   "metadata": {},
   "source": [
    "- **Comparing between 'surf' & 'atm' :**"
   ]
  },
  {
   "cell_type": "code",
   "execution_count": 69,
   "metadata": {},
   "outputs": [
    {
     "data": {
      "text/html": [
       "<div>\n",
       "<style scoped>\n",
       "    .dataframe tbody tr th:only-of-type {\n",
       "        vertical-align: middle;\n",
       "    }\n",
       "\n",
       "    .dataframe tbody tr th {\n",
       "        vertical-align: top;\n",
       "    }\n",
       "\n",
       "    .dataframe thead th {\n",
       "        text-align: right;\n",
       "    }\n",
       "</style>\n",
       "<table border=\"1\" class=\"dataframe\">\n",
       "  <thead>\n",
       "    <tr style=\"text-align: right;\">\n",
       "      <th>atm</th>\n",
       "      <th>1</th>\n",
       "      <th>2</th>\n",
       "      <th>3</th>\n",
       "      <th>4</th>\n",
       "      <th>5</th>\n",
       "      <th>6</th>\n",
       "      <th>7</th>\n",
       "      <th>8</th>\n",
       "      <th>9</th>\n",
       "    </tr>\n",
       "    <tr>\n",
       "      <th>surf</th>\n",
       "      <th></th>\n",
       "      <th></th>\n",
       "      <th></th>\n",
       "      <th></th>\n",
       "      <th></th>\n",
       "      <th></th>\n",
       "      <th></th>\n",
       "      <th></th>\n",
       "      <th></th>\n",
       "    </tr>\n",
       "  </thead>\n",
       "  <tbody>\n",
       "    <tr>\n",
       "      <th>1</th>\n",
       "      <td>0.838578</td>\n",
       "      <td>0.006420</td>\n",
       "      <td>0.000739</td>\n",
       "      <td>0.000170</td>\n",
       "      <td>0.001756</td>\n",
       "      <td>0.001708</td>\n",
       "      <td>0.018217</td>\n",
       "      <td>0.017745</td>\n",
       "      <td>0.001696</td>\n",
       "    </tr>\n",
       "    <tr>\n",
       "      <th>2</th>\n",
       "      <td>0.021802</td>\n",
       "      <td>0.059266</td>\n",
       "      <td>0.010647</td>\n",
       "      <td>0.000703</td>\n",
       "      <td>0.000703</td>\n",
       "      <td>0.000388</td>\n",
       "      <td>0.000545</td>\n",
       "      <td>0.009278</td>\n",
       "      <td>0.000896</td>\n",
       "    </tr>\n",
       "    <tr>\n",
       "      <th>3</th>\n",
       "      <td>0.000230</td>\n",
       "      <td>0.000133</td>\n",
       "      <td>0.000230</td>\n",
       "      <td>0.000012</td>\n",
       "      <td>0.000000</td>\n",
       "      <td>0.000000</td>\n",
       "      <td>0.000012</td>\n",
       "      <td>0.000048</td>\n",
       "      <td>0.000012</td>\n",
       "    </tr>\n",
       "    <tr>\n",
       "      <th>4</th>\n",
       "      <td>0.000036</td>\n",
       "      <td>0.000012</td>\n",
       "      <td>0.000048</td>\n",
       "      <td>0.000000</td>\n",
       "      <td>0.000000</td>\n",
       "      <td>0.000000</td>\n",
       "      <td>0.000000</td>\n",
       "      <td>0.000000</td>\n",
       "      <td>0.000012</td>\n",
       "    </tr>\n",
       "    <tr>\n",
       "      <th>5</th>\n",
       "      <td>0.000351</td>\n",
       "      <td>0.000000</td>\n",
       "      <td>0.000000</td>\n",
       "      <td>0.000557</td>\n",
       "      <td>0.000000</td>\n",
       "      <td>0.000000</td>\n",
       "      <td>0.000012</td>\n",
       "      <td>0.000000</td>\n",
       "      <td>0.000012</td>\n",
       "    </tr>\n",
       "    <tr>\n",
       "      <th>6</th>\n",
       "      <td>0.000121</td>\n",
       "      <td>0.000012</td>\n",
       "      <td>0.000012</td>\n",
       "      <td>0.000000</td>\n",
       "      <td>0.000000</td>\n",
       "      <td>0.000000</td>\n",
       "      <td>0.000000</td>\n",
       "      <td>0.000036</td>\n",
       "      <td>0.000000</td>\n",
       "    </tr>\n",
       "    <tr>\n",
       "      <th>7</th>\n",
       "      <td>0.000557</td>\n",
       "      <td>0.000012</td>\n",
       "      <td>0.000000</td>\n",
       "      <td>0.000121</td>\n",
       "      <td>0.000024</td>\n",
       "      <td>0.000000</td>\n",
       "      <td>0.000048</td>\n",
       "      <td>0.000157</td>\n",
       "      <td>0.000533</td>\n",
       "    </tr>\n",
       "    <tr>\n",
       "      <th>8</th>\n",
       "      <td>0.000703</td>\n",
       "      <td>0.000061</td>\n",
       "      <td>0.000000</td>\n",
       "      <td>0.000000</td>\n",
       "      <td>0.000012</td>\n",
       "      <td>0.000000</td>\n",
       "      <td>0.000000</td>\n",
       "      <td>0.000000</td>\n",
       "      <td>0.000000</td>\n",
       "    </tr>\n",
       "    <tr>\n",
       "      <th>9</th>\n",
       "      <td>0.004094</td>\n",
       "      <td>0.000073</td>\n",
       "      <td>0.000000</td>\n",
       "      <td>0.000012</td>\n",
       "      <td>0.000036</td>\n",
       "      <td>0.000000</td>\n",
       "      <td>0.000097</td>\n",
       "      <td>0.000121</td>\n",
       "      <td>0.000182</td>\n",
       "    </tr>\n",
       "  </tbody>\n",
       "</table>\n",
       "</div>"
      ],
      "text/plain": [
       "atm          1         2         3         4         5         6         7  \\\n",
       "surf                                                                         \n",
       "1     0.838578  0.006420  0.000739  0.000170  0.001756  0.001708  0.018217   \n",
       "2     0.021802  0.059266  0.010647  0.000703  0.000703  0.000388  0.000545   \n",
       "3     0.000230  0.000133  0.000230  0.000012  0.000000  0.000000  0.000012   \n",
       "4     0.000036  0.000012  0.000048  0.000000  0.000000  0.000000  0.000000   \n",
       "5     0.000351  0.000000  0.000000  0.000557  0.000000  0.000000  0.000012   \n",
       "6     0.000121  0.000012  0.000012  0.000000  0.000000  0.000000  0.000000   \n",
       "7     0.000557  0.000012  0.000000  0.000121  0.000024  0.000000  0.000048   \n",
       "8     0.000703  0.000061  0.000000  0.000000  0.000012  0.000000  0.000000   \n",
       "9     0.004094  0.000073  0.000000  0.000012  0.000036  0.000000  0.000097   \n",
       "\n",
       "atm          8         9  \n",
       "surf                      \n",
       "1     0.017745  0.001696  \n",
       "2     0.009278  0.000896  \n",
       "3     0.000048  0.000012  \n",
       "4     0.000000  0.000012  \n",
       "5     0.000000  0.000012  \n",
       "6     0.000036  0.000000  \n",
       "7     0.000157  0.000533  \n",
       "8     0.000000  0.000000  \n",
       "9     0.000121  0.000182  "
      ]
     },
     "execution_count": 69,
     "metadata": {},
     "output_type": "execute_result"
    }
   ],
   "source": [
    "#first we replace -1 & 0 values in surf and atm with mode (1) \n",
    "df[['surf','atm']] = df[['surf','atm']].replace([-1,0], 1)\n",
    "\n",
    "#compare 'surf' & 'atm'\n",
    "pd.crosstab(df['surf'],df['atm'], normalize=True)"
   ]
  },
  {
   "cell_type": "markdown",
   "metadata": {},
   "source": [
    "Based on the crosstable, there's a strong dependency between category 1 of each feature, but for the other categories it's not clear.\n",
    "So wee keep both of the features."
   ]
  },
  {
   "cell_type": "markdown",
   "metadata": {},
   "source": [
    "- **Analysing 'prof':**"
   ]
  },
  {
   "cell_type": "code",
   "execution_count": 70,
   "metadata": {},
   "outputs": [
    {
     "name": "stdout",
     "output_type": "stream",
     "text": [
      " 1    0.773304\n",
      " 2    0.144089\n",
      " 0    0.055438\n",
      " 4    0.013857\n",
      " 3    0.010744\n",
      "-1    0.002568\n",
      "Name: prof, dtype: float64\n"
     ]
    }
   ],
   "source": [
    "#prercentage of each value:\n",
    "print(df.prof.value_counts(normalize=True))"
   ]
  },
  {
   "cell_type": "markdown",
   "metadata": {},
   "source": [
    "Based on the results, there are 6.2% of unspecified values. We drop feature."
   ]
  },
  {
   "cell_type": "code",
   "execution_count": 71,
   "metadata": {},
   "outputs": [],
   "source": [
    "#drop 'prof'\n",
    "df.drop('prof', axis=1, inplace=True )"
   ]
  },
  {
   "cell_type": "markdown",
   "id": "a5343c18",
   "metadata": {},
   "source": [
    "- **Comparing 'situ' & 'vosp:**"
   ]
  },
  {
   "cell_type": "code",
   "execution_count": 72,
   "metadata": {},
   "outputs": [
    {
     "name": "stdout",
     "output_type": "stream",
     "text": [
      " 0    0.798680\n",
      " 1    0.109872\n",
      " 3    0.043362\n",
      " 2    0.042563\n",
      "-1    0.005523\n",
      "Name: vosp, dtype: float64 \n",
      "\n",
      " 1    0.811010\n",
      " 5    0.072892\n",
      " 0    0.046730\n",
      " 3    0.030220\n",
      " 4    0.025182\n",
      "-1    0.006504\n",
      " 6    0.002919\n",
      " 2    0.002774\n",
      " 8    0.001768\n",
      "Name: situ, dtype: float64 \n",
      "\n"
     ]
    }
   ],
   "source": [
    "#prercentage of each value:\n",
    "print(df.vosp.value_counts(normalize=True),'\\n')\n",
    "print(df.situ.value_counts(normalize=True),'\\n')"
   ]
  },
  {
   "cell_type": "markdown",
   "metadata": {},
   "source": [
    "Since percentage of each cat 1 (*présence piste cyclable*) in vosp is diffrent from cat 5 in situ ( *accident sur piste cyclable*), we keep the two."
   ]
  },
  {
   "cell_type": "markdown",
   "metadata": {},
   "source": [
    "- **Analysing 'catu':**"
   ]
  },
  {
   "cell_type": "code",
   "execution_count": 73,
   "metadata": {},
   "outputs": [
    {
     "data": {
      "text/plain": [
       "1    0.933660\n",
       "3    0.054239\n",
       "2    0.010344\n",
       "4    0.001756\n",
       "Name: catu, dtype: float64"
      ]
     },
     "execution_count": 73,
     "metadata": {},
     "output_type": "execute_result"
    }
   ],
   "source": [
    "df.catu.value_counts(normalize=True)"
   ]
  },
  {
   "cell_type": "markdown",
   "metadata": {},
   "source": [
    "We drop 'catu'=4, because it correponds to 'electric scooter' (the catv 99 didn't exist before 2019). We keep 'catu'=1 because our goal is to predict accidents for bicycle drivers."
   ]
  },
  {
   "cell_type": "code",
   "execution_count": 74,
   "metadata": {},
   "outputs": [],
   "source": [
    "#keep rows with 'catu'=1\n",
    "df= df[df.catu==1]\n",
    "\n",
    "#drop 'catu'\n",
    "df.drop('catu', 1, inplace=True)"
   ]
  },
  {
   "cell_type": "markdown",
   "metadata": {},
   "source": [
    "- **Analysing 'trajet'**"
   ]
  },
  {
   "cell_type": "code",
   "execution_count": 75,
   "metadata": {},
   "outputs": [
    {
     "data": {
      "text/plain": [
       " 5    0.493987\n",
       " 0    0.205947\n",
       " 1    0.150824\n",
       " 9    0.060675\n",
       " 2    0.039555\n",
       " 4    0.029877\n",
       " 3    0.018538\n",
       "-1    0.000597\n",
       "Name: trajet, dtype: float64"
      ]
     },
     "execution_count": 75,
     "metadata": {},
     "output_type": "execute_result"
    }
   ],
   "source": [
    "df.trajet.value_counts(normalize=True)"
   ]
  },
  {
   "cell_type": "markdown",
   "metadata": {},
   "source": [
    "0 and -1 corresponds to unspecified values, wich represents more than 20%. We drop 'trajet'."
   ]
  },
  {
   "cell_type": "code",
   "execution_count": 76,
   "metadata": {},
   "outputs": [],
   "source": [
    "#drop 'trajet'\n",
    "df.drop('trajet', axis=1, inplace=True )"
   ]
  },
  {
   "cell_type": "markdown",
   "metadata": {},
   "source": [
    "- **Replace 'an_nais' with 'age':**"
   ]
  },
  {
   "cell_type": "code",
   "execution_count": 77,
   "metadata": {},
   "outputs": [],
   "source": [
    "#we drop unspecified lines for 'an_naiss':\n",
    "df= df[df.an_nais!=-1]\n",
    "\n",
    "#we calculate 'age' and we drop 'an_nai':(we add 1 to avoide the 0 cases)\n",
    "df['age'] = df.an - df.an_nais + 1\n",
    "df.drop('an_nais', axis=1, inplace=True )\n",
    "\n",
    "#select age<100\n",
    "df= df[df.age<100]"
   ]
  },
  {
   "cell_type": "markdown",
   "metadata": {},
   "source": [
    "- **Adjust data labeling for 'secu':**"
   ]
  },
  {
   "cell_type": "code",
   "execution_count": 78,
   "metadata": {},
   "outputs": [
    {
     "data": {
      "text/plain": [
       "-1    0.496074\n",
       " 2    0.250672\n",
       " 0    0.198261\n",
       " 9    0.030748\n",
       " 4    0.023610\n",
       " 1    0.000493\n",
       " 3    0.000143\n",
       "Name: secu, dtype: float64"
      ]
     },
     "execution_count": 78,
     "metadata": {},
     "output_type": "execute_result"
    }
   ],
   "source": [
    "#Rename secu1 to secu\n",
    "df.rename({'secu1':'secu'}, axis = 'columns', inplace= True)\n",
    "\n",
    "#Adjust values in 2019-2020 to match the labeling in =<2018\n",
    "df.secu.replace([[5,6,7], 8], [9, -1], inplace=True )\n",
    "\n",
    "#counting values\n",
    "df.secu.value_counts(normalize=True)"
   ]
  },
  {
   "cell_type": "markdown",
   "metadata": {},
   "source": [
    "Most of the 'secu' values for bicycle are not specified, therefore we drop it"
   ]
  },
  {
   "cell_type": "code",
   "execution_count": 79,
   "metadata": {},
   "outputs": [],
   "source": [
    "#drop 'secu'\n",
    "df.drop('secu', axis=1, inplace=True )"
   ]
  },
  {
   "cell_type": "markdown",
   "metadata": {},
   "source": [
    "- **Limiting categories in 'infra' to two: *Yes*, *No***"
   ]
  },
  {
   "cell_type": "code",
   "execution_count": 80,
   "metadata": {},
   "outputs": [
    {
     "data": {
      "text/plain": [
       " 0    0.869362\n",
       " 1    0.116088\n",
       "-1    0.014550\n",
       "Name: infra, dtype: float64"
      ]
     },
     "execution_count": 80,
     "metadata": {},
     "output_type": "execute_result"
    }
   ],
   "source": [
    "#transform categories in 'infra' to 1 (presence of roadworks) & 0 (absence of roadworks)\n",
    "df.loc[df.infra >= 1, 'infra' ] = 1\n",
    "\n",
    "#count values\n",
    "df.infra.value_counts(normalize=True)"
   ]
  },
  {
   "cell_type": "code",
   "execution_count": 81,
   "metadata": {},
   "outputs": [
    {
     "data": {
      "text/plain": [
       " 2     44354\n",
       " 1     13139\n",
       " 0      8176\n",
       " 4      5001\n",
       " 3      4531\n",
       " 5       640\n",
       " 6       597\n",
       "-1       331\n",
       " 8       116\n",
       " 7        78\n",
       " 10       22\n",
       " 20       21\n",
       " 9        13\n",
       " 50       12\n",
       " 30        4\n",
       " 12        3\n",
       " 13        2\n",
       " 24        1\n",
       " 26        1\n",
       " 90        1\n",
       " 28        1\n",
       " 11        1\n",
       "Name: nbv, dtype: int64"
      ]
     },
     "execution_count": 81,
     "metadata": {},
     "output_type": "execute_result"
    }
   ],
   "source": [
    "df.nbv.value_counts()"
   ]
  },
  {
   "cell_type": "markdown",
   "metadata": {},
   "source": [
    "- **Limiting categories in 'nbv' to two:**\n",
    "    \n",
    "    1. We replace 0 value with mode of nbv: it's impossible to have 0 lanes on a road, so we assume that in this case it was the mode, wich is 2 lanes.\n",
    "    2. We include the lanes with 4 lanes or more in the 4th category."
   ]
  },
  {
   "cell_type": "code",
   "execution_count": 82,
   "metadata": {},
   "outputs": [],
   "source": [
    "#replace 0 with mode:\n",
    "df['nbv'] = df.nbv.replace(0,2)\n",
    "\n",
    "#We create a category for more than 4 lanes:\n",
    "df.loc[df.nbv>=4 , 'nbv' ] = 4"
   ]
  },
  {
   "cell_type": "markdown",
   "metadata": {},
   "source": [
    "- **Analysing the unspecified values:**"
   ]
  },
  {
   "cell_type": "code",
   "execution_count": 83,
   "metadata": {},
   "outputs": [
    {
     "data": {
      "text/plain": [
       "{'grav': 0.0,\n",
       " 'sexe': 0.0,\n",
       " 'an': 0.0,\n",
       " 'mois': 0.0,\n",
       " 'jour': 0.0,\n",
       " 'hrmn': 0.0,\n",
       " 'lum': 0.0,\n",
       " 'agg': 0.0,\n",
       " 'int': 0.0,\n",
       " 'atm': 0.0,\n",
       " 'catr': 0.0,\n",
       " 'circ': 1.03,\n",
       " 'nbv': 0.43,\n",
       " 'vosp': 0.56,\n",
       " 'plan': 0.29,\n",
       " 'surf': 0.0,\n",
       " 'infra': 1.45,\n",
       " 'situ': 0.69,\n",
       " 'age': 0.0}"
      ]
     },
     "execution_count": 83,
     "metadata": {},
     "output_type": "execute_result"
    }
   ],
   "source": [
    "#calculate unspecified value of each column\n",
    "unspec_val= {}\n",
    "for col in df.columns:\n",
    "    c = df[df[col]==-1 ][col].count()\n",
    "    unspec_val[col]= round(c / df.shape[0]*100 , 2)\n",
    "\n",
    "unspec_val"
   ]
  },
  {
   "cell_type": "markdown",
   "metadata": {},
   "source": [
    "The remaining unspecified values have a small percentage. We can drop them."
   ]
  },
  {
   "cell_type": "code",
   "execution_count": 84,
   "metadata": {},
   "outputs": [],
   "source": [
    "#drop -1 rows in df:\n",
    "for col in df.columns.tolist():\n",
    "    if df[col].dtype=='int64':\n",
    "        df = df[df[col] >= 0]\n",
    "\n",
    "#if we replace them with nan and then drop nan, types change to float"
   ]
  },
  {
   "cell_type": "markdown",
   "metadata": {},
   "source": [
    "- **Reseting index column:**"
   ]
  },
  {
   "cell_type": "code",
   "execution_count": 85,
   "metadata": {},
   "outputs": [],
   "source": [
    "#is useful if you are going to set index argument to True in '.t_csv'\n",
    "df.reset_index(drop=True, inplace=True)"
   ]
  },
  {
   "cell_type": "markdown",
   "metadata": {},
   "source": [
    "\n",
    "***\n",
    "### Save the filtered dataset:\n",
    "- Export the filtered file for bicycle accidents to *bicycle_accidents_05_20_filtered.csv'* in **data/** folder:"
   ]
  },
  {
   "cell_type": "code",
   "execution_count": 86,
   "metadata": {},
   "outputs": [],
   "source": [
    "#Generate the filtered dataset for bicycles:\n",
    "df.to_csv(path_or_buf= 'data/bicycle_accidents_05_20_filtered.csv',sep=';', index=False)"
   ]
  },
  {
   "cell_type": "code",
   "execution_count": 87,
   "metadata": {},
   "outputs": [
    {
     "name": "stdout",
     "output_type": "stream",
     "text": [
      "Columns of the filtered dataset :  ['grav', 'sexe', 'an', 'mois', 'jour', 'hrmn', 'lum', 'agg', 'int', 'atm', 'catr', 'circ', 'nbv', 'vosp', 'plan', 'surf', 'infra', 'situ', 'age']\n"
     ]
    },
    {
     "data": {
      "text/html": [
       "<div>\n",
       "<style scoped>\n",
       "    .dataframe tbody tr th:only-of-type {\n",
       "        vertical-align: middle;\n",
       "    }\n",
       "\n",
       "    .dataframe tbody tr th {\n",
       "        vertical-align: top;\n",
       "    }\n",
       "\n",
       "    .dataframe thead th {\n",
       "        text-align: right;\n",
       "    }\n",
       "</style>\n",
       "<table border=\"1\" class=\"dataframe\">\n",
       "  <thead>\n",
       "    <tr style=\"text-align: right;\">\n",
       "      <th></th>\n",
       "      <th>grav</th>\n",
       "      <th>sexe</th>\n",
       "      <th>an</th>\n",
       "      <th>mois</th>\n",
       "      <th>jour</th>\n",
       "      <th>hrmn</th>\n",
       "      <th>lum</th>\n",
       "      <th>agg</th>\n",
       "      <th>int</th>\n",
       "      <th>atm</th>\n",
       "      <th>catr</th>\n",
       "      <th>circ</th>\n",
       "      <th>nbv</th>\n",
       "      <th>vosp</th>\n",
       "      <th>plan</th>\n",
       "      <th>surf</th>\n",
       "      <th>infra</th>\n",
       "      <th>situ</th>\n",
       "      <th>age</th>\n",
       "    </tr>\n",
       "  </thead>\n",
       "  <tbody>\n",
       "    <tr>\n",
       "      <th>0</th>\n",
       "      <td>4</td>\n",
       "      <td>1</td>\n",
       "      <td>2005</td>\n",
       "      <td>1</td>\n",
       "      <td>13</td>\n",
       "      <td>19:45</td>\n",
       "      <td>5</td>\n",
       "      <td>2</td>\n",
       "      <td>1</td>\n",
       "      <td>1</td>\n",
       "      <td>3</td>\n",
       "      <td>2</td>\n",
       "      <td>2</td>\n",
       "      <td>0</td>\n",
       "      <td>1</td>\n",
       "      <td>1</td>\n",
       "      <td>0</td>\n",
       "      <td>1</td>\n",
       "      <td>59</td>\n",
       "    </tr>\n",
       "    <tr>\n",
       "      <th>1</th>\n",
       "      <td>3</td>\n",
       "      <td>1</td>\n",
       "      <td>2005</td>\n",
       "      <td>1</td>\n",
       "      <td>19</td>\n",
       "      <td>10:45</td>\n",
       "      <td>1</td>\n",
       "      <td>1</td>\n",
       "      <td>1</td>\n",
       "      <td>7</td>\n",
       "      <td>3</td>\n",
       "      <td>2</td>\n",
       "      <td>2</td>\n",
       "      <td>0</td>\n",
       "      <td>3</td>\n",
       "      <td>1</td>\n",
       "      <td>0</td>\n",
       "      <td>1</td>\n",
       "      <td>21</td>\n",
       "    </tr>\n",
       "    <tr>\n",
       "      <th>2</th>\n",
       "      <td>4</td>\n",
       "      <td>1</td>\n",
       "      <td>2005</td>\n",
       "      <td>1</td>\n",
       "      <td>26</td>\n",
       "      <td>13:15</td>\n",
       "      <td>1</td>\n",
       "      <td>1</td>\n",
       "      <td>9</td>\n",
       "      <td>1</td>\n",
       "      <td>3</td>\n",
       "      <td>2</td>\n",
       "      <td>2</td>\n",
       "      <td>0</td>\n",
       "      <td>1</td>\n",
       "      <td>1</td>\n",
       "      <td>0</td>\n",
       "      <td>1</td>\n",
       "      <td>72</td>\n",
       "    </tr>\n",
       "    <tr>\n",
       "      <th>3</th>\n",
       "      <td>3</td>\n",
       "      <td>2</td>\n",
       "      <td>2005</td>\n",
       "      <td>1</td>\n",
       "      <td>3</td>\n",
       "      <td>13:30</td>\n",
       "      <td>1</td>\n",
       "      <td>2</td>\n",
       "      <td>1</td>\n",
       "      <td>1</td>\n",
       "      <td>3</td>\n",
       "      <td>2</td>\n",
       "      <td>2</td>\n",
       "      <td>0</td>\n",
       "      <td>2</td>\n",
       "      <td>1</td>\n",
       "      <td>0</td>\n",
       "      <td>1</td>\n",
       "      <td>52</td>\n",
       "    </tr>\n",
       "    <tr>\n",
       "      <th>4</th>\n",
       "      <td>4</td>\n",
       "      <td>1</td>\n",
       "      <td>2005</td>\n",
       "      <td>1</td>\n",
       "      <td>29</td>\n",
       "      <td>18:30</td>\n",
       "      <td>3</td>\n",
       "      <td>1</td>\n",
       "      <td>1</td>\n",
       "      <td>1</td>\n",
       "      <td>3</td>\n",
       "      <td>2</td>\n",
       "      <td>2</td>\n",
       "      <td>0</td>\n",
       "      <td>1</td>\n",
       "      <td>1</td>\n",
       "      <td>0</td>\n",
       "      <td>1</td>\n",
       "      <td>75</td>\n",
       "    </tr>\n",
       "    <tr>\n",
       "      <th>...</th>\n",
       "      <td>...</td>\n",
       "      <td>...</td>\n",
       "      <td>...</td>\n",
       "      <td>...</td>\n",
       "      <td>...</td>\n",
       "      <td>...</td>\n",
       "      <td>...</td>\n",
       "      <td>...</td>\n",
       "      <td>...</td>\n",
       "      <td>...</td>\n",
       "      <td>...</td>\n",
       "      <td>...</td>\n",
       "      <td>...</td>\n",
       "      <td>...</td>\n",
       "      <td>...</td>\n",
       "      <td>...</td>\n",
       "      <td>...</td>\n",
       "      <td>...</td>\n",
       "      <td>...</td>\n",
       "    </tr>\n",
       "    <tr>\n",
       "      <th>74922</th>\n",
       "      <td>3</td>\n",
       "      <td>2</td>\n",
       "      <td>2020</td>\n",
       "      <td>11</td>\n",
       "      <td>30</td>\n",
       "      <td>14:25</td>\n",
       "      <td>1</td>\n",
       "      <td>2</td>\n",
       "      <td>1</td>\n",
       "      <td>1</td>\n",
       "      <td>7</td>\n",
       "      <td>2</td>\n",
       "      <td>4</td>\n",
       "      <td>1</td>\n",
       "      <td>1</td>\n",
       "      <td>1</td>\n",
       "      <td>0</td>\n",
       "      <td>5</td>\n",
       "      <td>61</td>\n",
       "    </tr>\n",
       "    <tr>\n",
       "      <th>74923</th>\n",
       "      <td>4</td>\n",
       "      <td>2</td>\n",
       "      <td>2020</td>\n",
       "      <td>11</td>\n",
       "      <td>30</td>\n",
       "      <td>17:38</td>\n",
       "      <td>1</td>\n",
       "      <td>2</td>\n",
       "      <td>1</td>\n",
       "      <td>1</td>\n",
       "      <td>4</td>\n",
       "      <td>2</td>\n",
       "      <td>2</td>\n",
       "      <td>0</td>\n",
       "      <td>1</td>\n",
       "      <td>1</td>\n",
       "      <td>0</td>\n",
       "      <td>1</td>\n",
       "      <td>67</td>\n",
       "    </tr>\n",
       "    <tr>\n",
       "      <th>74924</th>\n",
       "      <td>4</td>\n",
       "      <td>1</td>\n",
       "      <td>2020</td>\n",
       "      <td>12</td>\n",
       "      <td>1</td>\n",
       "      <td>11:11</td>\n",
       "      <td>1</td>\n",
       "      <td>2</td>\n",
       "      <td>3</td>\n",
       "      <td>1</td>\n",
       "      <td>4</td>\n",
       "      <td>2</td>\n",
       "      <td>2</td>\n",
       "      <td>0</td>\n",
       "      <td>1</td>\n",
       "      <td>1</td>\n",
       "      <td>0</td>\n",
       "      <td>1</td>\n",
       "      <td>67</td>\n",
       "    </tr>\n",
       "    <tr>\n",
       "      <th>74925</th>\n",
       "      <td>4</td>\n",
       "      <td>2</td>\n",
       "      <td>2020</td>\n",
       "      <td>12</td>\n",
       "      <td>1</td>\n",
       "      <td>13:30</td>\n",
       "      <td>1</td>\n",
       "      <td>2</td>\n",
       "      <td>4</td>\n",
       "      <td>2</td>\n",
       "      <td>4</td>\n",
       "      <td>2</td>\n",
       "      <td>2</td>\n",
       "      <td>0</td>\n",
       "      <td>3</td>\n",
       "      <td>2</td>\n",
       "      <td>0</td>\n",
       "      <td>8</td>\n",
       "      <td>61</td>\n",
       "    </tr>\n",
       "    <tr>\n",
       "      <th>74926</th>\n",
       "      <td>3</td>\n",
       "      <td>1</td>\n",
       "      <td>2020</td>\n",
       "      <td>11</td>\n",
       "      <td>30</td>\n",
       "      <td>16:30</td>\n",
       "      <td>1</td>\n",
       "      <td>1</td>\n",
       "      <td>3</td>\n",
       "      <td>7</td>\n",
       "      <td>3</td>\n",
       "      <td>2</td>\n",
       "      <td>2</td>\n",
       "      <td>0</td>\n",
       "      <td>2</td>\n",
       "      <td>1</td>\n",
       "      <td>0</td>\n",
       "      <td>1</td>\n",
       "      <td>64</td>\n",
       "    </tr>\n",
       "  </tbody>\n",
       "</table>\n",
       "<p>74927 rows × 19 columns</p>\n",
       "</div>"
      ],
      "text/plain": [
       "       grav  sexe    an  mois  jour   hrmn  lum  agg  int  atm  catr  circ  \\\n",
       "0         4     1  2005     1    13  19:45    5    2    1    1     3     2   \n",
       "1         3     1  2005     1    19  10:45    1    1    1    7     3     2   \n",
       "2         4     1  2005     1    26  13:15    1    1    9    1     3     2   \n",
       "3         3     2  2005     1     3  13:30    1    2    1    1     3     2   \n",
       "4         4     1  2005     1    29  18:30    3    1    1    1     3     2   \n",
       "...     ...   ...   ...   ...   ...    ...  ...  ...  ...  ...   ...   ...   \n",
       "74922     3     2  2020    11    30  14:25    1    2    1    1     7     2   \n",
       "74923     4     2  2020    11    30  17:38    1    2    1    1     4     2   \n",
       "74924     4     1  2020    12     1  11:11    1    2    3    1     4     2   \n",
       "74925     4     2  2020    12     1  13:30    1    2    4    2     4     2   \n",
       "74926     3     1  2020    11    30  16:30    1    1    3    7     3     2   \n",
       "\n",
       "       nbv  vosp  plan  surf  infra  situ  age  \n",
       "0        2     0     1     1      0     1   59  \n",
       "1        2     0     3     1      0     1   21  \n",
       "2        2     0     1     1      0     1   72  \n",
       "3        2     0     2     1      0     1   52  \n",
       "4        2     0     1     1      0     1   75  \n",
       "...    ...   ...   ...   ...    ...   ...  ...  \n",
       "74922    4     1     1     1      0     5   61  \n",
       "74923    2     0     1     1      0     1   67  \n",
       "74924    2     0     1     1      0     1   67  \n",
       "74925    2     0     3     2      0     8   61  \n",
       "74926    2     0     2     1      0     1   64  \n",
       "\n",
       "[74927 rows x 19 columns]"
      ]
     },
     "execution_count": 87,
     "metadata": {},
     "output_type": "execute_result"
    }
   ],
   "source": [
    "#test\n",
    "y= pd.read_csv('data/bicycle_accidents_05_20_filtered.csv', sep=';' )\n",
    "print(\"Columns of the filtered dataset : \", y.columns.tolist())\n",
    "y"
   ]
  }
 ],
 "metadata": {
  "interpreter": {
   "hash": "88b268b946e6b9d10346be74fc6b3a4af92f9a55cc7f17ede97cd616bb838858"
  },
  "kernelspec": {
   "display_name": "Python 3.8.8 64-bit ('base': conda)",
   "language": "python",
   "name": "python3"
  },
  "language_info": {
   "codemirror_mode": {
    "name": "ipython",
    "version": 3
   },
   "file_extension": ".py",
   "mimetype": "text/x-python",
   "name": "python",
   "nbconvert_exporter": "python",
   "pygments_lexer": "ipython3",
   "version": "3.8.8"
  },
  "orig_nbformat": 4
 },
 "nbformat": 4,
 "nbformat_minor": 2
}
