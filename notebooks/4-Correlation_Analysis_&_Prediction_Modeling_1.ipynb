{
 "cells": [
  {
   "cell_type": "markdown",
   "metadata": {},
   "source": [
    "# Generating prediction models for bicycle accidents 2005-2020"
   ]
  },
  {
   "cell_type": "markdown",
   "metadata": {},
   "source": [
    "### Introduction"
   ]
  },
  {
   "cell_type": "markdown",
   "metadata": {},
   "source": [
    "The goal of this notebook is to find models that are suited for our use case, and try to improve their performance by testing different sets of parameters, reducing & resampling data."
   ]
  },
  {
   "cell_type": "markdown",
   "metadata": {},
   "source": [
    "### Import Libraries & packages"
   ]
  },
  {
   "cell_type": "code",
   "execution_count": 27,
   "metadata": {},
   "outputs": [],
   "source": [
    "import pandas as pd\n",
    "import numpy as np\n",
    "from scipy.stats import chi2_contingency\n",
    "import statsmodels.api as sm\n",
    "from statsmodels.formula.api import ols\n",
    "\n",
    "from sklearn.model_selection import train_test_split\n",
    "from sklearn.feature_selection import SelectKBest\n",
    "from sklearn.feature_selection import chi2\n",
    "from sklearn.metrics import mean_squared_error\n",
    "\n",
    "from sklearn.model_selection import GridSearchCV, StratifiedShuffleSplit, StratifiedKFold\n",
    "from sklearn.tree import DecisionTreeClassifier\n",
    "from sklearn.neighbors import KNeighborsClassifier\n",
    "from sklearn.svm import SVC\n",
    "from sklearn.ensemble import RandomForestClassifier\n",
    "from sklearn.linear_model import LassoCV\n",
    "\n",
    "import plotly.express as px\n",
    "import seaborn as sns\n",
    "import matplotlib.pyplot as plt\n",
    "%matplotlib inline\n",
    "\n",
    "from timeit import default_timer as timer\n",
    "from datetime import timedelta\n",
    "from joblib import dump, load"
   ]
  },
  {
   "cell_type": "markdown",
   "metadata": {},
   "source": [
    "### Import filtered dataset for bicycle accidents 2005-2020"
   ]
  },
  {
   "cell_type": "code",
   "execution_count": 3,
   "metadata": {},
   "outputs": [
    {
     "data": {
      "text/html": [
       "<div>\n",
       "<style scoped>\n",
       "    .dataframe tbody tr th:only-of-type {\n",
       "        vertical-align: middle;\n",
       "    }\n",
       "\n",
       "    .dataframe tbody tr th {\n",
       "        vertical-align: top;\n",
       "    }\n",
       "\n",
       "    .dataframe thead th {\n",
       "        text-align: right;\n",
       "    }\n",
       "</style>\n",
       "<table border=\"1\" class=\"dataframe\">\n",
       "  <thead>\n",
       "    <tr style=\"text-align: right;\">\n",
       "      <th></th>\n",
       "      <th>grav</th>\n",
       "      <th>sexe</th>\n",
       "      <th>an</th>\n",
       "      <th>mois</th>\n",
       "      <th>jour</th>\n",
       "      <th>hrmn</th>\n",
       "      <th>lum</th>\n",
       "      <th>agg</th>\n",
       "      <th>int</th>\n",
       "      <th>atm</th>\n",
       "      <th>catr</th>\n",
       "      <th>circ</th>\n",
       "      <th>nbv</th>\n",
       "      <th>vosp</th>\n",
       "      <th>plan</th>\n",
       "      <th>surf</th>\n",
       "      <th>infra</th>\n",
       "      <th>situ</th>\n",
       "      <th>age</th>\n",
       "    </tr>\n",
       "  </thead>\n",
       "  <tbody>\n",
       "    <tr>\n",
       "      <th>0</th>\n",
       "      <td>4</td>\n",
       "      <td>1</td>\n",
       "      <td>2005</td>\n",
       "      <td>1</td>\n",
       "      <td>13</td>\n",
       "      <td>19:45</td>\n",
       "      <td>5</td>\n",
       "      <td>2</td>\n",
       "      <td>1</td>\n",
       "      <td>1</td>\n",
       "      <td>3</td>\n",
       "      <td>2</td>\n",
       "      <td>2</td>\n",
       "      <td>0</td>\n",
       "      <td>1</td>\n",
       "      <td>1</td>\n",
       "      <td>0</td>\n",
       "      <td>1</td>\n",
       "      <td>59</td>\n",
       "    </tr>\n",
       "    <tr>\n",
       "      <th>1</th>\n",
       "      <td>3</td>\n",
       "      <td>1</td>\n",
       "      <td>2005</td>\n",
       "      <td>1</td>\n",
       "      <td>19</td>\n",
       "      <td>10:45</td>\n",
       "      <td>1</td>\n",
       "      <td>1</td>\n",
       "      <td>1</td>\n",
       "      <td>7</td>\n",
       "      <td>3</td>\n",
       "      <td>2</td>\n",
       "      <td>2</td>\n",
       "      <td>0</td>\n",
       "      <td>3</td>\n",
       "      <td>1</td>\n",
       "      <td>0</td>\n",
       "      <td>1</td>\n",
       "      <td>21</td>\n",
       "    </tr>\n",
       "    <tr>\n",
       "      <th>2</th>\n",
       "      <td>4</td>\n",
       "      <td>1</td>\n",
       "      <td>2005</td>\n",
       "      <td>1</td>\n",
       "      <td>26</td>\n",
       "      <td>13:15</td>\n",
       "      <td>1</td>\n",
       "      <td>1</td>\n",
       "      <td>9</td>\n",
       "      <td>1</td>\n",
       "      <td>3</td>\n",
       "      <td>2</td>\n",
       "      <td>2</td>\n",
       "      <td>0</td>\n",
       "      <td>1</td>\n",
       "      <td>1</td>\n",
       "      <td>0</td>\n",
       "      <td>1</td>\n",
       "      <td>72</td>\n",
       "    </tr>\n",
       "    <tr>\n",
       "      <th>3</th>\n",
       "      <td>3</td>\n",
       "      <td>2</td>\n",
       "      <td>2005</td>\n",
       "      <td>1</td>\n",
       "      <td>3</td>\n",
       "      <td>13:30</td>\n",
       "      <td>1</td>\n",
       "      <td>2</td>\n",
       "      <td>1</td>\n",
       "      <td>1</td>\n",
       "      <td>3</td>\n",
       "      <td>2</td>\n",
       "      <td>2</td>\n",
       "      <td>0</td>\n",
       "      <td>2</td>\n",
       "      <td>1</td>\n",
       "      <td>0</td>\n",
       "      <td>1</td>\n",
       "      <td>52</td>\n",
       "    </tr>\n",
       "    <tr>\n",
       "      <th>4</th>\n",
       "      <td>4</td>\n",
       "      <td>1</td>\n",
       "      <td>2005</td>\n",
       "      <td>1</td>\n",
       "      <td>29</td>\n",
       "      <td>18:30</td>\n",
       "      <td>3</td>\n",
       "      <td>1</td>\n",
       "      <td>1</td>\n",
       "      <td>1</td>\n",
       "      <td>3</td>\n",
       "      <td>2</td>\n",
       "      <td>2</td>\n",
       "      <td>0</td>\n",
       "      <td>1</td>\n",
       "      <td>1</td>\n",
       "      <td>0</td>\n",
       "      <td>1</td>\n",
       "      <td>75</td>\n",
       "    </tr>\n",
       "    <tr>\n",
       "      <th>...</th>\n",
       "      <td>...</td>\n",
       "      <td>...</td>\n",
       "      <td>...</td>\n",
       "      <td>...</td>\n",
       "      <td>...</td>\n",
       "      <td>...</td>\n",
       "      <td>...</td>\n",
       "      <td>...</td>\n",
       "      <td>...</td>\n",
       "      <td>...</td>\n",
       "      <td>...</td>\n",
       "      <td>...</td>\n",
       "      <td>...</td>\n",
       "      <td>...</td>\n",
       "      <td>...</td>\n",
       "      <td>...</td>\n",
       "      <td>...</td>\n",
       "      <td>...</td>\n",
       "      <td>...</td>\n",
       "    </tr>\n",
       "    <tr>\n",
       "      <th>74922</th>\n",
       "      <td>3</td>\n",
       "      <td>2</td>\n",
       "      <td>2020</td>\n",
       "      <td>11</td>\n",
       "      <td>30</td>\n",
       "      <td>14:25</td>\n",
       "      <td>1</td>\n",
       "      <td>2</td>\n",
       "      <td>1</td>\n",
       "      <td>1</td>\n",
       "      <td>7</td>\n",
       "      <td>2</td>\n",
       "      <td>4</td>\n",
       "      <td>1</td>\n",
       "      <td>1</td>\n",
       "      <td>1</td>\n",
       "      <td>0</td>\n",
       "      <td>5</td>\n",
       "      <td>61</td>\n",
       "    </tr>\n",
       "    <tr>\n",
       "      <th>74923</th>\n",
       "      <td>4</td>\n",
       "      <td>2</td>\n",
       "      <td>2020</td>\n",
       "      <td>11</td>\n",
       "      <td>30</td>\n",
       "      <td>17:38</td>\n",
       "      <td>1</td>\n",
       "      <td>2</td>\n",
       "      <td>1</td>\n",
       "      <td>1</td>\n",
       "      <td>4</td>\n",
       "      <td>2</td>\n",
       "      <td>2</td>\n",
       "      <td>0</td>\n",
       "      <td>1</td>\n",
       "      <td>1</td>\n",
       "      <td>0</td>\n",
       "      <td>1</td>\n",
       "      <td>67</td>\n",
       "    </tr>\n",
       "    <tr>\n",
       "      <th>74924</th>\n",
       "      <td>4</td>\n",
       "      <td>1</td>\n",
       "      <td>2020</td>\n",
       "      <td>12</td>\n",
       "      <td>1</td>\n",
       "      <td>11:11</td>\n",
       "      <td>1</td>\n",
       "      <td>2</td>\n",
       "      <td>3</td>\n",
       "      <td>1</td>\n",
       "      <td>4</td>\n",
       "      <td>2</td>\n",
       "      <td>2</td>\n",
       "      <td>0</td>\n",
       "      <td>1</td>\n",
       "      <td>1</td>\n",
       "      <td>0</td>\n",
       "      <td>1</td>\n",
       "      <td>67</td>\n",
       "    </tr>\n",
       "    <tr>\n",
       "      <th>74925</th>\n",
       "      <td>4</td>\n",
       "      <td>2</td>\n",
       "      <td>2020</td>\n",
       "      <td>12</td>\n",
       "      <td>1</td>\n",
       "      <td>13:30</td>\n",
       "      <td>1</td>\n",
       "      <td>2</td>\n",
       "      <td>4</td>\n",
       "      <td>2</td>\n",
       "      <td>4</td>\n",
       "      <td>2</td>\n",
       "      <td>2</td>\n",
       "      <td>0</td>\n",
       "      <td>3</td>\n",
       "      <td>2</td>\n",
       "      <td>0</td>\n",
       "      <td>8</td>\n",
       "      <td>61</td>\n",
       "    </tr>\n",
       "    <tr>\n",
       "      <th>74926</th>\n",
       "      <td>3</td>\n",
       "      <td>1</td>\n",
       "      <td>2020</td>\n",
       "      <td>11</td>\n",
       "      <td>30</td>\n",
       "      <td>16:30</td>\n",
       "      <td>1</td>\n",
       "      <td>1</td>\n",
       "      <td>3</td>\n",
       "      <td>7</td>\n",
       "      <td>3</td>\n",
       "      <td>2</td>\n",
       "      <td>2</td>\n",
       "      <td>0</td>\n",
       "      <td>2</td>\n",
       "      <td>1</td>\n",
       "      <td>0</td>\n",
       "      <td>1</td>\n",
       "      <td>64</td>\n",
       "    </tr>\n",
       "  </tbody>\n",
       "</table>\n",
       "<p>74927 rows × 19 columns</p>\n",
       "</div>"
      ],
      "text/plain": [
       "       grav  sexe    an  mois  jour   hrmn  lum  agg  int  atm  catr  circ  \\\n",
       "0         4     1  2005     1    13  19:45    5    2    1    1     3     2   \n",
       "1         3     1  2005     1    19  10:45    1    1    1    7     3     2   \n",
       "2         4     1  2005     1    26  13:15    1    1    9    1     3     2   \n",
       "3         3     2  2005     1     3  13:30    1    2    1    1     3     2   \n",
       "4         4     1  2005     1    29  18:30    3    1    1    1     3     2   \n",
       "...     ...   ...   ...   ...   ...    ...  ...  ...  ...  ...   ...   ...   \n",
       "74922     3     2  2020    11    30  14:25    1    2    1    1     7     2   \n",
       "74923     4     2  2020    11    30  17:38    1    2    1    1     4     2   \n",
       "74924     4     1  2020    12     1  11:11    1    2    3    1     4     2   \n",
       "74925     4     2  2020    12     1  13:30    1    2    4    2     4     2   \n",
       "74926     3     1  2020    11    30  16:30    1    1    3    7     3     2   \n",
       "\n",
       "       nbv  vosp  plan  surf  infra  situ  age  \n",
       "0        2     0     1     1      0     1   59  \n",
       "1        2     0     3     1      0     1   21  \n",
       "2        2     0     1     1      0     1   72  \n",
       "3        2     0     2     1      0     1   52  \n",
       "4        2     0     1     1      0     1   75  \n",
       "...    ...   ...   ...   ...    ...   ...  ...  \n",
       "74922    4     1     1     1      0     5   61  \n",
       "74923    2     0     1     1      0     1   67  \n",
       "74924    2     0     1     1      0     1   67  \n",
       "74925    2     0     3     2      0     8   61  \n",
       "74926    2     0     2     1      0     1   64  \n",
       "\n",
       "[74927 rows x 19 columns]"
      ]
     },
     "execution_count": 3,
     "metadata": {},
     "output_type": "execute_result"
    }
   ],
   "source": [
    "df= pd.read_csv('data/bicycle_accidents_05_20_filtered.csv',sep=';', squeeze=True)\n",
    "df"
   ]
  },
  {
   "cell_type": "markdown",
   "metadata": {},
   "source": [
    "### Define the target variable and the features"
   ]
  },
  {
   "cell_type": "code",
   "execution_count": 4,
   "metadata": {},
   "outputs": [],
   "source": [
    "#selecting explanatory features\n",
    "data= df.drop(['grav', 'an', 'mois', 'jour', 'hrmn'],1)\n",
    "\n",
    "#selecting target variable\n",
    "target= df['grav']"
   ]
  },
  {
   "cell_type": "code",
   "execution_count": 5,
   "metadata": {},
   "outputs": [
    {
     "data": {
      "text/plain": [
       "sexe      2\n",
       "lum       5\n",
       "agg       2\n",
       "int      10\n",
       "atm       9\n",
       "catr      8\n",
       "circ      5\n",
       "nbv       4\n",
       "vosp      4\n",
       "plan      5\n",
       "surf      9\n",
       "infra     2\n",
       "situ      8\n",
       "age      99\n",
       "dtype: int64"
      ]
     },
     "execution_count": 5,
     "metadata": {},
     "output_type": "execute_result"
    }
   ],
   "source": [
    "#Display the count of unique values of each feature:\n",
    "data.nunique()"
   ]
  },
  {
   "cell_type": "markdown",
   "metadata": {},
   "source": [
    "***"
   ]
  },
  {
   "cell_type": "markdown",
   "metadata": {},
   "source": [
    "### Analyse correlation between features\n",
    "#### Analyse correlation between categorical features\n",
    "\n",
    "- All the features in data are categorical, exept for 'age'. To study dependency between categorical features we use the  Chi-Square test,\n",
    "if the p-value is less then 5% we reject the hypothesis of independence."
   ]
  },
  {
   "cell_type": "code",
   "execution_count": 6,
   "metadata": {},
   "outputs": [
    {
     "data": {
      "image/png": "[encoded data removed]",
      "text/plain": [
       "<Figure size 720x576 with 2 Axes>"
      ]
     },
     "metadata": {
      "needs_background": "light"
     },
     "output_type": "display_data"
    }
   ],
   "source": [
    "#Categorical features of data:\n",
    "cat_features= data.columns.tolist()\n",
    "cat_features.remove('age')\n",
    "\n",
    "#create a matrix for p-values between each two categorial features\n",
    "pvalueM = pd.DataFrame(index=cat_features, columns=cat_features)\n",
    "\n",
    "for col1 in cat_features:\n",
    "    for col2 in cat_features:\n",
    "        table= pd.crosstab(data[col1] , data[col2])\n",
    "        p_value= chi2_contingency( table)[1]\n",
    "        pvalueM.loc[ col1, col2 ]= round(p_value*100 ,2)\n",
    "\n",
    "mask= np.triu(np.ones_like(pvalueM, dtype=bool))\n",
    "pvalueM = pvalueM.astype('int64')\n",
    "plt.figure(figsize=(10, 8) )\n",
    "cmap= sns.diverging_palette(220, 20, as_cmap=False)\n",
    "sns.heatmap(pvalueM , annot=True, mask=mask,  cmap=\"rocket_r\", vmin=0, vmax=100, linewidths=.5) \n",
    "plt.title('p_value between categorical features (%)');"
   ]
  },
  {
   "cell_type": "markdown",
   "metadata": {},
   "source": [
    "The results of the p-value of the Chi-square test is 0 for almost all the values wich means they are strongly associated. This result doesn't seem to be logical, knowing that a lot of these features are not correlated from a logical point of view, like gender ('sexe) and atmosphere ('atm'). Also, the p-value of a weak association in a large samples size may also result in p = 0."
   ]
  },
  {
   "cell_type": "markdown",
   "metadata": {},
   "source": [
    "- To analyse coorelation between the categorical features we will use another measure: V-Cramer."
   ]
  },
  {
   "cell_type": "code",
   "execution_count": 7,
   "metadata": {},
   "outputs": [],
   "source": [
    "#Define V-Cramer function:\n",
    "def cramers_corrected_stat(confusion_matrix):\n",
    "    chi2 = chi2_contingency(confusion_matrix)[0]\n",
    "    n = confusion_matrix.sum().sum()\n",
    "    phi2 = chi2/n\n",
    "    r,k = confusion_matrix.shape\n",
    "    phi2corr = max(0, phi2 - ((k-1)*(r-1))/(n-1))    \n",
    "    rcorr = r - ((r-1)**2)/(n-1)\n",
    "    kcorr = k - ((k-1)**2)/(n-1)\n",
    "    return np.sqrt(phi2corr / min( (kcorr-1), (rcorr-1)))\n"
   ]
  },
  {
   "cell_type": "code",
   "execution_count": 8,
   "metadata": {},
   "outputs": [
    {
     "data": {
      "image/png": "[encoded data removed]",
      "text/plain": [
       "<Figure size 720x576 with 2 Axes>"
      ]
     },
     "metadata": {
      "needs_background": "light"
     },
     "output_type": "display_data"
    }
   ],
   "source": [
    "#Create a matrix for V_Cramer values between each two categorial features:\n",
    "corrM= pd.DataFrame(index=cat_features, columns=cat_features)\n",
    "\n",
    "for col1 in cat_features:\n",
    "    for col2 in cat_features:\n",
    "        corrM.loc[col1, col2] = round(cramers_corrected_stat(pd.crosstab(df[col1], df[col2])) * 100 ,2)\n",
    "\n",
    "mask= np.triu(np.ones_like(corrM, dtype=bool))\n",
    "corrM = corrM.astype('int64')\n",
    "plt.figure(figsize=(10, 8))\n",
    "sns.heatmap(corrM , annot=True, mask=mask, cmap='rocket_r' , vmin=0, vmax=100, linewidths=.5)\n",
    "plt.title('Correlation between categorical features beased on V-Cramer (%)');"
   ]
  },
  {
   "cell_type": "markdown",
   "metadata": {},
   "source": [
    "The V-Cramer between some features is above 30%, wich is a good score but not enough to prove a stong correlation between two variables."
   ]
  },
  {
   "cell_type": "markdown",
   "metadata": {},
   "source": [
    "#### Analyse correlation between categorical features and numerical feature"
   ]
  },
  {
   "cell_type": "markdown",
   "metadata": {},
   "source": [
    " In the features we have, there's one numerical feature: 'age'. The rest of the features are categorical.\n",
    "To study correlation between 'age' and the rest of the features, we use the ANOVA (Analysis of Variance) test."
   ]
  },
  {
   "cell_type": "code",
   "execution_count": 9,
   "metadata": {},
   "outputs": [
    {
     "data": {
      "text/html": [
       "<div>\n",
       "<style scoped>\n",
       "    .dataframe tbody tr th:only-of-type {\n",
       "        vertical-align: middle;\n",
       "    }\n",
       "\n",
       "    .dataframe tbody tr th {\n",
       "        vertical-align: top;\n",
       "    }\n",
       "\n",
       "    .dataframe thead th {\n",
       "        text-align: right;\n",
       "    }\n",
       "</style>\n",
       "<table border=\"1\" class=\"dataframe\">\n",
       "  <thead>\n",
       "    <tr style=\"text-align: right;\">\n",
       "      <th></th>\n",
       "      <th>sexe</th>\n",
       "      <th>lum</th>\n",
       "      <th>agg</th>\n",
       "      <th>int</th>\n",
       "      <th>atm</th>\n",
       "      <th>catr</th>\n",
       "      <th>circ</th>\n",
       "      <th>nbv</th>\n",
       "      <th>vosp</th>\n",
       "      <th>plan</th>\n",
       "      <th>surf</th>\n",
       "      <th>infra</th>\n",
       "      <th>situ</th>\n",
       "    </tr>\n",
       "  </thead>\n",
       "  <tbody>\n",
       "    <tr>\n",
       "      <th>corr_with_age_(%)</th>\n",
       "      <td>0.003145</td>\n",
       "      <td>0.0</td>\n",
       "      <td>0.0</td>\n",
       "      <td>0.0</td>\n",
       "      <td>0.0</td>\n",
       "      <td>0.0</td>\n",
       "      <td>0.0</td>\n",
       "      <td>0.0</td>\n",
       "      <td>0.0</td>\n",
       "      <td>0.0</td>\n",
       "      <td>0.0</td>\n",
       "      <td>0.0</td>\n",
       "      <td>0.0</td>\n",
       "    </tr>\n",
       "  </tbody>\n",
       "</table>\n",
       "</div>"
      ],
      "text/plain": [
       "                       sexe  lum  agg  int  atm catr circ  nbv vosp plan surf  \\\n",
       "corr_with_age_(%)  0.003145  0.0  0.0  0.0  0.0  0.0  0.0  0.0  0.0  0.0  0.0   \n",
       "\n",
       "                  infra situ  \n",
       "corr_with_age_(%)   0.0  0.0  "
      ]
     },
     "execution_count": 9,
     "metadata": {},
     "output_type": "execute_result"
    }
   ],
   "source": [
    "#create a string assembling categorical features in the forme of 'feature1+feature2+...'\n",
    "features_string='' \n",
    "for col in cat_features:\n",
    "    features_string= col+ '+' + features_string\n",
    "features_string = features_string[:-1]\n",
    "\n",
    "#create a string assembling categorical features in the forme of 'feature1+feature2+...'\n",
    "features_string='' \n",
    "for col in cat_features:\n",
    "    features_string= col+ '+' + features_string\n",
    "features_string = features_string[:-1]\n",
    "\n",
    "#Create a table for the result of ANOVA between the numerical feature 'age' and each one of the categorical features\n",
    "anova_pvalues= pd.DataFrame(columns=cat_features, index=['corr_with_age_(%)'])\n",
    "\n",
    "for col in cat_features:\n",
    "    #Treatment of the pasty library will apply a dummy coding for categorical variable inside smf ols (it's optional)\n",
    "    anova = ols(formula=f'age ~ C({col},Treatment)', data=data).fit()  \n",
    "    table = sm.stats.anova_lm(anova, typ=2)\n",
    "    anova_pvalues.loc['corr_with_age_(%)', col] = table['PR(>F)'][0]*100\n",
    "\n",
    "#print(anova.summary())\n",
    "anova_pvalues"
   ]
  },
  {
   "cell_type": "markdown",
   "metadata": {},
   "source": [
    "We can see the results of the ANOVA p-value (Prob F-statistic) between 'age' and each categorical variable are under 5%. Wich means there's a significant relationship between 'age' and each variable. \n",
    "This resut doesn't seem correct from a logical point of view, for exemple there can't be no relation between the factor of age and the infrastructure works ('infra).\n",
    "\n",
    "\n",
    "From a mathematical point of view, this result is maybe due to the variable 'age' having a small number of unique values (99), and thus should not be considered a continuous variable. \n",
    "In the next step we will see if we can transform 'age' into a categorical variable."
   ]
  },
  {
   "cell_type": "markdown",
   "metadata": {},
   "source": [
    "#### Analyse 'age' feature"
   ]
  },
  {
   "cell_type": "markdown",
   "metadata": {},
   "source": [
    "In this part we will analyse the 'age' feature to see if we shall transform it into a categorical variable.\n",
    "\n",
    "- The first graph is showing the distribution of accidents by age. "
   ]
  },
  {
   "cell_type": "code",
   "execution_count": 10,
   "metadata": {},
   "outputs": [
    {
     "data": {
      "application/vnd.plotly.v1+json": {
       "config": {
        "plotlyServerURL": "https://plot.ly"
       },
       "data": [
        {
         "alignmentgroup": "True",
         "hovertemplate": "severity=unharmed<br>age=%{x}<br>victims count=%{text}<extra></extra>",
         "legendgroup": "unharmed",
         "marker": {
          "color": "greenyellow",
          "pattern": {
           "shape": ""
          }
         },
         "name": "unharmed",
         "offsetgroup": "unharmed",
         "opacity": 0.8,
         "orientation": "v",
         "showlegend": true,
         "text": [
          3,
          2,
          4,
          2,
          13,
          7,
          12,
          17,
          21,
          31,
          48,
          79,
          84,
          131,
          152,
          148,
          168,
          149,
          142,
          147,
          141,
          149,
          119,
          126,
          141,
          131,
          127,
          125,
          111,
          89,
          102,
          85,
          83,
          106,
          68,
          82,
          77,
          69,
          72,
          73,
          77,
          65,
          60,
          57,
          58,
          50,
          44,
          44,
          47,
          36,
          55,
          42,
          46,
          42,
          33,
          46,
          43,
          30,
          30,
          33,
          26,
          25,
          27,
          18,
          21,
          17,
          12,
          7,
          15,
          14,
          14,
          6,
          10,
          9,
          9,
          3,
          5,
          4,
          7,
          6,
          3,
          2,
          1,
          1
         ],
         "textposition": "inside",
         "type": "bar",
         "visible": true,
         "x": [
          1,
          3,
          5,
          6,
          7,
          8,
          9,
          10,
          11,
          12,
          13,
          14,
          15,
          16,
          17,
          18,
          19,
          20,
          21,
          22,
          23,
          24,
          25,
          26,
          27,
          28,
          29,
          30,
          31,
          32,
          33,
          34,
          35,
          36,
          37,
          38,
          39,
          40,
          41,
          42,
          43,
          44,
          45,
          46,
          47,
          48,
          49,
          50,
          51,
          52,
          53,
          54,
          55,
          56,
          57,
          58,
          59,
          60,
          61,
          62,
          63,
          64,
          65,
          66,
          67,
          68,
          69,
          70,
          71,
          72,
          73,
          74,
          75,
          76,
          77,
          78,
          79,
          80,
          81,
          82,
          83,
          84,
          87,
          88
         ],
         "xaxis": "x",
         "y": [
          3,
          2,
          4,
          2,
          13,
          7,
          12,
          17,
          21,
          31,
          48,
          79,
          84,
          131,
          152,
          148,
          168,
          149,
          142,
          147,
          141,
          149,
          119,
          126,
          141,
          131,
          127,
          125,
          111,
          89,
          102,
          85,
          83,
          106,
          68,
          82,
          77,
          69,
          72,
          73,
          77,
          65,
          60,
          57,
          58,
          50,
          44,
          44,
          47,
          36,
          55,
          42,
          46,
          42,
          33,
          46,
          43,
          30,
          30,
          33,
          26,
          25,
          27,
          18,
          21,
          17,
          12,
          7,
          15,
          14,
          14,
          6,
          10,
          9,
          9,
          3,
          5,
          4,
          7,
          6,
          3,
          2,
          1,
          1
         ],
         "yaxis": "y"
        },
        {
         "alignmentgroup": "True",
         "hovertemplate": "severity=killed<br>age=%{x}<br>victims count=%{text}<extra></extra>",
         "legendgroup": "killed",
         "marker": {
          "color": "crimson",
          "pattern": {
           "shape": ""
          }
         },
         "name": "killed",
         "offsetgroup": "killed",
         "opacity": 0.8,
         "orientation": "v",
         "showlegend": true,
         "text": [
          1,
          5,
          1,
          8,
          7,
          7,
          13,
          5,
          11,
          17,
          21,
          25,
          38,
          46,
          44,
          35,
          34,
          29,
          26,
          22,
          22,
          18,
          16,
          26,
          16,
          16,
          11,
          24,
          9,
          17,
          22,
          18,
          14,
          14,
          25,
          19,
          16,
          23,
          21,
          24,
          26,
          20,
          27,
          30,
          31,
          37,
          28,
          41,
          34,
          44,
          35,
          47,
          36,
          42,
          29,
          40,
          53,
          44,
          53,
          50,
          58,
          59,
          53,
          50,
          49,
          57,
          43,
          58,
          58,
          57,
          37,
          47,
          50,
          31,
          42,
          53,
          36,
          42,
          38,
          37,
          27,
          27,
          33,
          23,
          20,
          13,
          9,
          6,
          6,
          4,
          3,
          1,
          4
         ],
         "textposition": "inside",
         "type": "bar",
         "visible": true,
         "x": [
          1,
          4,
          5,
          6,
          7,
          8,
          9,
          10,
          11,
          12,
          13,
          14,
          15,
          16,
          17,
          18,
          19,
          20,
          21,
          22,
          23,
          24,
          25,
          26,
          27,
          28,
          29,
          30,
          31,
          32,
          33,
          34,
          35,
          36,
          37,
          38,
          39,
          40,
          41,
          42,
          43,
          44,
          45,
          46,
          47,
          48,
          49,
          50,
          51,
          52,
          53,
          54,
          55,
          56,
          57,
          58,
          59,
          60,
          61,
          62,
          63,
          64,
          65,
          66,
          67,
          68,
          69,
          70,
          71,
          72,
          73,
          74,
          75,
          76,
          77,
          78,
          79,
          80,
          81,
          82,
          83,
          84,
          85,
          86,
          87,
          88,
          89,
          90,
          91,
          92,
          93,
          94,
          95
         ],
         "xaxis": "x",
         "y": [
          1,
          5,
          1,
          8,
          7,
          7,
          13,
          5,
          11,
          17,
          21,
          25,
          38,
          46,
          44,
          35,
          34,
          29,
          26,
          22,
          22,
          18,
          16,
          26,
          16,
          16,
          11,
          24,
          9,
          17,
          22,
          18,
          14,
          14,
          25,
          19,
          16,
          23,
          21,
          24,
          26,
          20,
          27,
          30,
          31,
          37,
          28,
          41,
          34,
          44,
          35,
          47,
          36,
          42,
          29,
          40,
          53,
          44,
          53,
          50,
          58,
          59,
          53,
          50,
          49,
          57,
          43,
          58,
          58,
          57,
          37,
          47,
          50,
          31,
          42,
          53,
          36,
          42,
          38,
          37,
          27,
          27,
          33,
          23,
          20,
          13,
          9,
          6,
          6,
          4,
          3,
          1,
          4
         ],
         "yaxis": "y"
        },
        {
         "alignmentgroup": "True",
         "hovertemplate": "severity=hospitalized<br>age=%{x}<br>victims count=%{text}<extra></extra>",
         "legendgroup": "hospitalized",
         "marker": {
          "color": "gold",
          "pattern": {
           "shape": ""
          }
         },
         "name": "hospitalized",
         "offsetgroup": "hospitalized",
         "opacity": 0.8,
         "orientation": "v",
         "showlegend": true,
         "text": [
          4,
          1,
          1,
          10,
          23,
          65,
          96,
          137,
          193,
          221,
          285,
          353,
          472,
          570,
          577,
          547,
          507,
          501,
          426,
          367,
          314,
          290,
          280,
          246,
          249,
          271,
          252,
          241,
          240,
          227,
          230,
          227,
          238,
          221,
          219,
          253,
          221,
          253,
          232,
          250,
          262,
          292,
          286,
          286,
          319,
          290,
          309,
          329,
          347,
          318,
          360,
          393,
          364,
          356,
          380,
          348,
          387,
          374,
          398,
          372,
          377,
          356,
          386,
          393,
          360,
          327,
          341,
          346,
          293,
          276,
          300,
          254,
          260,
          228,
          219,
          212,
          188,
          213,
          177,
          138,
          146,
          132,
          121,
          105,
          77,
          47,
          55,
          45,
          36,
          27,
          14,
          12,
          6,
          1,
          3,
          3,
          3,
          1
         ],
         "textposition": "inside",
         "type": "bar",
         "visible": true,
         "x": [
          1,
          2,
          3,
          4,
          5,
          6,
          7,
          8,
          9,
          10,
          11,
          12,
          13,
          14,
          15,
          16,
          17,
          18,
          19,
          20,
          21,
          22,
          23,
          24,
          25,
          26,
          27,
          28,
          29,
          30,
          31,
          32,
          33,
          34,
          35,
          36,
          37,
          38,
          39,
          40,
          41,
          42,
          43,
          44,
          45,
          46,
          47,
          48,
          49,
          50,
          51,
          52,
          53,
          54,
          55,
          56,
          57,
          58,
          59,
          60,
          61,
          62,
          63,
          64,
          65,
          66,
          67,
          68,
          69,
          70,
          71,
          72,
          73,
          74,
          75,
          76,
          77,
          78,
          79,
          80,
          81,
          82,
          83,
          84,
          85,
          86,
          87,
          88,
          89,
          90,
          91,
          92,
          93,
          94,
          95,
          96,
          97,
          99
         ],
         "xaxis": "x",
         "y": [
          4,
          1,
          1,
          10,
          23,
          65,
          96,
          137,
          193,
          221,
          285,
          353,
          472,
          570,
          577,
          547,
          507,
          501,
          426,
          367,
          314,
          290,
          280,
          246,
          249,
          271,
          252,
          241,
          240,
          227,
          230,
          227,
          238,
          221,
          219,
          253,
          221,
          253,
          232,
          250,
          262,
          292,
          286,
          286,
          319,
          290,
          309,
          329,
          347,
          318,
          360,
          393,
          364,
          356,
          380,
          348,
          387,
          374,
          398,
          372,
          377,
          356,
          386,
          393,
          360,
          327,
          341,
          346,
          293,
          276,
          300,
          254,
          260,
          228,
          219,
          212,
          188,
          213,
          177,
          138,
          146,
          132,
          121,
          105,
          77,
          47,
          55,
          45,
          36,
          27,
          14,
          12,
          6,
          1,
          3,
          3,
          3,
          1
         ],
         "yaxis": "y"
        },
        {
         "alignmentgroup": "True",
         "hovertemplate": "severity=slight injuries<br>age=%{x}<br>victims count=%{text}<extra></extra>",
         "legendgroup": "slight injuries",
         "marker": {
          "color": "peachpuff",
          "pattern": {
           "shape": ""
          }
         },
         "name": "slight injuries",
         "offsetgroup": "slight injuries",
         "opacity": 0.8,
         "orientation": "v",
         "showlegend": true,
         "text": [
          16,
          3,
          9,
          17,
          35,
          89,
          105,
          182,
          232,
          286,
          364,
          558,
          782,
          932,
          946,
          1030,
          1039,
          1046,
          1053,
          983,
          992,
          935,
          957,
          923,
          968,
          919,
          919,
          912,
          856,
          837,
          826,
          812,
          772,
          685,
          716,
          721,
          708,
          652,
          649,
          668,
          649,
          592,
          667,
          642,
          644,
          659,
          633,
          666,
          642,
          662,
          647,
          609,
          655,
          579,
          602,
          551,
          584,
          526,
          522,
          455,
          460,
          446,
          401,
          360,
          345,
          380,
          301,
          267,
          250,
          266,
          253,
          238,
          191,
          182,
          154,
          159,
          145,
          132,
          109,
          120,
          106,
          90,
          89,
          66,
          59,
          51,
          39,
          31,
          22,
          12,
          15,
          6,
          12,
          3,
          3,
          3,
          2,
          1
         ],
         "textposition": "inside",
         "type": "bar",
         "visible": true,
         "x": [
          1,
          2,
          3,
          4,
          5,
          6,
          7,
          8,
          9,
          10,
          11,
          12,
          13,
          14,
          15,
          16,
          17,
          18,
          19,
          20,
          21,
          22,
          23,
          24,
          25,
          26,
          27,
          28,
          29,
          30,
          31,
          32,
          33,
          34,
          35,
          36,
          37,
          38,
          39,
          40,
          41,
          42,
          43,
          44,
          45,
          46,
          47,
          48,
          49,
          50,
          51,
          52,
          53,
          54,
          55,
          56,
          57,
          58,
          59,
          60,
          61,
          62,
          63,
          64,
          65,
          66,
          67,
          68,
          69,
          70,
          71,
          72,
          73,
          74,
          75,
          76,
          77,
          78,
          79,
          80,
          81,
          82,
          83,
          84,
          85,
          86,
          87,
          88,
          89,
          90,
          91,
          92,
          93,
          94,
          95,
          97,
          98,
          99
         ],
         "xaxis": "x",
         "y": [
          16,
          3,
          9,
          17,
          35,
          89,
          105,
          182,
          232,
          286,
          364,
          558,
          782,
          932,
          946,
          1030,
          1039,
          1046,
          1053,
          983,
          992,
          935,
          957,
          923,
          968,
          919,
          919,
          912,
          856,
          837,
          826,
          812,
          772,
          685,
          716,
          721,
          708,
          652,
          649,
          668,
          649,
          592,
          667,
          642,
          644,
          659,
          633,
          666,
          642,
          662,
          647,
          609,
          655,
          579,
          602,
          551,
          584,
          526,
          522,
          455,
          460,
          446,
          401,
          360,
          345,
          380,
          301,
          267,
          250,
          266,
          253,
          238,
          191,
          182,
          154,
          159,
          145,
          132,
          109,
          120,
          106,
          90,
          89,
          66,
          59,
          51,
          39,
          31,
          22,
          12,
          15,
          6,
          12,
          3,
          3,
          3,
          2,
          1
         ],
         "yaxis": "y"
        }
       ],
       "layout": {
        "barmode": "relative",
        "height": 500,
        "legend": {
         "title": {
          "text": "severity"
         },
         "tracegroupgap": 0
        },
        "margin": {
         "t": 60
        },
        "template": {
         "data": {
          "bar": [
           {
            "error_x": {
             "color": "#f2f5fa"
            },
            "error_y": {
             "color": "#f2f5fa"
            },
            "marker": {
             "line": {
              "color": "rgb(17,17,17)",
              "width": 0.5
             },
             "pattern": {
              "fillmode": "overlay",
              "size": 10,
              "solidity": 0.2
             }
            },
            "type": "bar"
           }
          ],
          "barpolar": [
           {
            "marker": {
             "line": {
              "color": "rgb(17,17,17)",
              "width": 0.5
             },
             "pattern": {
              "fillmode": "overlay",
              "size": 10,
              "solidity": 0.2
             }
            },
            "type": "barpolar"
           }
          ],
          "carpet": [
           {
            "aaxis": {
             "endlinecolor": "#A2B1C6",
             "gridcolor": "#506784",
             "linecolor": "#506784",
             "minorgridcolor": "#506784",
             "startlinecolor": "#A2B1C6"
            },
            "baxis": {
             "endlinecolor": "#A2B1C6",
             "gridcolor": "#506784",
             "linecolor": "#506784",
             "minorgridcolor": "#506784",
             "startlinecolor": "#A2B1C6"
            },
            "type": "carpet"
           }
          ],
          "choropleth": [
           {
            "colorbar": {
             "outlinewidth": 0,
             "ticks": ""
            },
            "type": "choropleth"
           }
          ],
          "contour": [
           {
            "colorbar": {
             "outlinewidth": 0,
             "ticks": ""
            },
            "colorscale": [
             [
              0,
              "#0d0887"
             ],
             [
              0.1111111111111111,
              "#46039f"
             ],
             [
              0.2222222222222222,
              "#7201a8"
             ],
             [
              0.3333333333333333,
              "#9c179e"
             ],
             [
              0.4444444444444444,
              "#bd3786"
             ],
             [
              0.5555555555555556,
              "#d8576b"
             ],
             [
              0.6666666666666666,
              "#ed7953"
             ],
             [
              0.7777777777777778,
              "#fb9f3a"
             ],
             [
              0.8888888888888888,
              "#fdca26"
             ],
             [
              1,
              "#f0f921"
             ]
            ],
            "type": "contour"
           }
          ],
          "contourcarpet": [
           {
            "colorbar": {
             "outlinewidth": 0,
             "ticks": ""
            },
            "type": "contourcarpet"
           }
          ],
          "heatmap": [
           {
            "colorbar": {
             "outlinewidth": 0,
             "ticks": ""
            },
            "colorscale": [
             [
              0,
              "#0d0887"
             ],
             [
              0.1111111111111111,
              "#46039f"
             ],
             [
              0.2222222222222222,
              "#7201a8"
             ],
             [
              0.3333333333333333,
              "#9c179e"
             ],
             [
              0.4444444444444444,
              "#bd3786"
             ],
             [
              0.5555555555555556,
              "#d8576b"
             ],
             [
              0.6666666666666666,
              "#ed7953"
             ],
             [
              0.7777777777777778,
              "#fb9f3a"
             ],
             [
              0.8888888888888888,
              "#fdca26"
             ],
             [
              1,
              "#f0f921"
             ]
            ],
            "type": "heatmap"
           }
          ],
          "heatmapgl": [
           {
            "colorbar": {
             "outlinewidth": 0,
             "ticks": ""
            },
            "colorscale": [
             [
              0,
              "#0d0887"
             ],
             [
              0.1111111111111111,
              "#46039f"
             ],
             [
              0.2222222222222222,
              "#7201a8"
             ],
             [
              0.3333333333333333,
              "#9c179e"
             ],
             [
              0.4444444444444444,
              "#bd3786"
             ],
             [
              0.5555555555555556,
              "#d8576b"
             ],
             [
              0.6666666666666666,
              "#ed7953"
             ],
             [
              0.7777777777777778,
              "#fb9f3a"
             ],
             [
              0.8888888888888888,
              "#fdca26"
             ],
             [
              1,
              "#f0f921"
             ]
            ],
            "type": "heatmapgl"
           }
          ],
          "histogram": [
           {
            "marker": {
             "pattern": {
              "fillmode": "overlay",
              "size": 10,
              "solidity": 0.2
             }
            },
            "type": "histogram"
           }
          ],
          "histogram2d": [
           {
            "colorbar": {
             "outlinewidth": 0,
             "ticks": ""
            },
            "colorscale": [
             [
              0,
              "#0d0887"
             ],
             [
              0.1111111111111111,
              "#46039f"
             ],
             [
              0.2222222222222222,
              "#7201a8"
             ],
             [
              0.3333333333333333,
              "#9c179e"
             ],
             [
              0.4444444444444444,
              "#bd3786"
             ],
             [
              0.5555555555555556,
              "#d8576b"
             ],
             [
              0.6666666666666666,
              "#ed7953"
             ],
             [
              0.7777777777777778,
              "#fb9f3a"
             ],
             [
              0.8888888888888888,
              "#fdca26"
             ],
             [
              1,
              "#f0f921"
             ]
            ],
            "type": "histogram2d"
           }
          ],
          "histogram2dcontour": [
           {
            "colorbar": {
             "outlinewidth": 0,
             "ticks": ""
            },
            "colorscale": [
             [
              0,
              "#0d0887"
             ],
             [
              0.1111111111111111,
              "#46039f"
             ],
             [
              0.2222222222222222,
              "#7201a8"
             ],
             [
              0.3333333333333333,
              "#9c179e"
             ],
             [
              0.4444444444444444,
              "#bd3786"
             ],
             [
              0.5555555555555556,
              "#d8576b"
             ],
             [
              0.6666666666666666,
              "#ed7953"
             ],
             [
              0.7777777777777778,
              "#fb9f3a"
             ],
             [
              0.8888888888888888,
              "#fdca26"
             ],
             [
              1,
              "#f0f921"
             ]
            ],
            "type": "histogram2dcontour"
           }
          ],
          "mesh3d": [
           {
            "colorbar": {
             "outlinewidth": 0,
             "ticks": ""
            },
            "type": "mesh3d"
           }
          ],
          "parcoords": [
           {
            "line": {
             "colorbar": {
              "outlinewidth": 0,
              "ticks": ""
             }
            },
            "type": "parcoords"
           }
          ],
          "pie": [
           {
            "automargin": true,
            "type": "pie"
           }
          ],
          "scatter": [
           {
            "marker": {
             "line": {
              "color": "#283442"
             }
            },
            "type": "scatter"
           }
          ],
          "scatter3d": [
           {
            "line": {
             "colorbar": {
              "outlinewidth": 0,
              "ticks": ""
             }
            },
            "marker": {
             "colorbar": {
              "outlinewidth": 0,
              "ticks": ""
             }
            },
            "type": "scatter3d"
           }
          ],
          "scattercarpet": [
           {
            "marker": {
             "colorbar": {
              "outlinewidth": 0,
              "ticks": ""
             }
            },
            "type": "scattercarpet"
           }
          ],
          "scattergeo": [
           {
            "marker": {
             "colorbar": {
              "outlinewidth": 0,
              "ticks": ""
             }
            },
            "type": "scattergeo"
           }
          ],
          "scattergl": [
           {
            "marker": {
             "line": {
              "color": "#283442"
             }
            },
            "type": "scattergl"
           }
          ],
          "scattermapbox": [
           {
            "marker": {
             "colorbar": {
              "outlinewidth": 0,
              "ticks": ""
             }
            },
            "type": "scattermapbox"
           }
          ],
          "scatterpolar": [
           {
            "marker": {
             "colorbar": {
              "outlinewidth": 0,
              "ticks": ""
             }
            },
            "type": "scatterpolar"
           }
          ],
          "scatterpolargl": [
           {
            "marker": {
             "colorbar": {
              "outlinewidth": 0,
              "ticks": ""
             }
            },
            "type": "scatterpolargl"
           }
          ],
          "scatterternary": [
           {
            "marker": {
             "colorbar": {
              "outlinewidth": 0,
              "ticks": ""
             }
            },
            "type": "scatterternary"
           }
          ],
          "surface": [
           {
            "colorbar": {
             "outlinewidth": 0,
             "ticks": ""
            },
            "colorscale": [
             [
              0,
              "#0d0887"
             ],
             [
              0.1111111111111111,
              "#46039f"
             ],
             [
              0.2222222222222222,
              "#7201a8"
             ],
             [
              0.3333333333333333,
              "#9c179e"
             ],
             [
              0.4444444444444444,
              "#bd3786"
             ],
             [
              0.5555555555555556,
              "#d8576b"
             ],
             [
              0.6666666666666666,
              "#ed7953"
             ],
             [
              0.7777777777777778,
              "#fb9f3a"
             ],
             [
              0.8888888888888888,
              "#fdca26"
             ],
             [
              1,
              "#f0f921"
             ]
            ],
            "type": "surface"
           }
          ],
          "table": [
           {
            "cells": {
             "fill": {
              "color": "#506784"
             },
             "line": {
              "color": "rgb(17,17,17)"
             }
            },
            "header": {
             "fill": {
              "color": "#2a3f5f"
             },
             "line": {
              "color": "rgb(17,17,17)"
             }
            },
            "type": "table"
           }
          ]
         },
         "layout": {
          "annotationdefaults": {
           "arrowcolor": "#f2f5fa",
           "arrowhead": 0,
           "arrowwidth": 1
          },
          "autotypenumbers": "strict",
          "coloraxis": {
           "colorbar": {
            "outlinewidth": 0,
            "ticks": ""
           }
          },
          "colorscale": {
           "diverging": [
            [
             0,
             "#8e0152"
            ],
            [
             0.1,
             "#c51b7d"
            ],
            [
             0.2,
             "#de77ae"
            ],
            [
             0.3,
             "#f1b6da"
            ],
            [
             0.4,
             "#fde0ef"
            ],
            [
             0.5,
             "#f7f7f7"
            ],
            [
             0.6,
             "#e6f5d0"
            ],
            [
             0.7,
             "#b8e186"
            ],
            [
             0.8,
             "#7fbc41"
            ],
            [
             0.9,
             "#4d9221"
            ],
            [
             1,
             "#276419"
            ]
           ],
           "sequential": [
            [
             0,
             "#0d0887"
            ],
            [
             0.1111111111111111,
             "#46039f"
            ],
            [
             0.2222222222222222,
             "#7201a8"
            ],
            [
             0.3333333333333333,
             "#9c179e"
            ],
            [
             0.4444444444444444,
             "#bd3786"
            ],
            [
             0.5555555555555556,
             "#d8576b"
            ],
            [
             0.6666666666666666,
             "#ed7953"
            ],
            [
             0.7777777777777778,
             "#fb9f3a"
            ],
            [
             0.8888888888888888,
             "#fdca26"
            ],
            [
             1,
             "#f0f921"
            ]
           ],
           "sequentialminus": [
            [
             0,
             "#0d0887"
            ],
            [
             0.1111111111111111,
             "#46039f"
            ],
            [
             0.2222222222222222,
             "#7201a8"
            ],
            [
             0.3333333333333333,
             "#9c179e"
            ],
            [
             0.4444444444444444,
             "#bd3786"
            ],
            [
             0.5555555555555556,
             "#d8576b"
            ],
            [
             0.6666666666666666,
             "#ed7953"
            ],
            [
             0.7777777777777778,
             "#fb9f3a"
            ],
            [
             0.8888888888888888,
             "#fdca26"
            ],
            [
             1,
             "#f0f921"
            ]
           ]
          },
          "colorway": [
           "#636efa",
           "#EF553B",
           "#00cc96",
           "#ab63fa",
           "#FFA15A",
           "#19d3f3",
           "#FF6692",
           "#B6E880",
           "#FF97FF",
           "#FECB52"
          ],
          "font": {
           "color": "#f2f5fa"
          },
          "geo": {
           "bgcolor": "rgb(17,17,17)",
           "lakecolor": "rgb(17,17,17)",
           "landcolor": "rgb(17,17,17)",
           "showlakes": true,
           "showland": true,
           "subunitcolor": "#506784"
          },
          "hoverlabel": {
           "align": "left"
          },
          "hovermode": "closest",
          "mapbox": {
           "style": "dark"
          },
          "paper_bgcolor": "rgb(17,17,17)",
          "plot_bgcolor": "rgb(17,17,17)",
          "polar": {
           "angularaxis": {
            "gridcolor": "#506784",
            "linecolor": "#506784",
            "ticks": ""
           },
           "bgcolor": "rgb(17,17,17)",
           "radialaxis": {
            "gridcolor": "#506784",
            "linecolor": "#506784",
            "ticks": ""
           }
          },
          "scene": {
           "xaxis": {
            "backgroundcolor": "rgb(17,17,17)",
            "gridcolor": "#506784",
            "gridwidth": 2,
            "linecolor": "#506784",
            "showbackground": true,
            "ticks": "",
            "zerolinecolor": "#C8D4E3"
           },
           "yaxis": {
            "backgroundcolor": "rgb(17,17,17)",
            "gridcolor": "#506784",
            "gridwidth": 2,
            "linecolor": "#506784",
            "showbackground": true,
            "ticks": "",
            "zerolinecolor": "#C8D4E3"
           },
           "zaxis": {
            "backgroundcolor": "rgb(17,17,17)",
            "gridcolor": "#506784",
            "gridwidth": 2,
            "linecolor": "#506784",
            "showbackground": true,
            "ticks": "",
            "zerolinecolor": "#C8D4E3"
           }
          },
          "shapedefaults": {
           "line": {
            "color": "#f2f5fa"
           }
          },
          "sliderdefaults": {
           "bgcolor": "#C8D4E3",
           "bordercolor": "rgb(17,17,17)",
           "borderwidth": 1,
           "tickwidth": 0
          },
          "ternary": {
           "aaxis": {
            "gridcolor": "#506784",
            "linecolor": "#506784",
            "ticks": ""
           },
           "baxis": {
            "gridcolor": "#506784",
            "linecolor": "#506784",
            "ticks": ""
           },
           "bgcolor": "rgb(17,17,17)",
           "caxis": {
            "gridcolor": "#506784",
            "linecolor": "#506784",
            "ticks": ""
           }
          },
          "title": {
           "x": 0.05
          },
          "updatemenudefaults": {
           "bgcolor": "#506784",
           "borderwidth": 0
          },
          "xaxis": {
           "automargin": true,
           "gridcolor": "#283442",
           "linecolor": "#506784",
           "ticks": "",
           "title": {
            "standoff": 15
           },
           "zerolinecolor": "#283442",
           "zerolinewidth": 2
          },
          "yaxis": {
           "automargin": true,
           "gridcolor": "#283442",
           "linecolor": "#506784",
           "ticks": "",
           "title": {
            "standoff": 15
           },
           "zerolinecolor": "#283442",
           "zerolinewidth": 2
          }
         }
        },
        "title": {
         "text": "Bicycle accidents by age 2005-2020",
         "x": 0.5
        },
        "width": 1100,
        "xaxis": {
         "anchor": "y",
         "domain": [
          0,
          1
         ],
         "title": {
          "text": "Age"
         }
        },
        "yaxis": {
         "anchor": "x",
         "domain": [
          0,
          1
         ],
         "title": {
          "text": "Victims count"
         }
        }
       }
      }
     },
     "metadata": {},
     "output_type": "display_data"
    }
   ],
   "source": [
    "dx= df.copy()\n",
    "dx.grav.replace([1,2,3,4], ['unharmed','killed','hospitalized','slight injuries'], inplace=True)\n",
    "\n",
    "dx.grav.replace([1,2,3,4], ['unharmed','killed','hospitalized','slight injuries'], inplace=True)\n",
    "dx = dx.groupby(['grav', 'age']).agg({'sexe': 'count'}).reset_index()\n",
    "dx['percentage'] = dx.groupby('age')['sexe'].apply(lambda x: round(100*x/np.sum(x),2 )) \n",
    "\n",
    "fig1 = px.bar(dx, x=\"age\", y=\"sexe\", text=\"sexe\", color=\"grav\" ,\n",
    "    template=\"plotly_dark\",\n",
    "    color_discrete_sequence= [\"greenyellow\", \"crimson\", \"gold\", \"peachpuff\"],\n",
    "    labels={ 'sexe': 'victims count', 'grav':'severity'},\n",
    "    category_orders={'grav':['unharmed','killed','hospitalized','slight injuries']}, barmode='relative'\n",
    "    )\n",
    "\n",
    "fig1.update_layout(width=1100, height=500,xaxis_title_text='Age' , yaxis_title_text='Victims count',\n",
    "    title='Bicycle accidents by age 2005-2020',\n",
    "    title_x=.5\n",
    " )\n",
    "fig1.update_traces(textposition='inside', opacity=0.8 , visible=True)\n",
    "fig1.show()"
   ]
  },
  {
   "cell_type": "markdown",
   "metadata": {},
   "source": [
    "- This graph is showing a big number of accidents between the age of 13 & 23, after that the number is stable until it raches the age of 60 when it starts to decrease. This mean we can create three categories for age. But it will be also good if we define our categories based on the relationship with the target feature: severity of accidents. \n",
    "\n",
    "    To do this, we plot another graph for the distribution of accidents by age in accordance with the percentage of mortality."
   ]
  },
  {
   "cell_type": "code",
   "execution_count": 11,
   "metadata": {},
   "outputs": [
    {
     "data": {
      "application/vnd.plotly.v1+json": {
       "config": {
        "plotlyServerURL": "https://plot.ly"
       },
       "data": [
        {
         "alignmentgroup": "True",
         "hovertemplate": "severity=unharmed<br>age=%{x}<br>percentage=%{text}<extra></extra>",
         "legendgroup": "unharmed",
         "marker": {
          "color": "greenyellow",
          "pattern": {
           "shape": ""
          }
         },
         "name": "unharmed",
         "offsetgroup": "unharmed",
         "opacity": 0.8,
         "orientation": "v",
         "showlegend": true,
         "text": [
          12.5,
          16.67,
          6.35,
          1.22,
          5.88,
          2.1,
          2.67,
          3.21,
          3.08,
          3.23,
          3.63,
          4.92,
          5.11,
          7.47,
          8.73,
          8.55,
          9.99,
          9.75,
          9.63,
          10.55,
          10.07,
          11.15,
          8.8,
          9.39,
          10.62,
          10.08,
          10.29,
          10.31,
          9.44,
          7.77,
          8.99,
          8.42,
          8.04,
          9.69,
          6.65,
          8.15,
          7.91,
          6.83,
          7.17,
          7.44,
          7.29,
          6.42,
          5.71,
          5.5,
          5.63,
          4.62,
          4.15,
          4.13,
          4.32,
          3.33,
          4.96,
          4.1,
          4.32,
          4.27,
          3.19,
          4.67,
          4.23,
          3.33,
          3.26,
          3.73,
          2.99,
          2.99,
          3.44,
          2.32,
          2.95,
          2.47,
          2.01,
          1.15,
          2.4,
          2.49,
          2.79,
          1.3,
          2.31,
          2.19,
          2.34,
          0.75,
          1.53,
          1.32,
          2.36,
          2.26,
          1.25,
          1,
          0.87,
          1.11
         ],
         "textposition": "inside",
         "type": "bar",
         "visible": true,
         "x": [
          1,
          3,
          5,
          6,
          7,
          8,
          9,
          10,
          11,
          12,
          13,
          14,
          15,
          16,
          17,
          18,
          19,
          20,
          21,
          22,
          23,
          24,
          25,
          26,
          27,
          28,
          29,
          30,
          31,
          32,
          33,
          34,
          35,
          36,
          37,
          38,
          39,
          40,
          41,
          42,
          43,
          44,
          45,
          46,
          47,
          48,
          49,
          50,
          51,
          52,
          53,
          54,
          55,
          56,
          57,
          58,
          59,
          60,
          61,
          62,
          63,
          64,
          65,
          66,
          67,
          68,
          69,
          70,
          71,
          72,
          73,
          74,
          75,
          76,
          77,
          78,
          79,
          80,
          81,
          82,
          83,
          84,
          87,
          88
         ],
         "xaxis": "x",
         "y": [
          12.5,
          16.67,
          6.35,
          1.22,
          5.88,
          2.1,
          2.67,
          3.21,
          3.08,
          3.23,
          3.63,
          4.92,
          5.11,
          7.47,
          8.73,
          8.55,
          9.99,
          9.75,
          9.63,
          10.55,
          10.07,
          11.15,
          8.8,
          9.39,
          10.62,
          10.08,
          10.29,
          10.31,
          9.44,
          7.77,
          8.99,
          8.42,
          8.04,
          9.69,
          6.65,
          8.15,
          7.91,
          6.83,
          7.17,
          7.44,
          7.29,
          6.42,
          5.71,
          5.5,
          5.63,
          4.62,
          4.15,
          4.13,
          4.32,
          3.33,
          4.96,
          4.1,
          4.32,
          4.27,
          3.19,
          4.67,
          4.23,
          3.33,
          3.26,
          3.73,
          2.99,
          2.99,
          3.44,
          2.32,
          2.95,
          2.47,
          2.01,
          1.15,
          2.4,
          2.49,
          2.79,
          1.3,
          2.31,
          2.19,
          2.34,
          0.75,
          1.53,
          1.32,
          2.36,
          2.26,
          1.25,
          1,
          0.87,
          1.11
         ],
         "yaxis": "y"
        },
        {
         "alignmentgroup": "True",
         "hovertemplate": "severity=killed<br>age=%{x}<br>percentage=%{text}<extra></extra>",
         "legendgroup": "killed",
         "marker": {
          "color": "crimson",
          "pattern": {
           "shape": ""
          }
         },
         "name": "killed",
         "offsetgroup": "killed",
         "opacity": 0.8,
         "orientation": "v",
         "showlegend": true,
         "text": [
          4.17,
          15.62,
          1.59,
          4.88,
          3.17,
          2.1,
          2.89,
          0.95,
          1.62,
          1.77,
          1.59,
          1.56,
          2.31,
          2.62,
          2.53,
          2.02,
          2.02,
          1.9,
          1.76,
          1.58,
          1.57,
          1.35,
          1.18,
          1.94,
          1.2,
          1.23,
          0.89,
          1.98,
          0.77,
          1.48,
          1.94,
          1.78,
          1.36,
          1.28,
          2.45,
          1.89,
          1.64,
          2.28,
          2.09,
          2.45,
          2.46,
          1.97,
          2.57,
          2.9,
          3.01,
          3.42,
          2.64,
          3.85,
          3.12,
          4.07,
          3.16,
          4.59,
          3.38,
          4.27,
          2.81,
          4.06,
          5.22,
          4.88,
          5.76,
          5.65,
          6.66,
          7.05,
          6.75,
          6.45,
          6.88,
          8.3,
          7.19,
          9.56,
          9.27,
          10.12,
          7.37,
          10.15,
          11.55,
          7.54,
          10.94,
          13.22,
          11.01,
          13.82,
          12.79,
          13.96,
          11.25,
          13.5,
          19.53,
          19.01,
          17.39,
          14.44,
          13.43,
          13.33,
          17.14,
          18.18,
          14.29,
          20,
          40
         ],
         "textposition": "inside",
         "type": "bar",
         "visible": true,
         "x": [
          1,
          4,
          5,
          6,
          7,
          8,
          9,
          10,
          11,
          12,
          13,
          14,
          15,
          16,
          17,
          18,
          19,
          20,
          21,
          22,
          23,
          24,
          25,
          26,
          27,
          28,
          29,
          30,
          31,
          32,
          33,
          34,
          35,
          36,
          37,
          38,
          39,
          40,
          41,
          42,
          43,
          44,
          45,
          46,
          47,
          48,
          49,
          50,
          51,
          52,
          53,
          54,
          55,
          56,
          57,
          58,
          59,
          60,
          61,
          62,
          63,
          64,
          65,
          66,
          67,
          68,
          69,
          70,
          71,
          72,
          73,
          74,
          75,
          76,
          77,
          78,
          79,
          80,
          81,
          82,
          83,
          84,
          85,
          86,
          87,
          88,
          89,
          90,
          91,
          92,
          93,
          94,
          95
         ],
         "xaxis": "x",
         "y": [
          4.17,
          15.62,
          1.59,
          4.88,
          3.17,
          2.1,
          2.89,
          0.95,
          1.62,
          1.77,
          1.59,
          1.56,
          2.31,
          2.62,
          2.53,
          2.02,
          2.02,
          1.9,
          1.76,
          1.58,
          1.57,
          1.35,
          1.18,
          1.94,
          1.2,
          1.23,
          0.89,
          1.98,
          0.77,
          1.48,
          1.94,
          1.78,
          1.36,
          1.28,
          2.45,
          1.89,
          1.64,
          2.28,
          2.09,
          2.45,
          2.46,
          1.97,
          2.57,
          2.9,
          3.01,
          3.42,
          2.64,
          3.85,
          3.12,
          4.07,
          3.16,
          4.59,
          3.38,
          4.27,
          2.81,
          4.06,
          5.22,
          4.88,
          5.76,
          5.65,
          6.66,
          7.05,
          6.75,
          6.45,
          6.88,
          8.3,
          7.19,
          9.56,
          9.27,
          10.12,
          7.37,
          10.15,
          11.55,
          7.54,
          10.94,
          13.22,
          11.01,
          13.82,
          12.79,
          13.96,
          11.25,
          13.5,
          19.53,
          19.01,
          17.39,
          14.44,
          13.43,
          13.33,
          17.14,
          18.18,
          14.29,
          20,
          40
         ],
         "yaxis": "y"
        },
        {
         "alignmentgroup": "True",
         "hovertemplate": "severity=hospitalized<br>age=%{x}<br>percentage=%{text}<extra></extra>",
         "legendgroup": "hospitalized",
         "marker": {
          "color": "gold",
          "pattern": {
           "shape": ""
          }
         },
         "name": "hospitalized",
         "offsetgroup": "hospitalized",
         "opacity": 0.8,
         "orientation": "v",
         "showlegend": true,
         "text": [
          16.67,
          25,
          8.33,
          31.25,
          36.51,
          39.63,
          43.44,
          41.14,
          42.89,
          41.78,
          41.85,
          36.81,
          35.68,
          35.49,
          35.08,
          31.19,
          29.1,
          28.96,
          25.34,
          24.02,
          21.3,
          20.8,
          20,
          18.41,
          18.42,
          20.19,
          18.98,
          18.54,
          19.45,
          18.71,
          19.56,
          19.83,
          20.99,
          21.9,
          21.22,
          23.13,
          21.62,
          25.15,
          23.82,
          24.75,
          26.1,
          29.77,
          27.08,
          28.23,
          30.38,
          27.99,
          29.97,
          30.41,
          32.7,
          29.86,
          33.09,
          36.32,
          32.82,
          34.77,
          35.71,
          35.4,
          37.46,
          37.93,
          39.17,
          41.29,
          40.98,
          40.23,
          44.32,
          46.95,
          45.86,
          42.19,
          47.89,
          50.36,
          49,
          45.47,
          47.92,
          45.12,
          51.79,
          49.24,
          50.58,
          51.58,
          48.96,
          53.12,
          54.13,
          45.39,
          49.16,
          49.81,
          50.42,
          52.5,
          45.56,
          38.84,
          47.83,
          50,
          53.73,
          60,
          40,
          54.55,
          28.57,
          20,
          30,
          100,
          50,
          50
         ],
         "textposition": "inside",
         "type": "bar",
         "visible": true,
         "x": [
          1,
          2,
          3,
          4,
          5,
          6,
          7,
          8,
          9,
          10,
          11,
          12,
          13,
          14,
          15,
          16,
          17,
          18,
          19,
          20,
          21,
          22,
          23,
          24,
          25,
          26,
          27,
          28,
          29,
          30,
          31,
          32,
          33,
          34,
          35,
          36,
          37,
          38,
          39,
          40,
          41,
          42,
          43,
          44,
          45,
          46,
          47,
          48,
          49,
          50,
          51,
          52,
          53,
          54,
          55,
          56,
          57,
          58,
          59,
          60,
          61,
          62,
          63,
          64,
          65,
          66,
          67,
          68,
          69,
          70,
          71,
          72,
          73,
          74,
          75,
          76,
          77,
          78,
          79,
          80,
          81,
          82,
          83,
          84,
          85,
          86,
          87,
          88,
          89,
          90,
          91,
          92,
          93,
          94,
          95,
          96,
          97,
          99
         ],
         "xaxis": "x",
         "y": [
          16.67,
          25,
          8.33,
          31.25,
          36.51,
          39.63,
          43.44,
          41.14,
          42.89,
          41.78,
          41.85,
          36.81,
          35.68,
          35.49,
          35.08,
          31.19,
          29.1,
          28.96,
          25.34,
          24.02,
          21.3,
          20.8,
          20,
          18.41,
          18.42,
          20.19,
          18.98,
          18.54,
          19.45,
          18.71,
          19.56,
          19.83,
          20.99,
          21.9,
          21.22,
          23.13,
          21.62,
          25.15,
          23.82,
          24.75,
          26.1,
          29.77,
          27.08,
          28.23,
          30.38,
          27.99,
          29.97,
          30.41,
          32.7,
          29.86,
          33.09,
          36.32,
          32.82,
          34.77,
          35.71,
          35.4,
          37.46,
          37.93,
          39.17,
          41.29,
          40.98,
          40.23,
          44.32,
          46.95,
          45.86,
          42.19,
          47.89,
          50.36,
          49,
          45.47,
          47.92,
          45.12,
          51.79,
          49.24,
          50.58,
          51.58,
          48.96,
          53.12,
          54.13,
          45.39,
          49.16,
          49.81,
          50.42,
          52.5,
          45.56,
          38.84,
          47.83,
          50,
          53.73,
          60,
          40,
          54.55,
          28.57,
          20,
          30,
          100,
          50,
          50
         ],
         "yaxis": "y"
        },
        {
         "alignmentgroup": "True",
         "hovertemplate": "severity=slight injuries<br>age=%{x}<br>percentage=%{text}<extra></extra>",
         "legendgroup": "slight injuries",
         "marker": {
          "color": "peachpuff",
          "pattern": {
           "shape": ""
          }
         },
         "name": "slight injuries",
         "offsetgroup": "slight injuries",
         "opacity": 0.8,
         "orientation": "v",
         "showlegend": true,
         "text": [
          66.67,
          75,
          75,
          53.12,
          55.56,
          54.27,
          47.51,
          54.65,
          51.56,
          54.06,
          53.45,
          58.19,
          59.11,
          58.03,
          57.51,
          58.72,
          59.64,
          60.46,
          62.64,
          64.33,
          67.3,
          67.07,
          68.36,
          69.09,
          71.6,
          68.48,
          69.2,
          70.15,
          69.37,
          69,
          70.24,
          70.92,
          68.08,
          67.89,
          69.38,
          65.9,
          69.28,
          64.81,
          66.63,
          66.14,
          64.64,
          60.35,
          63.16,
          63.38,
          61.33,
          63.61,
          61.4,
          61.55,
          60.51,
          62.16,
          59.47,
          56.28,
          59.06,
          56.54,
          56.58,
          56.05,
          56.53,
          53.35,
          51.38,
          50.5,
          50,
          50.4,
          46.04,
          43.01,
          43.95,
          49.03,
          42.28,
          38.86,
          41.81,
          43.82,
          40.42,
          42.27,
          38.05,
          39.31,
          35.57,
          38.69,
          37.76,
          32.92,
          33.33,
          39.47,
          35.69,
          33.96,
          37.08,
          33,
          34.91,
          42.15,
          33.91,
          34.44,
          32.84,
          26.67,
          42.86,
          27.27,
          57.14,
          60,
          30,
          50,
          100,
          50
         ],
         "textposition": "inside",
         "type": "bar",
         "visible": true,
         "x": [
          1,
          2,
          3,
          4,
          5,
          6,
          7,
          8,
          9,
          10,
          11,
          12,
          13,
          14,
          15,
          16,
          17,
          18,
          19,
          20,
          21,
          22,
          23,
          24,
          25,
          26,
          27,
          28,
          29,
          30,
          31,
          32,
          33,
          34,
          35,
          36,
          37,
          38,
          39,
          40,
          41,
          42,
          43,
          44,
          45,
          46,
          47,
          48,
          49,
          50,
          51,
          52,
          53,
          54,
          55,
          56,
          57,
          58,
          59,
          60,
          61,
          62,
          63,
          64,
          65,
          66,
          67,
          68,
          69,
          70,
          71,
          72,
          73,
          74,
          75,
          76,
          77,
          78,
          79,
          80,
          81,
          82,
          83,
          84,
          85,
          86,
          87,
          88,
          89,
          90,
          91,
          92,
          93,
          94,
          95,
          97,
          98,
          99
         ],
         "xaxis": "x",
         "y": [
          66.67,
          75,
          75,
          53.12,
          55.56,
          54.27,
          47.51,
          54.65,
          51.56,
          54.06,
          53.45,
          58.19,
          59.11,
          58.03,
          57.51,
          58.72,
          59.64,
          60.46,
          62.64,
          64.33,
          67.3,
          67.07,
          68.36,
          69.09,
          71.6,
          68.48,
          69.2,
          70.15,
          69.37,
          69,
          70.24,
          70.92,
          68.08,
          67.89,
          69.38,
          65.9,
          69.28,
          64.81,
          66.63,
          66.14,
          64.64,
          60.35,
          63.16,
          63.38,
          61.33,
          63.61,
          61.4,
          61.55,
          60.51,
          62.16,
          59.47,
          56.28,
          59.06,
          56.54,
          56.58,
          56.05,
          56.53,
          53.35,
          51.38,
          50.5,
          50,
          50.4,
          46.04,
          43.01,
          43.95,
          49.03,
          42.28,
          38.86,
          41.81,
          43.82,
          40.42,
          42.27,
          38.05,
          39.31,
          35.57,
          38.69,
          37.76,
          32.92,
          33.33,
          39.47,
          35.69,
          33.96,
          37.08,
          33,
          34.91,
          42.15,
          33.91,
          34.44,
          32.84,
          26.67,
          42.86,
          27.27,
          57.14,
          60,
          30,
          50,
          100,
          50
         ],
         "yaxis": "y"
        }
       ],
       "layout": {
        "barmode": "relative",
        "height": 500,
        "legend": {
         "title": {
          "text": "severity"
         },
         "tracegroupgap": 0
        },
        "margin": {
         "t": 60
        },
        "template": {
         "data": {
          "bar": [
           {
            "error_x": {
             "color": "#f2f5fa"
            },
            "error_y": {
             "color": "#f2f5fa"
            },
            "marker": {
             "line": {
              "color": "rgb(17,17,17)",
              "width": 0.5
             },
             "pattern": {
              "fillmode": "overlay",
              "size": 10,
              "solidity": 0.2
             }
            },
            "type": "bar"
           }
          ],
          "barpolar": [
           {
            "marker": {
             "line": {
              "color": "rgb(17,17,17)",
              "width": 0.5
             },
             "pattern": {
              "fillmode": "overlay",
              "size": 10,
              "solidity": 0.2
             }
            },
            "type": "barpolar"
           }
          ],
          "carpet": [
           {
            "aaxis": {
             "endlinecolor": "#A2B1C6",
             "gridcolor": "#506784",
             "linecolor": "#506784",
             "minorgridcolor": "#506784",
             "startlinecolor": "#A2B1C6"
            },
            "baxis": {
             "endlinecolor": "#A2B1C6",
             "gridcolor": "#506784",
             "linecolor": "#506784",
             "minorgridcolor": "#506784",
             "startlinecolor": "#A2B1C6"
            },
            "type": "carpet"
           }
          ],
          "choropleth": [
           {
            "colorbar": {
             "outlinewidth": 0,
             "ticks": ""
            },
            "type": "choropleth"
           }
          ],
          "contour": [
           {
            "colorbar": {
             "outlinewidth": 0,
             "ticks": ""
            },
            "colorscale": [
             [
              0,
              "#0d0887"
             ],
             [
              0.1111111111111111,
              "#46039f"
             ],
             [
              0.2222222222222222,
              "#7201a8"
             ],
             [
              0.3333333333333333,
              "#9c179e"
             ],
             [
              0.4444444444444444,
              "#bd3786"
             ],
             [
              0.5555555555555556,
              "#d8576b"
             ],
             [
              0.6666666666666666,
              "#ed7953"
             ],
             [
              0.7777777777777778,
              "#fb9f3a"
             ],
             [
              0.8888888888888888,
              "#fdca26"
             ],
             [
              1,
              "#f0f921"
             ]
            ],
            "type": "contour"
           }
          ],
          "contourcarpet": [
           {
            "colorbar": {
             "outlinewidth": 0,
             "ticks": ""
            },
            "type": "contourcarpet"
           }
          ],
          "heatmap": [
           {
            "colorbar": {
             "outlinewidth": 0,
             "ticks": ""
            },
            "colorscale": [
             [
              0,
              "#0d0887"
             ],
             [
              0.1111111111111111,
              "#46039f"
             ],
             [
              0.2222222222222222,
              "#7201a8"
             ],
             [
              0.3333333333333333,
              "#9c179e"
             ],
             [
              0.4444444444444444,
              "#bd3786"
             ],
             [
              0.5555555555555556,
              "#d8576b"
             ],
             [
              0.6666666666666666,
              "#ed7953"
             ],
             [
              0.7777777777777778,
              "#fb9f3a"
             ],
             [
              0.8888888888888888,
              "#fdca26"
             ],
             [
              1,
              "#f0f921"
             ]
            ],
            "type": "heatmap"
           }
          ],
          "heatmapgl": [
           {
            "colorbar": {
             "outlinewidth": 0,
             "ticks": ""
            },
            "colorscale": [
             [
              0,
              "#0d0887"
             ],
             [
              0.1111111111111111,
              "#46039f"
             ],
             [
              0.2222222222222222,
              "#7201a8"
             ],
             [
              0.3333333333333333,
              "#9c179e"
             ],
             [
              0.4444444444444444,
              "#bd3786"
             ],
             [
              0.5555555555555556,
              "#d8576b"
             ],
             [
              0.6666666666666666,
              "#ed7953"
             ],
             [
              0.7777777777777778,
              "#fb9f3a"
             ],
             [
              0.8888888888888888,
              "#fdca26"
             ],
             [
              1,
              "#f0f921"
             ]
            ],
            "type": "heatmapgl"
           }
          ],
          "histogram": [
           {
            "marker": {
             "pattern": {
              "fillmode": "overlay",
              "size": 10,
              "solidity": 0.2
             }
            },
            "type": "histogram"
           }
          ],
          "histogram2d": [
           {
            "colorbar": {
             "outlinewidth": 0,
             "ticks": ""
            },
            "colorscale": [
             [
              0,
              "#0d0887"
             ],
             [
              0.1111111111111111,
              "#46039f"
             ],
             [
              0.2222222222222222,
              "#7201a8"
             ],
             [
              0.3333333333333333,
              "#9c179e"
             ],
             [
              0.4444444444444444,
              "#bd3786"
             ],
             [
              0.5555555555555556,
              "#d8576b"
             ],
             [
              0.6666666666666666,
              "#ed7953"
             ],
             [
              0.7777777777777778,
              "#fb9f3a"
             ],
             [
              0.8888888888888888,
              "#fdca26"
             ],
             [
              1,
              "#f0f921"
             ]
            ],
            "type": "histogram2d"
           }
          ],
          "histogram2dcontour": [
           {
            "colorbar": {
             "outlinewidth": 0,
             "ticks": ""
            },
            "colorscale": [
             [
              0,
              "#0d0887"
             ],
             [
              0.1111111111111111,
              "#46039f"
             ],
             [
              0.2222222222222222,
              "#7201a8"
             ],
             [
              0.3333333333333333,
              "#9c179e"
             ],
             [
              0.4444444444444444,
              "#bd3786"
             ],
             [
              0.5555555555555556,
              "#d8576b"
             ],
             [
              0.6666666666666666,
              "#ed7953"
             ],
             [
              0.7777777777777778,
              "#fb9f3a"
             ],
             [
              0.8888888888888888,
              "#fdca26"
             ],
             [
              1,
              "#f0f921"
             ]
            ],
            "type": "histogram2dcontour"
           }
          ],
          "mesh3d": [
           {
            "colorbar": {
             "outlinewidth": 0,
             "ticks": ""
            },
            "type": "mesh3d"
           }
          ],
          "parcoords": [
           {
            "line": {
             "colorbar": {
              "outlinewidth": 0,
              "ticks": ""
             }
            },
            "type": "parcoords"
           }
          ],
          "pie": [
           {
            "automargin": true,
            "type": "pie"
           }
          ],
          "scatter": [
           {
            "marker": {
             "line": {
              "color": "#283442"
             }
            },
            "type": "scatter"
           }
          ],
          "scatter3d": [
           {
            "line": {
             "colorbar": {
              "outlinewidth": 0,
              "ticks": ""
             }
            },
            "marker": {
             "colorbar": {
              "outlinewidth": 0,
              "ticks": ""
             }
            },
            "type": "scatter3d"
           }
          ],
          "scattercarpet": [
           {
            "marker": {
             "colorbar": {
              "outlinewidth": 0,
              "ticks": ""
             }
            },
            "type": "scattercarpet"
           }
          ],
          "scattergeo": [
           {
            "marker": {
             "colorbar": {
              "outlinewidth": 0,
              "ticks": ""
             }
            },
            "type": "scattergeo"
           }
          ],
          "scattergl": [
           {
            "marker": {
             "line": {
              "color": "#283442"
             }
            },
            "type": "scattergl"
           }
          ],
          "scattermapbox": [
           {
            "marker": {
             "colorbar": {
              "outlinewidth": 0,
              "ticks": ""
             }
            },
            "type": "scattermapbox"
           }
          ],
          "scatterpolar": [
           {
            "marker": {
             "colorbar": {
              "outlinewidth": 0,
              "ticks": ""
             }
            },
            "type": "scatterpolar"
           }
          ],
          "scatterpolargl": [
           {
            "marker": {
             "colorbar": {
              "outlinewidth": 0,
              "ticks": ""
             }
            },
            "type": "scatterpolargl"
           }
          ],
          "scatterternary": [
           {
            "marker": {
             "colorbar": {
              "outlinewidth": 0,
              "ticks": ""
             }
            },
            "type": "scatterternary"
           }
          ],
          "surface": [
           {
            "colorbar": {
             "outlinewidth": 0,
             "ticks": ""
            },
            "colorscale": [
             [
              0,
              "#0d0887"
             ],
             [
              0.1111111111111111,
              "#46039f"
             ],
             [
              0.2222222222222222,
              "#7201a8"
             ],
             [
              0.3333333333333333,
              "#9c179e"
             ],
             [
              0.4444444444444444,
              "#bd3786"
             ],
             [
              0.5555555555555556,
              "#d8576b"
             ],
             [
              0.6666666666666666,
              "#ed7953"
             ],
             [
              0.7777777777777778,
              "#fb9f3a"
             ],
             [
              0.8888888888888888,
              "#fdca26"
             ],
             [
              1,
              "#f0f921"
             ]
            ],
            "type": "surface"
           }
          ],
          "table": [
           {
            "cells": {
             "fill": {
              "color": "#506784"
             },
             "line": {
              "color": "rgb(17,17,17)"
             }
            },
            "header": {
             "fill": {
              "color": "#2a3f5f"
             },
             "line": {
              "color": "rgb(17,17,17)"
             }
            },
            "type": "table"
           }
          ]
         },
         "layout": {
          "annotationdefaults": {
           "arrowcolor": "#f2f5fa",
           "arrowhead": 0,
           "arrowwidth": 1
          },
          "autotypenumbers": "strict",
          "coloraxis": {
           "colorbar": {
            "outlinewidth": 0,
            "ticks": ""
           }
          },
          "colorscale": {
           "diverging": [
            [
             0,
             "#8e0152"
            ],
            [
             0.1,
             "#c51b7d"
            ],
            [
             0.2,
             "#de77ae"
            ],
            [
             0.3,
             "#f1b6da"
            ],
            [
             0.4,
             "#fde0ef"
            ],
            [
             0.5,
             "#f7f7f7"
            ],
            [
             0.6,
             "#e6f5d0"
            ],
            [
             0.7,
             "#b8e186"
            ],
            [
             0.8,
             "#7fbc41"
            ],
            [
             0.9,
             "#4d9221"
            ],
            [
             1,
             "#276419"
            ]
           ],
           "sequential": [
            [
             0,
             "#0d0887"
            ],
            [
             0.1111111111111111,
             "#46039f"
            ],
            [
             0.2222222222222222,
             "#7201a8"
            ],
            [
             0.3333333333333333,
             "#9c179e"
            ],
            [
             0.4444444444444444,
             "#bd3786"
            ],
            [
             0.5555555555555556,
             "#d8576b"
            ],
            [
             0.6666666666666666,
             "#ed7953"
            ],
            [
             0.7777777777777778,
             "#fb9f3a"
            ],
            [
             0.8888888888888888,
             "#fdca26"
            ],
            [
             1,
             "#f0f921"
            ]
           ],
           "sequentialminus": [
            [
             0,
             "#0d0887"
            ],
            [
             0.1111111111111111,
             "#46039f"
            ],
            [
             0.2222222222222222,
             "#7201a8"
            ],
            [
             0.3333333333333333,
             "#9c179e"
            ],
            [
             0.4444444444444444,
             "#bd3786"
            ],
            [
             0.5555555555555556,
             "#d8576b"
            ],
            [
             0.6666666666666666,
             "#ed7953"
            ],
            [
             0.7777777777777778,
             "#fb9f3a"
            ],
            [
             0.8888888888888888,
             "#fdca26"
            ],
            [
             1,
             "#f0f921"
            ]
           ]
          },
          "colorway": [
           "#636efa",
           "#EF553B",
           "#00cc96",
           "#ab63fa",
           "#FFA15A",
           "#19d3f3",
           "#FF6692",
           "#B6E880",
           "#FF97FF",
           "#FECB52"
          ],
          "font": {
           "color": "#f2f5fa"
          },
          "geo": {
           "bgcolor": "rgb(17,17,17)",
           "lakecolor": "rgb(17,17,17)",
           "landcolor": "rgb(17,17,17)",
           "showlakes": true,
           "showland": true,
           "subunitcolor": "#506784"
          },
          "hoverlabel": {
           "align": "left"
          },
          "hovermode": "closest",
          "mapbox": {
           "style": "dark"
          },
          "paper_bgcolor": "rgb(17,17,17)",
          "plot_bgcolor": "rgb(17,17,17)",
          "polar": {
           "angularaxis": {
            "gridcolor": "#506784",
            "linecolor": "#506784",
            "ticks": ""
           },
           "bgcolor": "rgb(17,17,17)",
           "radialaxis": {
            "gridcolor": "#506784",
            "linecolor": "#506784",
            "ticks": ""
           }
          },
          "scene": {
           "xaxis": {
            "backgroundcolor": "rgb(17,17,17)",
            "gridcolor": "#506784",
            "gridwidth": 2,
            "linecolor": "#506784",
            "showbackground": true,
            "ticks": "",
            "zerolinecolor": "#C8D4E3"
           },
           "yaxis": {
            "backgroundcolor": "rgb(17,17,17)",
            "gridcolor": "#506784",
            "gridwidth": 2,
            "linecolor": "#506784",
            "showbackground": true,
            "ticks": "",
            "zerolinecolor": "#C8D4E3"
           },
           "zaxis": {
            "backgroundcolor": "rgb(17,17,17)",
            "gridcolor": "#506784",
            "gridwidth": 2,
            "linecolor": "#506784",
            "showbackground": true,
            "ticks": "",
            "zerolinecolor": "#C8D4E3"
           }
          },
          "shapedefaults": {
           "line": {
            "color": "#f2f5fa"
           }
          },
          "sliderdefaults": {
           "bgcolor": "#C8D4E3",
           "bordercolor": "rgb(17,17,17)",
           "borderwidth": 1,
           "tickwidth": 0
          },
          "ternary": {
           "aaxis": {
            "gridcolor": "#506784",
            "linecolor": "#506784",
            "ticks": ""
           },
           "baxis": {
            "gridcolor": "#506784",
            "linecolor": "#506784",
            "ticks": ""
           },
           "bgcolor": "rgb(17,17,17)",
           "caxis": {
            "gridcolor": "#506784",
            "linecolor": "#506784",
            "ticks": ""
           }
          },
          "title": {
           "x": 0.05
          },
          "updatemenudefaults": {
           "bgcolor": "#506784",
           "borderwidth": 0
          },
          "xaxis": {
           "automargin": true,
           "gridcolor": "#283442",
           "linecolor": "#506784",
           "ticks": "",
           "title": {
            "standoff": 15
           },
           "zerolinecolor": "#283442",
           "zerolinewidth": 2
          },
          "yaxis": {
           "automargin": true,
           "gridcolor": "#283442",
           "linecolor": "#506784",
           "ticks": "",
           "title": {
            "standoff": 15
           },
           "zerolinecolor": "#283442",
           "zerolinewidth": 2
          }
         }
        },
        "title": {
         "text": "Bicycle accidents Mortality by age 2005-2020",
         "x": 0.5
        },
        "width": 1100,
        "xaxis": {
         "anchor": "y",
         "domain": [
          0,
          1
         ],
         "title": {
          "text": "Age"
         }
        },
        "yaxis": {
         "anchor": "x",
         "domain": [
          0,
          1
         ],
         "title": {
          "text": "Victims by severity (%)"
         }
        }
       }
      }
     },
     "metadata": {},
     "output_type": "display_data"
    }
   ],
   "source": [
    "fig2 = px.bar(dx, x=\"age\", y=\"percentage\", text=\"percentage\", color=\"grav\" ,\n",
    "    template=\"plotly_dark\",\n",
    "    color_discrete_sequence= [\"greenyellow\", \"crimson\", \"gold\", \"peachpuff\"],\n",
    "    labels={ 'sexe': 'victims count', 'grav':'severity'},\n",
    "    category_orders={'grav':['unharmed','killed','hospitalized','slight injuries']}\n",
    "    )\n",
    "\n",
    "fig2.update_layout(width=1100, height=500,xaxis_title_text='Age' , yaxis_title_text='Victims by severity (%)',\n",
    "    title='Bicycle accidents Mortality by age 2005-2020',\n",
    "    title_x=.5\n",
    " )\n",
    "fig2.update_traces(textposition='inside', opacity=0.8 , visible=True)\n",
    "fig2.show()"
   ]
  },
  {
   "cell_type": "markdown",
   "metadata": {},
   "source": [
    "(You can  select wich lever of severity to display)\n",
    "- The graph below is showing that the mortalily of accident is at it lowest between the age of 20 & 40.\n",
    "- The mortality of victims under 20 is slightly higher, since the the victims between 13 & 20 have the highest number of accidents we give them their own category.\n",
    "- The mortality is getting much higher for people over 40 years old, and it keeps going up exponentially. Since the number of accidents is getting lower after 60, we divide this category into two subcategories : first one between 40 and 60, and the second for people over 60.\n",
    "\n",
    "So the categories for 'age' are : \n",
    "- 1 : age < 13\n",
    "- 2 : 13=< age =<20\n",
    "- 3 : 20 < age =< 40\n",
    "- 4 : 40 < age =< 60\n",
    "- 5 : 60 < age \n"
   ]
  },
  {
   "cell_type": "code",
   "execution_count": 12,
   "metadata": {},
   "outputs": [],
   "source": [
    "#We cut the 'age' features into the 5 categories above:\n",
    "\n",
    "data['age']= pd.cut(data.age, bins=[0,12,20,40,60,99], labels=[1,2,3,4,5] )\n",
    "\n",
    "#save a copy for original data\n",
    "data_original= data.copy()"
   ]
  },
  {
   "cell_type": "markdown",
   "metadata": {},
   "source": [
    "### Preprocessing : Encoding and splitting data"
   ]
  },
  {
   "cell_type": "markdown",
   "metadata": {},
   "source": [
    "Now that the values of our features and their type is defined (all features are categorical), we need to encode our data before doing any modeling. We will use One-Hot encoding. Then we will split our data to trainset and testset."
   ]
  },
  {
   "cell_type": "code",
   "execution_count": 13,
   "metadata": {},
   "outputs": [],
   "source": [
    "#Transform all categorical variables to 'category' type\n",
    "data= data.astype('category')\n",
    "# Dummy encoding:\n",
    "data= pd.get_dummies(data)"
   ]
  },
  {
   "cell_type": "code",
   "execution_count": 14,
   "metadata": {},
   "outputs": [],
   "source": [
    "#Split to train and test sets:\n",
    "X_train, X_test, y_train, y_test = train_test_split(data, target, test_size= .2, random_state= 42, shuffle=True )"
   ]
  },
  {
   "cell_type": "markdown",
   "metadata": {},
   "source": [
    "### Features selection"
   ]
  },
  {
   "cell_type": "markdown",
   "metadata": {},
   "source": [
    "In this part we will try to sort out features with higher importance. In order to validate our choice it has been tested and compared with original data using different values.\n",
    "Note that we have tested SelectKBEst & VarianceThreshold from scikit-learn, they gave us same results. We kept the first selector.\n",
    "\n",
    "\n",
    "The table below contains the variance of each dummy, it reflects the value count for each category, the smaller it's the smaller the variance"
   ]
  },
  {
   "cell_type": "code",
   "execution_count": 15,
   "metadata": {},
   "outputs": [
    {
     "data": {
      "text/html": [
       "<div>\n",
       "<style scoped>\n",
       "    .dataframe tbody tr th:only-of-type {\n",
       "        vertical-align: middle;\n",
       "    }\n",
       "\n",
       "    .dataframe tbody tr th {\n",
       "        vertical-align: top;\n",
       "    }\n",
       "\n",
       "    .dataframe thead th {\n",
       "        text-align: right;\n",
       "    }\n",
       "</style>\n",
       "<table border=\"1\" class=\"dataframe\">\n",
       "  <thead>\n",
       "    <tr style=\"text-align: right;\">\n",
       "      <th></th>\n",
       "      <th>feature</th>\n",
       "      <th>variance</th>\n",
       "    </tr>\n",
       "  </thead>\n",
       "  <tbody>\n",
       "    <tr>\n",
       "      <th>9</th>\n",
       "      <td>int_0</td>\n",
       "      <td>0.000000</td>\n",
       "    </tr>\n",
       "    <tr>\n",
       "      <th>57</th>\n",
       "      <td>surf_4</td>\n",
       "      <td>0.011677</td>\n",
       "    </tr>\n",
       "    <tr>\n",
       "      <th>59</th>\n",
       "      <td>surf_6</td>\n",
       "      <td>0.018348</td>\n",
       "    </tr>\n",
       "    <tr>\n",
       "      <th>56</th>\n",
       "      <td>surf_3</td>\n",
       "      <td>0.063357</td>\n",
       "    </tr>\n",
       "    <tr>\n",
       "      <th>58</th>\n",
       "      <td>surf_5</td>\n",
       "      <td>0.075019</td>\n",
       "    </tr>\n",
       "    <tr>\n",
       "      <th>61</th>\n",
       "      <td>surf_8</td>\n",
       "      <td>0.080016</td>\n",
       "    </tr>\n",
       "    <tr>\n",
       "      <th>17</th>\n",
       "      <td>int_8</td>\n",
       "      <td>0.100000</td>\n",
       "    </tr>\n",
       "    <tr>\n",
       "      <th>28</th>\n",
       "      <td>catr_1</td>\n",
       "      <td>0.103330</td>\n",
       "    </tr>\n",
       "    <tr>\n",
       "      <th>72</th>\n",
       "      <td>situ_8</td>\n",
       "      <td>0.124969</td>\n",
       "    </tr>\n",
       "    <tr>\n",
       "      <th>60</th>\n",
       "      <td>surf_7</td>\n",
       "      <td>0.144934</td>\n",
       "    </tr>\n",
       "    <tr>\n",
       "      <th>22</th>\n",
       "      <td>atm_4</td>\n",
       "      <td>0.158241</td>\n",
       "    </tr>\n",
       "    <tr>\n",
       "      <th>71</th>\n",
       "      <td>situ_6</td>\n",
       "      <td>0.169881</td>\n",
       "    </tr>\n",
       "    <tr>\n",
       "      <th>24</th>\n",
       "      <td>atm_6</td>\n",
       "      <td>0.214752</td>\n",
       "    </tr>\n",
       "    <tr>\n",
       "      <th>32</th>\n",
       "      <td>catr_5</td>\n",
       "      <td>0.218074</td>\n",
       "    </tr>\n",
       "    <tr>\n",
       "      <th>34</th>\n",
       "      <td>catr_7</td>\n",
       "      <td>0.262902</td>\n",
       "    </tr>\n",
       "    <tr>\n",
       "      <th>67</th>\n",
       "      <td>situ_2</td>\n",
       "      <td>0.279495</td>\n",
       "    </tr>\n",
       "    <tr>\n",
       "      <th>23</th>\n",
       "      <td>atm_5</td>\n",
       "      <td>0.286130</td>\n",
       "    </tr>\n",
       "    <tr>\n",
       "      <th>27</th>\n",
       "      <td>atm_9</td>\n",
       "      <td>0.342496</td>\n",
       "    </tr>\n",
       "    <tr>\n",
       "      <th>33</th>\n",
       "      <td>catr_6</td>\n",
       "      <td>0.367343</td>\n",
       "    </tr>\n",
       "    <tr>\n",
       "      <th>5</th>\n",
       "      <td>lum_4</td>\n",
       "      <td>0.416999</td>\n",
       "    </tr>\n",
       "  </tbody>\n",
       "</table>\n",
       "</div>"
      ],
      "text/plain": [
       "   feature  variance\n",
       "9    int_0  0.000000\n",
       "57  surf_4  0.011677\n",
       "59  surf_6  0.018348\n",
       "56  surf_3  0.063357\n",
       "58  surf_5  0.075019\n",
       "61  surf_8  0.080016\n",
       "17   int_8  0.100000\n",
       "28  catr_1  0.103330\n",
       "72  situ_8  0.124969\n",
       "60  surf_7  0.144934\n",
       "22   atm_4  0.158241\n",
       "71  situ_6  0.169881\n",
       "24   atm_6  0.214752\n",
       "32  catr_5  0.218074\n",
       "34  catr_7  0.262902\n",
       "67  situ_2  0.279495\n",
       "23   atm_5  0.286130\n",
       "27   atm_9  0.342496\n",
       "33  catr_6  0.367343\n",
       "5    lum_4  0.416999"
      ]
     },
     "execution_count": 15,
     "metadata": {},
     "output_type": "execute_result"
    }
   ],
   "source": [
    "var_df= pd.DataFrame({ 'feature':X_train.columns.tolist() , 'variance':X_train.var(axis=0).tolist()}).sort_values(by='variance')\n",
    "var_df['variance']=var_df.variance*100\n",
    "var_df.head(20)"
   ]
  },
  {
   "cell_type": "code",
   "execution_count": 16,
   "metadata": {},
   "outputs": [
    {
     "name": "stdout",
     "output_type": "stream",
     "text": [
      "Index(['sexe_1', 'sexe_2', 'lum_1', 'lum_2', 'lum_3', 'lum_5', 'agg_1',\n",
      "       'agg_2', 'int_1', 'int_2', 'int_3', 'int_4', 'int_5', 'int_6', 'int_7',\n",
      "       'int_8', 'int_9', 'atm_2', 'atm_5', 'atm_6', 'atm_7', 'catr_1',\n",
      "       'catr_2', 'catr_3', 'catr_4', 'catr_9', 'circ_0', 'circ_1', 'circ_2',\n",
      "       'circ_3', 'nbv_1', 'nbv_2', 'nbv_3', 'nbv_4', 'vosp_0', 'vosp_1',\n",
      "       'vosp_2', 'vosp_3', 'plan_0', 'plan_1', 'plan_2', 'plan_3', 'plan_4',\n",
      "       'surf_2', 'surf_6', 'surf_9', 'infra_0', 'infra_1', 'situ_0', 'situ_1',\n",
      "       'situ_3', 'situ_4', 'situ_5', 'situ_6', 'situ_8', 'age_1', 'age_2',\n",
      "       'age_3', 'age_4', 'age_5'],\n",
      "      dtype='object')\n"
     ]
    }
   ],
   "source": [
    "#This value is chosen after testing diffrent k values on DSClassifier\n",
    "# chi2 score is suited for testing score for categorial variables:\n",
    "select= SelectKBest(score_func=chi2, k=60 )\n",
    "\n",
    "X_train_reduced = select.fit_transform(X_train,y_train)\n",
    "X_test_reduced = select.transform(X_test)\n",
    "\n",
    "print(data.columns[select.get_support().tolist()])\n",
    "#pd.DataFrame( X_train_reduced, columns=data.columns[select.get_support().tolist()])"
   ]
  },
  {
   "cell_type": "markdown",
   "metadata": {},
   "source": [
    "### Model Selection"
   ]
  },
  {
   "cell_type": "markdown",
   "metadata": {},
   "source": [
    "In this part we will test some supervised prediction model for classification on our dataset, using cross validation. In order to find the best parameters set for each model, we use the GridSearchCV from scikit-learn package.\n",
    "\n",
    "First we are going to test simple models like : DecisionTree, KNearestNeighbors, SVM, Lasso. And then we test test with ensemble models: RandomForestClassifier. Testing will be done on normal data and reduced data with SelektKBest.\n",
    "\n",
    "In order to improve results, we tried Over and UnderSampling but they had made score lower."
   ]
  },
  {
   "cell_type": "code",
   "execution_count": 17,
   "metadata": {},
   "outputs": [],
   "source": [
    "#Define the cross-validation splitting method\n",
    "CV= StratifiedShuffleSplit(n_splits= 10, test_size=.2, random_state= 42 )"
   ]
  },
  {
   "cell_type": "code",
   "execution_count": 18,
   "metadata": {},
   "outputs": [],
   "source": [
    "estimators={}\n",
    "grids= {}\n",
    "params= {}\n",
    "\n",
    "#Define RMS function:\n",
    "def RMSE(y_predict, y_reel):\n",
    "    rmse= np.sqrt(mean_squared_error(y_predict, y_reel))\n",
    "    return rmse"
   ]
  },
  {
   "cell_type": "markdown",
   "metadata": {},
   "source": [
    "**A. Non reduced data**"
   ]
  },
  {
   "cell_type": "markdown",
   "metadata": {},
   "source": [
    "**1. Decision Tree**"
   ]
  },
  {
   "cell_type": "code",
   "execution_count": 19,
   "metadata": {},
   "outputs": [
    {
     "name": "stdout",
     "output_type": "stream",
     "text": [
      "Score R2 on trainset      :  0.6497389099280959\n",
      "Score R2 on testset       :  0.6466702255438409\n",
      "Score of RMSE on trainset :  0.9253965381249061\n",
      "Score of RMSE on testset  :  0.9224573336277073\n",
      "Best parameters           :  {'criterion': 'gini', 'max_depth': 6, 'min_samples_leaf': 3}\n",
      "Execution time:  0:00:30.563697\n"
     ]
    },
    {
     "data": {
      "text/plain": [
       "['DS_Grid']"
      ]
     },
     "execution_count": 19,
     "metadata": {},
     "output_type": "execute_result"
    }
   ],
   "source": [
    "start = timer()\n",
    "#Define estimator\n",
    "estimators['DS']= DecisionTreeClassifier()\n",
    "\n",
    "#Define parmameters for DS grid:\n",
    "params['DS']= { \n",
    "    'criterion':['entropy','gini'], \n",
    "    'max_depth':[3,4,5,6,7],\n",
    "    'min_samples_leaf':[1,2,3,4,5]\n",
    "}\n",
    "#Define DS model grid:\n",
    "grids['DS'] = GridSearchCV(estimator= estimators['DS'], param_grid= params['DS'], n_jobs=-1, cv=CV)\n",
    "grids['DS'].fit(X_train, y_train)\n",
    "\n",
    "#testing model and getting best parameters:\n",
    "y_pred_train = grids['DS'].best_estimator_.predict(X_train)\n",
    "y_pred_test = grids['DS'].best_estimator_.predict(X_test)\n",
    "\n",
    "print(\"Score R2 on trainset      : \", grids['DS'].best_estimator_.score(X_train, y_train))\n",
    "print(\"Score R2 on testset       : \", grids['DS'].best_estimator_.score(X_test, y_test))\n",
    "\n",
    "print(\"Score of RMSE on trainset : \", RMSE(y_train, y_pred_train))\n",
    "print(\"Score of RMSE on testset  : \", RMSE(y_test,y_pred_test))\n",
    "\n",
    "print(\"Best parameters           : \", grids['DS'].best_params_)\n",
    "end = timer()\n",
    "print(\"Execution time: \", timedelta(seconds=end-start))\n",
    "\n",
    "#save models\n",
    "dump(grids['DS'] , 'DS_Grid')"
   ]
  },
  {
   "cell_type": "markdown",
   "metadata": {},
   "source": [
    "**2. KNearestNeighbores**"
   ]
  },
  {
   "cell_type": "code",
   "execution_count": 58,
   "metadata": {},
   "outputs": [
    {
     "name": "stdout",
     "output_type": "stream",
     "text": [
      "Score R2 on trainset      :  0.6514906324552476\n",
      "Score R2 on testset       :  0.5912184705725344\n",
      "Score of RMSE on trainset :  0.9585249730472455\n",
      "Score of RMSE on testset  :  1.015823034132535\n",
      "Best parameters           :  {'leaf_size': 30, 'metric': 'minkowski', 'n_neighbors': 6}\n",
      "Execution time:  1:14:56.331716\n"
     ]
    }
   ],
   "source": [
    "start = timer()\n",
    "#Define estimator\n",
    "estimators['KNN']= KNeighborsClassifier()\n",
    "\n",
    "#Define parameters for KNN grid:\n",
    "params['KNN']= { \n",
    "    'n_neighbors':np.arange(1,7),\n",
    "    'metric':['minkowski','manhattan','euclidean'],\n",
    "    'leaf_size':[30,40,50]\n",
    "}\n",
    "#Define KNN model grid:\n",
    "grids['KNN'] = GridSearchCV(estimator= estimators['KNN'], param_grid= params['KNN'], n_jobs=-1, cv=CV)\n",
    "grids['KNN'].fit(X_train, y_train)\n",
    "\n",
    "#testing model and getting best parameters:\n",
    "y_pred_train = grids['KNN'].best_estimator_.predict(X_train)\n",
    "y_pred_test = grids['KNN'].best_estimator_.predict(X_test)\n",
    "\n",
    "print(\"Score R2 on trainset      : \", grids['KNN'].best_estimator_.score(X_train, y_train))\n",
    "print(\"Score R2 on testset       : \", grids['KNN'].best_estimator_.score(X_test, y_test))\n",
    "\n",
    "print(\"Score of RMSE on trainset : \", RMSE(y_train, y_pred_train))\n",
    "print(\"Score of RMSE on testset  : \", RMSE(y_test,y_pred_test))\n",
    "\n",
    "print(\"Best parameters           : \", grids['KNN'].best_params_)\n",
    "end = timer()\n",
    "print(\"Execution time: \", timedelta(seconds=end-start))\n",
    "\n",
    "#save model\n",
    "dump(grids['KNN'], 'KNN_Grid')"
   ]
  },
  {
   "cell_type": "markdown",
   "metadata": {},
   "source": [
    "\n",
    "**3. SVM**"
   ]
  },
  {
   "cell_type": "code",
   "execution_count": 62,
   "metadata": {},
   "outputs": [],
   "source": [
    "start = timer()\n",
    "#Define estimator\n",
    "estimators['SVM']= SVC()\n",
    "\n",
    "#Define parameters for SVM grid:\n",
    "params['SVM']= { \n",
    "    'C':[.1, 1,10],\n",
    "    'kernel':['poly', 'rbf']\n",
    "}\n",
    "#Define SVM model grid:\n",
    "grids['SVM'] = GridSearchCV(estimator= estimators['SVM'], param_grid= params['SVM'], n_jobs=-1, cv=CV)\n",
    "grids['SVM'].fit(X_train, y_train)\n",
    "\n",
    "#testing model and getting best parameters:\n",
    "y_pred_train = grids['SVM'].best_estimator_.predict(X_train)\n",
    "y_pred_test = grids['SVM'].best_estimator_.predict(X_test)\n",
    "\n",
    "print(\"Score R2 on trainset      : \", grids['SVM'].best_estimator_.score(X_train, y_train))\n",
    "print(\"Score R2 on testset       : \", grids['SVM'].best_estimator_.score(X_test, y_test))\n",
    "\n",
    "print(\"Score of RMSE on trainset : \", RMSE(y_train, y_pred_train))\n",
    "print(\"Score of RMSE on testset  : \", RMSE(y_test,y_pred_test))\n",
    "\n",
    "print(\"Best parameters           : \", grids['SVM'].best_params_)\n",
    "end = timer()\n",
    "print(\"Execution time: \", timedelta(seconds=end-start))\n",
    "\n",
    "#save models\n",
    "dump(grids['SVM'] , 'SVM_Grid')"
   ]
  },
  {
   "cell_type": "markdown",
   "metadata": {},
   "source": [
    "* After 400min execution was still running, so I had to interrupt"
   ]
  },
  {
   "cell_type": "markdown",
   "metadata": {},
   "source": [
    "**4. Lasso**"
   ]
  },
  {
   "cell_type": "code",
   "execution_count": 20,
   "metadata": {},
   "outputs": [
    {
     "name": "stdout",
     "output_type": "stream",
     "text": [
      "Score R2 on trainset      :  0.06920928210312038\n",
      "Score R2 on testset       :  0.06241237729739091\n",
      "Score of RMSE on trainset :  0.8009217965126396\n",
      "Score of RMSE on testset  :  0.7969710153369441\n",
      "Best parameters           :  0.0001\n",
      "Execution time:  0:00:01.530534\n"
     ]
    },
    {
     "data": {
      "text/plain": [
       "['Lasso']"
      ]
     },
     "execution_count": 20,
     "metadata": {},
     "output_type": "execute_result"
    }
   ],
   "source": [
    "start = timer()\n",
    "\n",
    "#Define Lasso model:\n",
    "model_lasso= LassoCV(alphas=[1e-6, 1e-5, 1e-4, 2e-4, 0.001, 0.1,1,10], n_jobs= -1, max_iter=1000, cv=CV )\n",
    "model_lasso.fit(X_train, y_train )\n",
    "\n",
    "#testing model:\n",
    "y_pred_train = model_lasso.predict(X_train)\n",
    "y_pred_test = model_lasso.predict(X_test)\n",
    "model_lasso.get_params()\n",
    "\n",
    "print(\"Score R2 on trainset      : \", model_lasso.score(X_train, y_train))\n",
    "print(\"Score R2 on testset       : \", model_lasso.score(X_test, y_test))\n",
    "\n",
    "print(\"Score of RMSE on trainset : \", RMSE(y_train, y_pred_train))\n",
    "print(\"Score of RMSE on testset  : \", RMSE(y_test,y_pred_test))\n",
    "\n",
    "print(\"Best parameters           : \", model_lasso.alpha_)\n",
    "end = timer()\n",
    "print(\"Execution time: \", timedelta(seconds=end-start))\n",
    "\n",
    "#save models\n",
    "dump(model_lasso , 'Lasso')"
   ]
  },
  {
   "cell_type": "markdown",
   "metadata": {},
   "source": [
    "**5. RandomForest**"
   ]
  },
  {
   "cell_type": "code",
   "execution_count": 11,
   "metadata": {},
   "outputs": [
    {
     "ename": "KeyboardInterrupt",
     "evalue": "",
     "output_type": "error",
     "traceback": [
      "\u001b[1;31m---------------------------------------------------------------------------\u001b[0m",
      "\u001b[1;31mKeyboardInterrupt\u001b[0m                         Traceback (most recent call last)",
      "\u001b[1;32m<ipython-input-11-462159e1816b>\u001b[0m in \u001b[0;36m<module>\u001b[1;34m\u001b[0m\n\u001b[0;32m     11\u001b[0m \u001b[1;31m#Define RF model grid:\u001b[0m\u001b[1;33m\u001b[0m\u001b[1;33m\u001b[0m\u001b[1;33m\u001b[0m\u001b[0m\n\u001b[0;32m     12\u001b[0m \u001b[0mgrids\u001b[0m\u001b[1;33m[\u001b[0m\u001b[1;34m'RF'\u001b[0m\u001b[1;33m]\u001b[0m \u001b[1;33m=\u001b[0m \u001b[0mGridSearchCV\u001b[0m\u001b[1;33m(\u001b[0m\u001b[0mestimator\u001b[0m\u001b[1;33m=\u001b[0m \u001b[0mestimators\u001b[0m\u001b[1;33m[\u001b[0m\u001b[1;34m'RF'\u001b[0m\u001b[1;33m]\u001b[0m\u001b[1;33m,\u001b[0m \u001b[0mparam_grid\u001b[0m\u001b[1;33m=\u001b[0m \u001b[0mparams\u001b[0m\u001b[1;33m[\u001b[0m\u001b[1;34m'RF'\u001b[0m\u001b[1;33m]\u001b[0m\u001b[1;33m,\u001b[0m \u001b[0mn_jobs\u001b[0m\u001b[1;33m=\u001b[0m\u001b[1;33m-\u001b[0m\u001b[1;36m1\u001b[0m\u001b[1;33m,\u001b[0m \u001b[0mcv\u001b[0m\u001b[1;33m=\u001b[0m\u001b[0mCV\u001b[0m\u001b[1;33m)\u001b[0m\u001b[1;33m\u001b[0m\u001b[1;33m\u001b[0m\u001b[0m\n\u001b[1;32m---> 13\u001b[1;33m \u001b[0mgrids\u001b[0m\u001b[1;33m[\u001b[0m\u001b[1;34m'RF'\u001b[0m\u001b[1;33m]\u001b[0m\u001b[1;33m.\u001b[0m\u001b[0mfit\u001b[0m\u001b[1;33m(\u001b[0m\u001b[0mX_train\u001b[0m\u001b[1;33m,\u001b[0m \u001b[0my_train\u001b[0m\u001b[1;33m)\u001b[0m\u001b[1;33m\u001b[0m\u001b[1;33m\u001b[0m\u001b[0m\n\u001b[0m\u001b[0;32m     14\u001b[0m \u001b[1;33m\u001b[0m\u001b[0m\n\u001b[0;32m     15\u001b[0m \u001b[1;31m#testing model and getting best parameters:\u001b[0m\u001b[1;33m\u001b[0m\u001b[1;33m\u001b[0m\u001b[1;33m\u001b[0m\u001b[0m\n",
      "\u001b[1;32m~\\anaconda3\\lib\\site-packages\\sklearn\\utils\\validation.py\u001b[0m in \u001b[0;36minner_f\u001b[1;34m(*args, **kwargs)\u001b[0m\n\u001b[0;32m     61\u001b[0m             \u001b[0mextra_args\u001b[0m \u001b[1;33m=\u001b[0m \u001b[0mlen\u001b[0m\u001b[1;33m(\u001b[0m\u001b[0margs\u001b[0m\u001b[1;33m)\u001b[0m \u001b[1;33m-\u001b[0m \u001b[0mlen\u001b[0m\u001b[1;33m(\u001b[0m\u001b[0mall_args\u001b[0m\u001b[1;33m)\u001b[0m\u001b[1;33m\u001b[0m\u001b[1;33m\u001b[0m\u001b[0m\n\u001b[0;32m     62\u001b[0m             \u001b[1;32mif\u001b[0m \u001b[0mextra_args\u001b[0m \u001b[1;33m<=\u001b[0m \u001b[1;36m0\u001b[0m\u001b[1;33m:\u001b[0m\u001b[1;33m\u001b[0m\u001b[1;33m\u001b[0m\u001b[0m\n\u001b[1;32m---> 63\u001b[1;33m                 \u001b[1;32mreturn\u001b[0m \u001b[0mf\u001b[0m\u001b[1;33m(\u001b[0m\u001b[1;33m*\u001b[0m\u001b[0margs\u001b[0m\u001b[1;33m,\u001b[0m \u001b[1;33m**\u001b[0m\u001b[0mkwargs\u001b[0m\u001b[1;33m)\u001b[0m\u001b[1;33m\u001b[0m\u001b[1;33m\u001b[0m\u001b[0m\n\u001b[0m\u001b[0;32m     64\u001b[0m \u001b[1;33m\u001b[0m\u001b[0m\n\u001b[0;32m     65\u001b[0m             \u001b[1;31m# extra_args > 0\u001b[0m\u001b[1;33m\u001b[0m\u001b[1;33m\u001b[0m\u001b[1;33m\u001b[0m\u001b[0m\n",
      "\u001b[1;32m~\\anaconda3\\lib\\site-packages\\sklearn\\model_selection\\_search.py\u001b[0m in \u001b[0;36mfit\u001b[1;34m(self, X, y, groups, **fit_params)\u001b[0m\n\u001b[0;32m    839\u001b[0m                 \u001b[1;32mreturn\u001b[0m \u001b[0mresults\u001b[0m\u001b[1;33m\u001b[0m\u001b[1;33m\u001b[0m\u001b[0m\n\u001b[0;32m    840\u001b[0m \u001b[1;33m\u001b[0m\u001b[0m\n\u001b[1;32m--> 841\u001b[1;33m             \u001b[0mself\u001b[0m\u001b[1;33m.\u001b[0m\u001b[0m_run_search\u001b[0m\u001b[1;33m(\u001b[0m\u001b[0mevaluate_candidates\u001b[0m\u001b[1;33m)\u001b[0m\u001b[1;33m\u001b[0m\u001b[1;33m\u001b[0m\u001b[0m\n\u001b[0m\u001b[0;32m    842\u001b[0m \u001b[1;33m\u001b[0m\u001b[0m\n\u001b[0;32m    843\u001b[0m             \u001b[1;31m# multimetric is determined here because in the case of a callable\u001b[0m\u001b[1;33m\u001b[0m\u001b[1;33m\u001b[0m\u001b[1;33m\u001b[0m\u001b[0m\n",
      "\u001b[1;32m~\\anaconda3\\lib\\site-packages\\sklearn\\model_selection\\_search.py\u001b[0m in \u001b[0;36m_run_search\u001b[1;34m(self, evaluate_candidates)\u001b[0m\n\u001b[0;32m   1286\u001b[0m     \u001b[1;32mdef\u001b[0m \u001b[0m_run_search\u001b[0m\u001b[1;33m(\u001b[0m\u001b[0mself\u001b[0m\u001b[1;33m,\u001b[0m \u001b[0mevaluate_candidates\u001b[0m\u001b[1;33m)\u001b[0m\u001b[1;33m:\u001b[0m\u001b[1;33m\u001b[0m\u001b[1;33m\u001b[0m\u001b[0m\n\u001b[0;32m   1287\u001b[0m         \u001b[1;34m\"\"\"Search all candidates in param_grid\"\"\"\u001b[0m\u001b[1;33m\u001b[0m\u001b[1;33m\u001b[0m\u001b[0m\n\u001b[1;32m-> 1288\u001b[1;33m         \u001b[0mevaluate_candidates\u001b[0m\u001b[1;33m(\u001b[0m\u001b[0mParameterGrid\u001b[0m\u001b[1;33m(\u001b[0m\u001b[0mself\u001b[0m\u001b[1;33m.\u001b[0m\u001b[0mparam_grid\u001b[0m\u001b[1;33m)\u001b[0m\u001b[1;33m)\u001b[0m\u001b[1;33m\u001b[0m\u001b[1;33m\u001b[0m\u001b[0m\n\u001b[0m\u001b[0;32m   1289\u001b[0m \u001b[1;33m\u001b[0m\u001b[0m\n\u001b[0;32m   1290\u001b[0m \u001b[1;33m\u001b[0m\u001b[0m\n",
      "\u001b[1;32m~\\anaconda3\\lib\\site-packages\\sklearn\\model_selection\\_search.py\u001b[0m in \u001b[0;36mevaluate_candidates\u001b[1;34m(candidate_params, cv, more_results)\u001b[0m\n\u001b[0;32m    793\u001b[0m                               n_splits, n_candidates, n_candidates * n_splits))\n\u001b[0;32m    794\u001b[0m \u001b[1;33m\u001b[0m\u001b[0m\n\u001b[1;32m--> 795\u001b[1;33m                 out = parallel(delayed(_fit_and_score)(clone(base_estimator),\n\u001b[0m\u001b[0;32m    796\u001b[0m                                                        \u001b[0mX\u001b[0m\u001b[1;33m,\u001b[0m \u001b[0my\u001b[0m\u001b[1;33m,\u001b[0m\u001b[1;33m\u001b[0m\u001b[1;33m\u001b[0m\u001b[0m\n\u001b[0;32m    797\u001b[0m                                                        \u001b[0mtrain\u001b[0m\u001b[1;33m=\u001b[0m\u001b[0mtrain\u001b[0m\u001b[1;33m,\u001b[0m \u001b[0mtest\u001b[0m\u001b[1;33m=\u001b[0m\u001b[0mtest\u001b[0m\u001b[1;33m,\u001b[0m\u001b[1;33m\u001b[0m\u001b[1;33m\u001b[0m\u001b[0m\n",
      "\u001b[1;32m~\\anaconda3\\lib\\site-packages\\joblib\\parallel.py\u001b[0m in \u001b[0;36m__call__\u001b[1;34m(self, iterable)\u001b[0m\n\u001b[0;32m   1052\u001b[0m \u001b[1;33m\u001b[0m\u001b[0m\n\u001b[0;32m   1053\u001b[0m             \u001b[1;32mwith\u001b[0m \u001b[0mself\u001b[0m\u001b[1;33m.\u001b[0m\u001b[0m_backend\u001b[0m\u001b[1;33m.\u001b[0m\u001b[0mretrieval_context\u001b[0m\u001b[1;33m(\u001b[0m\u001b[1;33m)\u001b[0m\u001b[1;33m:\u001b[0m\u001b[1;33m\u001b[0m\u001b[1;33m\u001b[0m\u001b[0m\n\u001b[1;32m-> 1054\u001b[1;33m                 \u001b[0mself\u001b[0m\u001b[1;33m.\u001b[0m\u001b[0mretrieve\u001b[0m\u001b[1;33m(\u001b[0m\u001b[1;33m)\u001b[0m\u001b[1;33m\u001b[0m\u001b[1;33m\u001b[0m\u001b[0m\n\u001b[0m\u001b[0;32m   1055\u001b[0m             \u001b[1;31m# Make sure that we get a last message telling us we are done\u001b[0m\u001b[1;33m\u001b[0m\u001b[1;33m\u001b[0m\u001b[1;33m\u001b[0m\u001b[0m\n\u001b[0;32m   1056\u001b[0m             \u001b[0melapsed_time\u001b[0m \u001b[1;33m=\u001b[0m \u001b[0mtime\u001b[0m\u001b[1;33m.\u001b[0m\u001b[0mtime\u001b[0m\u001b[1;33m(\u001b[0m\u001b[1;33m)\u001b[0m \u001b[1;33m-\u001b[0m \u001b[0mself\u001b[0m\u001b[1;33m.\u001b[0m\u001b[0m_start_time\u001b[0m\u001b[1;33m\u001b[0m\u001b[1;33m\u001b[0m\u001b[0m\n",
      "\u001b[1;32m~\\anaconda3\\lib\\site-packages\\joblib\\parallel.py\u001b[0m in \u001b[0;36mretrieve\u001b[1;34m(self)\u001b[0m\n\u001b[0;32m    931\u001b[0m             \u001b[1;32mtry\u001b[0m\u001b[1;33m:\u001b[0m\u001b[1;33m\u001b[0m\u001b[1;33m\u001b[0m\u001b[0m\n\u001b[0;32m    932\u001b[0m                 \u001b[1;32mif\u001b[0m \u001b[0mgetattr\u001b[0m\u001b[1;33m(\u001b[0m\u001b[0mself\u001b[0m\u001b[1;33m.\u001b[0m\u001b[0m_backend\u001b[0m\u001b[1;33m,\u001b[0m \u001b[1;34m'supports_timeout'\u001b[0m\u001b[1;33m,\u001b[0m \u001b[1;32mFalse\u001b[0m\u001b[1;33m)\u001b[0m\u001b[1;33m:\u001b[0m\u001b[1;33m\u001b[0m\u001b[1;33m\u001b[0m\u001b[0m\n\u001b[1;32m--> 933\u001b[1;33m                     \u001b[0mself\u001b[0m\u001b[1;33m.\u001b[0m\u001b[0m_output\u001b[0m\u001b[1;33m.\u001b[0m\u001b[0mextend\u001b[0m\u001b[1;33m(\u001b[0m\u001b[0mjob\u001b[0m\u001b[1;33m.\u001b[0m\u001b[0mget\u001b[0m\u001b[1;33m(\u001b[0m\u001b[0mtimeout\u001b[0m\u001b[1;33m=\u001b[0m\u001b[0mself\u001b[0m\u001b[1;33m.\u001b[0m\u001b[0mtimeout\u001b[0m\u001b[1;33m)\u001b[0m\u001b[1;33m)\u001b[0m\u001b[1;33m\u001b[0m\u001b[1;33m\u001b[0m\u001b[0m\n\u001b[0m\u001b[0;32m    934\u001b[0m                 \u001b[1;32melse\u001b[0m\u001b[1;33m:\u001b[0m\u001b[1;33m\u001b[0m\u001b[1;33m\u001b[0m\u001b[0m\n\u001b[0;32m    935\u001b[0m                     \u001b[0mself\u001b[0m\u001b[1;33m.\u001b[0m\u001b[0m_output\u001b[0m\u001b[1;33m.\u001b[0m\u001b[0mextend\u001b[0m\u001b[1;33m(\u001b[0m\u001b[0mjob\u001b[0m\u001b[1;33m.\u001b[0m\u001b[0mget\u001b[0m\u001b[1;33m(\u001b[0m\u001b[1;33m)\u001b[0m\u001b[1;33m)\u001b[0m\u001b[1;33m\u001b[0m\u001b[1;33m\u001b[0m\u001b[0m\n",
      "\u001b[1;32m~\\anaconda3\\lib\\site-packages\\joblib\\_parallel_backends.py\u001b[0m in \u001b[0;36mwrap_future_result\u001b[1;34m(future, timeout)\u001b[0m\n\u001b[0;32m    540\u001b[0m         AsyncResults.get from multiprocessing.\"\"\"\n\u001b[0;32m    541\u001b[0m         \u001b[1;32mtry\u001b[0m\u001b[1;33m:\u001b[0m\u001b[1;33m\u001b[0m\u001b[1;33m\u001b[0m\u001b[0m\n\u001b[1;32m--> 542\u001b[1;33m             \u001b[1;32mreturn\u001b[0m \u001b[0mfuture\u001b[0m\u001b[1;33m.\u001b[0m\u001b[0mresult\u001b[0m\u001b[1;33m(\u001b[0m\u001b[0mtimeout\u001b[0m\u001b[1;33m=\u001b[0m\u001b[0mtimeout\u001b[0m\u001b[1;33m)\u001b[0m\u001b[1;33m\u001b[0m\u001b[1;33m\u001b[0m\u001b[0m\n\u001b[0m\u001b[0;32m    543\u001b[0m         \u001b[1;32mexcept\u001b[0m \u001b[0mCfTimeoutError\u001b[0m \u001b[1;32mas\u001b[0m \u001b[0me\u001b[0m\u001b[1;33m:\u001b[0m\u001b[1;33m\u001b[0m\u001b[1;33m\u001b[0m\u001b[0m\n\u001b[0;32m    544\u001b[0m             \u001b[1;32mraise\u001b[0m \u001b[0mTimeoutError\u001b[0m \u001b[1;32mfrom\u001b[0m \u001b[0me\u001b[0m\u001b[1;33m\u001b[0m\u001b[1;33m\u001b[0m\u001b[0m\n",
      "\u001b[1;32m~\\anaconda3\\lib\\concurrent\\futures\\_base.py\u001b[0m in \u001b[0;36mresult\u001b[1;34m(self, timeout)\u001b[0m\n\u001b[0;32m    432\u001b[0m                 \u001b[1;32mreturn\u001b[0m \u001b[0mself\u001b[0m\u001b[1;33m.\u001b[0m\u001b[0m__get_result\u001b[0m\u001b[1;33m(\u001b[0m\u001b[1;33m)\u001b[0m\u001b[1;33m\u001b[0m\u001b[1;33m\u001b[0m\u001b[0m\n\u001b[0;32m    433\u001b[0m \u001b[1;33m\u001b[0m\u001b[0m\n\u001b[1;32m--> 434\u001b[1;33m             \u001b[0mself\u001b[0m\u001b[1;33m.\u001b[0m\u001b[0m_condition\u001b[0m\u001b[1;33m.\u001b[0m\u001b[0mwait\u001b[0m\u001b[1;33m(\u001b[0m\u001b[0mtimeout\u001b[0m\u001b[1;33m)\u001b[0m\u001b[1;33m\u001b[0m\u001b[1;33m\u001b[0m\u001b[0m\n\u001b[0m\u001b[0;32m    435\u001b[0m \u001b[1;33m\u001b[0m\u001b[0m\n\u001b[0;32m    436\u001b[0m             \u001b[1;32mif\u001b[0m \u001b[0mself\u001b[0m\u001b[1;33m.\u001b[0m\u001b[0m_state\u001b[0m \u001b[1;32min\u001b[0m \u001b[1;33m[\u001b[0m\u001b[0mCANCELLED\u001b[0m\u001b[1;33m,\u001b[0m \u001b[0mCANCELLED_AND_NOTIFIED\u001b[0m\u001b[1;33m]\u001b[0m\u001b[1;33m:\u001b[0m\u001b[1;33m\u001b[0m\u001b[1;33m\u001b[0m\u001b[0m\n",
      "\u001b[1;32m~\\anaconda3\\lib\\threading.py\u001b[0m in \u001b[0;36mwait\u001b[1;34m(self, timeout)\u001b[0m\n\u001b[0;32m    300\u001b[0m         \u001b[1;32mtry\u001b[0m\u001b[1;33m:\u001b[0m    \u001b[1;31m# restore state no matter what (e.g., KeyboardInterrupt)\u001b[0m\u001b[1;33m\u001b[0m\u001b[1;33m\u001b[0m\u001b[0m\n\u001b[0;32m    301\u001b[0m             \u001b[1;32mif\u001b[0m \u001b[0mtimeout\u001b[0m \u001b[1;32mis\u001b[0m \u001b[1;32mNone\u001b[0m\u001b[1;33m:\u001b[0m\u001b[1;33m\u001b[0m\u001b[1;33m\u001b[0m\u001b[0m\n\u001b[1;32m--> 302\u001b[1;33m                 \u001b[0mwaiter\u001b[0m\u001b[1;33m.\u001b[0m\u001b[0macquire\u001b[0m\u001b[1;33m(\u001b[0m\u001b[1;33m)\u001b[0m\u001b[1;33m\u001b[0m\u001b[1;33m\u001b[0m\u001b[0m\n\u001b[0m\u001b[0;32m    303\u001b[0m                 \u001b[0mgotit\u001b[0m \u001b[1;33m=\u001b[0m \u001b[1;32mTrue\u001b[0m\u001b[1;33m\u001b[0m\u001b[1;33m\u001b[0m\u001b[0m\n\u001b[0;32m    304\u001b[0m             \u001b[1;32melse\u001b[0m\u001b[1;33m:\u001b[0m\u001b[1;33m\u001b[0m\u001b[1;33m\u001b[0m\u001b[0m\n",
      "\u001b[1;31mKeyboardInterrupt\u001b[0m: "
     ]
    }
   ],
   "source": [
    "start = timer()\n",
    "#Define estimator\n",
    "estimators['RF']= RandomForestClassifier(n_jobs=-1)\n",
    "\n",
    "#Define parameters for RF grid:\n",
    "params['RF']= { \n",
    "    'n_estimators':[1000, 1500,2000],\n",
    "    'max_features': ['auto', 'sqrt', 'log2'],\n",
    "    'max_depth':['None',5,10]\n",
    "}\n",
    "#Define RF model grid:\n",
    "grids['RF'] = GridSearchCV(estimator= estimators['RF'], param_grid= params['RF'], n_jobs=-1, cv=CV)\n",
    "grids['RF'].fit(X_train, y_train)\n",
    "\n",
    "#testing model and getting best parameters:\n",
    "y_pred_train = grids['RF'].best_estimator_.predict(X_train)\n",
    "y_pred_test = grids['RF'].best_estimator_.predict(X_test)\n",
    "\n",
    "print(\"Score R2 on trainset      : \", grids['RF'].best_estimator_.score(X_train, y_train))\n",
    "print(\"Score R2 on testset       : \", grids['RF'].best_estimator_.score(X_test, y_test))\n",
    "\n",
    "print(\"Score of RMSE on trainset : \", RMSE(y_train, y_pred_train))\n",
    "print(\"Score of RMSE on testset  : \", RMSE(y_test,y_pred_test))\n",
    "\n",
    "print(\"Best parameters           : \", grids['RF'].best_params_)\n",
    "end = timer()\n",
    "print(\"Execution time: \", timedelta(seconds=end-start))\n",
    "\n",
    "#save models\n",
    "dump(grids['RF'] , 'RF_Grid')"
   ]
  },
  {
   "cell_type": "markdown",
   "metadata": {},
   "source": [
    "**B. Reduced data**"
   ]
  },
  {
   "cell_type": "code",
   "execution_count": 21,
   "metadata": {},
   "outputs": [],
   "source": [
    "estimators={}\n",
    "grids= {}\n",
    "params= {}"
   ]
  },
  {
   "cell_type": "markdown",
   "metadata": {},
   "source": [
    "**1. Decision Tree: reduced data:**"
   ]
  },
  {
   "cell_type": "code",
   "execution_count": 22,
   "metadata": {},
   "outputs": [
    {
     "name": "stdout",
     "output_type": "stream",
     "text": [
      "Score R2 on trainset      :  0.6499224237166548\n",
      "Score R2 on testset       :  0.6476711597490992\n",
      "Score of RMSE on trainset :  0.9249727825207963\n",
      "Score of RMSE on testset  :  0.9217336672939722\n",
      "Best parameters           :  {'criterion': 'gini', 'max_depth': 6, 'min_samples_leaf': 1}\n",
      "Execution time:  0:01:26.880507\n"
     ]
    },
    {
     "data": {
      "text/plain": [
       "['DS_Grid_reduced']"
      ]
     },
     "execution_count": 22,
     "metadata": {},
     "output_type": "execute_result"
    }
   ],
   "source": [
    "#Define estimator\n",
    "estimators['DS']= DecisionTreeClassifier()\n",
    "\n",
    "#Define parmameters for DS grid:\n",
    "params['DS']= { \n",
    "    'criterion':['entropy','gini'], \n",
    "    'max_depth':[3,4,5,6,7],\n",
    "    'min_samples_leaf':[1,2,3,4,5]\n",
    "}\n",
    "#Define DS model grid:\n",
    "grids['DS'] = GridSearchCV(estimator= estimators['DS'], param_grid= params['DS'], n_jobs=-1, cv=CV)\n",
    "grids['DS'].fit(X_train_reduced, y_train)\n",
    "\n",
    "#testing model and getting best parameters:\n",
    "y_pred_train = grids['DS'].best_estimator_.predict(X_train_reduced)\n",
    "y_pred_test = grids['DS'].best_estimator_.predict(X_test_reduced)\n",
    "\n",
    "print(\"Score R2 on trainset      : \", grids['DS'].best_estimator_.score(X_train_reduced, y_train))\n",
    "print(\"Score R2 on testset       : \", grids['DS'].best_estimator_.score(X_test_reduced, y_test))\n",
    "\n",
    "print(\"Score of RMSE on trainset : \", RMSE(y_train, y_pred_train))\n",
    "print(\"Score of RMSE on testset  : \", RMSE(y_test,y_pred_test))\n",
    "\n",
    "print(\"Best parameters           : \", grids['DS'].best_params_)\n",
    "end = timer()\n",
    "print(\"Execution time: \", timedelta(seconds=end-start))\n",
    "\n",
    "#save models\n",
    "dump(grids['DS'] , 'DS_Grid_reduced')"
   ]
  },
  {
   "cell_type": "markdown",
   "metadata": {},
   "source": [
    "**2. Lasso**"
   ]
  },
  {
   "cell_type": "code",
   "execution_count": 23,
   "metadata": {},
   "outputs": [
    {
     "name": "stdout",
     "output_type": "stream",
     "text": [
      "Score R2 on trainset      :  0.06910117647295932\n",
      "Score R2 on testset       :  0.06246003878168849\n",
      "Score of RMSE on trainset :  0.8009683062381603\n",
      "Score of RMSE on testset  :  0.7969507584012949\n",
      "Best parameters           :  0.0001\n",
      "Execution time:  0:00:01.381865\n"
     ]
    },
    {
     "data": {
      "text/plain": [
       "['Lasso_reduced']"
      ]
     },
     "execution_count": 23,
     "metadata": {},
     "output_type": "execute_result"
    }
   ],
   "source": [
    "start = timer()\n",
    "\n",
    "#Define Lasso model:\n",
    "model_lasso= LassoCV(alphas=[1e-6, 1e-5, 1e-4, 2e-4, 0.001, 0.1,1,10], n_jobs= -1, max_iter=1000, cv=CV )\n",
    "model_lasso.fit(X_train_reduced, y_train )\n",
    "\n",
    "#testing model:\n",
    "y_pred_train = model_lasso.predict(X_train_reduced)\n",
    "y_pred_test = model_lasso.predict(X_test_reduced)\n",
    "model_lasso.get_params()\n",
    "\n",
    "print(\"Score R2 on trainset      : \", model_lasso.score(X_train_reduced, y_train))\n",
    "print(\"Score R2 on testset       : \", model_lasso.score(X_test_reduced, y_test))\n",
    "\n",
    "print(\"Score of RMSE on trainset : \", RMSE(y_train, y_pred_train))\n",
    "print(\"Score of RMSE on testset  : \", RMSE(y_test,y_pred_test))\n",
    "\n",
    "print(\"Best parameters           : \", model_lasso.alpha_)\n",
    "end = timer()\n",
    "print(\"Execution time: \", timedelta(seconds=end-start))\n",
    "\n",
    "#save models\n",
    "dump(model_lasso , 'Lasso_reduced')"
   ]
  },
  {
   "cell_type": "markdown",
   "metadata": {},
   "source": [
    "* Lasso has a very low result, this is normal since it's a model for continuous variables"
   ]
  },
  {
   "cell_type": "markdown",
   "metadata": {},
   "source": [
    "\n",
    "**3. SVM**"
   ]
  },
  {
   "cell_type": "code",
   "execution_count": null,
   "metadata": {},
   "outputs": [],
   "source": [
    "start = timer()\n",
    "#Define estimator\n",
    "estimators['SVM']= SVC()\n",
    "\n",
    "#Define parameters for SVM grid:\n",
    "params['SVM']= { \n",
    "    'C':[.1, 1,10,100],\n",
    "    'kernel':['linear', 'poly', 'rbf']\n",
    "}\n",
    "#Define SVM model grid:\n",
    "grids['SVM'] = GridSearchCV(estimator= estimators['SVM'], param_grid= params['SVM'], n_jobs=-1, cv=CV)\n",
    "grids['SVM'].fit(X_train_reduced, y_train)\n",
    "\n",
    "#testing model and getting best parameters:\n",
    "y_pred_train = grids['SVM'].best_estimator_.predict(X_train_reduced)\n",
    "y_pred_test = grids['SVM'].best_estimator_.predict(X_test_reduced)\n",
    "\n",
    "print(\"Score R2 on trainset      : \", grids['SVM'].best_estimator_.score(X_train_reduced, y_train))\n",
    "print(\"Score R2 on testset       : \", grids['SVM'].best_estimator_.score(X_test_reduced, y_test))\n",
    "\n",
    "print(\"Score of RMSE on trainset : \", RMSE(y_train, y_pred_train))\n",
    "print(\"Score of RMSE on testset  : \", RMSE(y_test,y_pred_test))\n",
    "\n",
    "print(\"Best parameters           : \", grids['SVM'].best_params_)\n",
    "end = timer()\n",
    "print(\"Execution time: \", timedelta(seconds=end-start))\n",
    "\n",
    "#save models\n",
    "dump(grids['SVM'] , 'SVM_Grid_reduced')"
   ]
  },
  {
   "cell_type": "markdown",
   "metadata": {},
   "source": [
    "* To have a look on the resulted models, please refer to the generated joblib files."
   ]
  },
  {
   "cell_type": "code",
   "execution_count": 37,
   "metadata": {},
   "outputs": [
    {
     "name": "stderr",
     "output_type": "stream",
     "text": [
      "C:\\Users\\WonderSSJ9\\anaconda3\\lib\\site-packages\\sklearn\\base.py:310: UserWarning:\n",
      "\n",
      "Trying to unpickle estimator SVC from version 0.24.2 when using version 0.24.1. This might lead to breaking code or invalid results. Use at your own risk.\n",
      "\n",
      "C:\\Users\\WonderSSJ9\\anaconda3\\lib\\site-packages\\sklearn\\base.py:310: UserWarning:\n",
      "\n",
      "Trying to unpickle estimator GridSearchCV from version 0.24.2 when using version 0.24.1. This might lead to breaking code or invalid results. Use at your own risk.\n",
      "\n"
     ]
    },
    {
     "name": "stdout",
     "output_type": "stream",
     "text": [
      "Score R2 on trainset      :  0.6568792646102001\n",
      "Score R2 on testset       :  0.6486053650073402\n",
      "Score of RMSE on trainset :  0.9165111343832424\n",
      "Score of RMSE on testset  :  0.9203571336370142\n",
      "Best parameters           :  {'C': 1, 'kernel': 'poly'}\n"
     ]
    }
   ],
   "source": [
    "modelx= load('models/SVM_Grid_reduced')\n",
    "print(\"Score R2 on trainset      : \", modelx.best_estimator_.score(X_train_reduced, y_train))\n",
    "print(\"Score R2 on testset       : \", modelx.best_estimator_.score(X_test_reduced, y_test))\n",
    "\n",
    "y_pred_train = modelx.best_estimator_.predict(X_train_reduced)\n",
    "y_pred_test = modelx.best_estimator_.predict(X_test_reduced)\n",
    "print(\"Score of RMSE on trainset : \", RMSE(y_train, y_pred_train))\n",
    "print(\"Score of RMSE on testset  : \", RMSE(y_test,y_pred_test))\n",
    "print(\"Best parameters           : \", modelx.best_params_)"
   ]
  },
  {
   "cell_type": "code",
   "execution_count": 39,
   "metadata": {},
   "outputs": [
    {
     "name": "stderr",
     "output_type": "stream",
     "text": [
      "C:\\Users\\WonderSSJ9\\anaconda3\\lib\\site-packages\\sklearn\\base.py:310: UserWarning:\n",
      "\n",
      "Trying to unpickle estimator DecisionTreeClassifier from version 0.24.2 when using version 0.24.1. This might lead to breaking code or invalid results. Use at your own risk.\n",
      "\n",
      "C:\\Users\\WonderSSJ9\\anaconda3\\lib\\site-packages\\sklearn\\base.py:310: UserWarning:\n",
      "\n",
      "Trying to unpickle estimator RandomForestClassifier from version 0.24.2 when using version 0.24.1. This might lead to breaking code or invalid results. Use at your own risk.\n",
      "\n",
      "C:\\Users\\WonderSSJ9\\anaconda3\\lib\\site-packages\\sklearn\\base.py:310: UserWarning:\n",
      "\n",
      "Trying to unpickle estimator GridSearchCV from version 0.24.2 when using version 0.24.1. This might lead to breaking code or invalid results. Use at your own risk.\n",
      "\n"
     ]
    },
    {
     "name": "stdout",
     "output_type": "stream",
     "text": [
      "Score R2 on trainset      :  0.6593650422915868\n",
      "Score R2 on testset       :  0.6487388229013746\n",
      "Score of RMSE on trainset :  0.9186928739537364\n",
      "Score of RMSE on testset  :  0.9201395979711109\n",
      "Best parameters           :  {'max_depth': 10, 'max_features': 'auto', 'n_estimators': 2000}\n"
     ]
    }
   ],
   "source": [
    "modely= load('models/RF_Grid')\n",
    "print(\"Score R2 on trainset      : \", modely.best_estimator_.score(X_train, y_train))\n",
    "print(\"Score R2 on testset       : \", modely.best_estimator_.score(X_test, y_test))\n",
    "y_pred_train = modely.best_estimator_.predict(X_train)\n",
    "y_pred_test = modely.best_estimator_.predict(X_test)\n",
    "print(\"Score of RMSE on trainset : \", RMSE(y_train, y_pred_train))\n",
    "print(\"Score of RMSE on testset  : \", RMSE(y_test,y_pred_test))\n",
    "print(\"Best parameters           : \", modely.best_params_)"
   ]
  },
  {
   "cell_type": "markdown",
   "metadata": {},
   "source": [
    "***"
   ]
  },
  {
   "cell_type": "markdown",
   "metadata": {},
   "source": [
    "**This is a reproduction of the correlation heatmap between the categorical features after dummy encoding**"
   ]
  },
  {
   "cell_type": "code",
   "execution_count": 424,
   "metadata": {},
   "outputs": [
    {
     "data": {
      "image/png": "[encoded data removed]",
      "text/plain": [
       "<Figure size 1440x864 with 2 Axes>"
      ]
     },
     "metadata": {
      "needs_background": "light"
     },
     "output_type": "display_data"
    }
   ],
   "source": [
    "#Categorical features of data:\n",
    "cat_features= data.columns.tolist()\n",
    "\n",
    "\n",
    "#create a matrix for p-values between each two categorial features\n",
    "pvalueM = pd.DataFrame(index=cat_features, columns=cat_features)\n",
    "\n",
    "for col1 in cat_features:\n",
    "    for col2 in cat_features:\n",
    "        table= pd.crosstab(data[col1] , data[col2])\n",
    "        p_value= chi2_contingency( table)[1]\n",
    "        pvalueM.loc[ col1, col2 ]= round(p_value*100 ,2)\n",
    "\n",
    "mask= np.triu(np.ones_like(pvalueM, dtype=bool))\n",
    "pvalueM = pvalueM.astype('int64')\n",
    "plt.figure(figsize=(20, 12) )\n",
    "cmap= sns.diverging_palette(220, 20, as_cmap=False)\n",
    "sns.heatmap(pvalueM , annot=False, mask=mask,  cmap=\"rocket_r\", vmin=0, vmax=100, linewidths=.5) \n",
    "plt.title('p_value between categorical features (%)');"
   ]
  }
 ],
 "metadata": {
  "interpreter": {
   "hash": "88b268b946e6b9d10346be74fc6b3a4af92f9a55cc7f17ede97cd616bb838858"
  },
  "kernelspec": {
   "display_name": "Python 3.8.8 64-bit ('base': conda)",
   "language": "python",
   "name": "python3"
  },
  "language_info": {
   "codemirror_mode": {
    "name": "ipython",
    "version": 3
   },
   "file_extension": ".py",
   "mimetype": "text/x-python",
   "name": "python",
   "nbconvert_exporter": "python",
   "pygments_lexer": "ipython3",
   "version": "3.8.8"
  },
  "orig_nbformat": 4
 },
 "nbformat": 4,
 "nbformat_minor": 2
}
