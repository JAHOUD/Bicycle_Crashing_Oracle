{
 "cells": [
  {
   "cell_type": "markdown",
   "metadata": {},
   "source": [
    "# Final Prediction Model + Application Example"
   ]
  },
  {
   "cell_type": "markdown",
   "metadata": {},
   "source": [
    "### Import libraries"
   ]
  },
  {
   "cell_type": "code",
   "execution_count": 83,
   "metadata": {},
   "outputs": [],
   "source": [
    "import numpy as np\n",
    "import pandas as pd\n",
    "\n",
    "from sklearn.base import BaseEstimator, TransformerMixin\n",
    "from sklearn.preprocessing import OneHotEncoder\n",
    "from sklearn.model_selection import train_test_split\n",
    "from sklearn.feature_selection import SelectKBest\n",
    "from sklearn.feature_selection import chi2\n",
    "from sklearn.metrics import recall_score, precision_score, roc_auc_score, plot_confusion_matrix\n",
    "from imblearn.under_sampling import RandomUnderSampler\n",
    "\n",
    "from sklearn.pipeline import Pipeline\n",
    "from sklearn.compose import ColumnTransformer\n",
    "\n",
    "import lightgbm as lgb\n",
    "\n",
    "import joblib\n",
    "import warnings\n",
    "warnings.filterwarnings('ignore')\n",
    "#warnings.filterwarnings(action='once')"
   ]
  },
  {
   "cell_type": "markdown",
   "metadata": {},
   "source": [
    "### Define the prediction Model and the Features Transformers\n",
    "**Note:** Due to the existing of a Sampler (UnderSampling) in between pre-processing and prediction modeling, we have to create two `scikit-learn Pipelines` : \n",
    "- First Pipeline is regrouping the trasnformers in the following order: Age encoding, Onehot encoding for all columns & SelectKbest.\n",
    "- Second Pipeline contains the first Pipeline and the prediction model."
   ]
  },
  {
   "cell_type": "code",
   "execution_count": 107,
   "metadata": {},
   "outputs": [
    {
     "name": "stdout",
     "output_type": "stream",
     "text": [
      "[LightGBM] [Warning] feature_fraction is set=0.4, colsample_bytree=1.0 will be ignored. Current value: feature_fraction=0.4\n",
      "WGM score for trainset :  0.6841290520291708\n",
      "WGM score for testset  :  0.6146844463578309\n",
      "AUC score for testset  :  0.6955070379391131\n"
     ]
    },
    {
     "data": {
      "image/png": "[encoded data removed]",
      "text/plain": [
       "<Figure size 432x288 with 2 Axes>"
      ]
     },
     "metadata": {
      "needs_background": "light"
     },
     "output_type": "display_data"
    }
   ],
   "source": [
    "#Define customized scorer: \n",
    "def Weigthed_geometric_mean(y, y_pred, Beta=1.1):\n",
    "    recall= recall_score(y, y_pred, pos_label=1)\n",
    "    precision= precision_score(y, y_pred, pos_label=1)\n",
    "    return (precision * (recall**Beta))**(1/(1+Beta))\n",
    "\n",
    "#import dataset\n",
    "df= pd.read_csv('data/bicycle_accidents_05_20_filtered.csv', sep=';',squeeze=True, parse_dates={'date':['an','mois','jour','hrmn']} )\n",
    "\n",
    "#define features and target\n",
    "X= df.drop(['date','grav'],1).copy()\n",
    "y= df.grav.copy().replace([[1,4],[2,3]], [0,1])\n",
    "\n",
    "#split to train & test sets\n",
    "X_train, X_test, y_train, y_test = train_test_split(X, y, test_size= .2, random_state= 42, shuffle=True, stratify=y )\n",
    "\n",
    "#Transformers\n",
    "##age encoding\n",
    "\n",
    "class age_encoder(BaseEstimator, TransformerMixin):\n",
    "    def __init__(self):\n",
    "        super().__init__()\n",
    "    def fit(self, X, y=None):\n",
    "        return self\n",
    "    def transform(self, X, y=None):\n",
    "        X['age'] = pd.cut(X.age, bins=[0,12,20,40,60,99], labels=[1,2,3,4,5] )\n",
    "        return X\n",
    "        \n",
    "age_col= ColumnTransformer([('age',age_encoder(), [-1])], remainder='passthrough')\n",
    "\n",
    "##Regroup transformers\n",
    "transformers_pipe= Pipeline(steps=[\n",
    "    ('age', age_col),\n",
    "    ('onhot', OneHotEncoder(handle_unknown='ignore')),\n",
    "    ('kbest', SelectKBest(k=60))\n",
    "]).fit(X_train, y_train)\n",
    "\n",
    "X_train= transformers_pipe.transform(X_train)\n",
    "\n",
    "#Sample Train features\n",
    "sampler= RandomUnderSampler()\n",
    "X_train, y_train= sampler.fit_resample(X_train, y_train)\n",
    "\n",
    "#Define model\n",
    "best_params =  {'feature_fraction': 0.4, 'learning_rate': 0.07, 'max_depth': -1000,\n",
    "                    'num_leaves': 17, 'verbose': -1, 'objective':'binary'}\n",
    "model= lgb.LGBMClassifier(**best_params).fit(X_train,y_train)\n",
    "\n",
    "#Define Pipeline regrouping all steps (each element is already fitted)\n",
    "final_pipe=Pipeline(steps=[\n",
    "    ('transformers', transformers_pipe),\n",
    "    ('estimator', model)\n",
    "])\n",
    "\n",
    "#Save Pipeline\n",
    "joblib.dump(final_pipe, 'Full_Model.pkl')\n",
    "\n",
    "y_train_pred = model.predict(X_train)\n",
    "y_test_pred = final_pipe.predict(X_test)\n",
    "\n",
    "#Evaluation\n",
    "print(\"WGM score for trainset : \", Weigthed_geometric_mean(y_train, y_train_pred))\n",
    "print(\"WGM score for testset  : \", Weigthed_geometric_mean(y_test,y_test_pred))\n",
    "print(\"AUC score for testset  : \", roc_auc_score(y_test,y_test_pred))\n",
    "plot_confusion_matrix(final_pipe, X_test, y_test, values_format='d');"
   ]
  },
  {
   "cell_type": "markdown",
   "metadata": {},
   "source": [
    "### Application: \n",
    "\n",
    "**Calculate the dangerousness of the possible trajectories between `'Charles de Gaule Etoile station'` & `'LOUIS VUITTON Foundation'` in Paris.**"
   ]
  },
  {
   "cell_type": "code",
   "execution_count": 116,
   "metadata": {},
   "outputs": [
    {
     "name": "stdout",
     "output_type": "stream",
     "text": [
      "Dangerousness of first itinerary  :  0.19\n",
      "Dangerousness of second itinerary  :  0.29\n"
     ]
    }
   ],
   "source": [
    "#Import dataset that contains 2 possible trajectories, each line is a step in the trajectory\n",
    "df= pd.read_csv('data/db_test_1.csv', sep=';',squeeze=True )\n",
    "\n",
    "#trajectory 1\n",
    "X1= df.iloc[0:43]\n",
    "\n",
    "#trajectory 2\n",
    "X2=df.iloc[43:]\n",
    "\n",
    "#apply model\n",
    "\n",
    "def get_danger(X, clf):\n",
    "    y = clf.predict(X)\n",
    "    danger= y.sum()/len(y)\n",
    "    return danger\n",
    "\n",
    "clf= joblib.load('Full_Model.pkl')\n",
    "\n",
    "danger1= get_danger(X1, clf)\n",
    "danger2= get_danger(X2, clf)\n",
    "\n",
    "print(\"Dangerousness of first itinerary  : \", round(danger1,2))\n",
    "print(\"Dangerousness of second itinerary  : \", round(danger2,2))\n"
   ]
  }
 ],
 "metadata": {
  "interpreter": {
   "hash": "88b268b946e6b9d10346be74fc6b3a4af92f9a55cc7f17ede97cd616bb838858"
  },
  "kernelspec": {
   "display_name": "Python 3.8.8 64-bit ('base': conda)",
   "language": "python",
   "name": "python3"
  },
  "language_info": {
   "codemirror_mode": {
    "name": "ipython",
    "version": 3
   },
   "file_extension": ".py",
   "mimetype": "text/x-python",
   "name": "python",
   "nbconvert_exporter": "python",
   "pygments_lexer": "ipython3",
   "version": "3.9.7"
  },
  "orig_nbformat": 4
 },
 "nbformat": 4,
 "nbformat_minor": 2
}
