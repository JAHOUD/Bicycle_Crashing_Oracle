{
 "cells": [
  {
   "cell_type": "markdown",
   "id": "4f2364ee-7121-4321-b31b-2dfc5ad41def",
   "metadata": {},
   "source": [
    "# Merging Data for 2019 & 2020\n",
    "## Import libraries & packages"
   ]
  },
  {
   "cell_type": "code",
   "execution_count": 1,
   "id": "c0138c73-865e-4309-a07e-dd6b1fe387de",
   "metadata": {},
   "outputs": [],
   "source": [
    "import pandas as pd\n",
    "import numpy as np"
   ]
  },
  {
   "cell_type": "markdown",
   "id": "abe45a98-efbf-4744-8897-20d1fe7819c5",
   "metadata": {},
   "source": [
    "## Load CSV files : 2019-2020"
   ]
  },
  {
   "cell_type": "code",
   "execution_count": 2,
   "id": "fab8beaf-898e-4706-941d-edb8e117e30e",
   "metadata": {},
   "outputs": [],
   "source": [
    "#2020\n",
    "carac_20 = pd.read_csv('data/2020/caracteristiques-2020.csv', sep=';')\n",
    "veh_20= pd.read_csv('data/2020/vehicules-2020.csv',sep=';')\n",
    "lieux_20= pd.read_csv('data/2020/lieux-2020.csv', sep=';')\n",
    "user_20= pd.read_csv('data/2020/usagers-2020.csv', sep=';')\n",
    "\n",
    "#2019\n",
    "carac_19 = pd.read_csv('data/2019/caracteristiques-2019.csv', sep=';')\n",
    "veh_19= pd.read_csv('data/2019/vehicules-2019.csv',sep=';')\n",
    "lieux_19= pd.read_csv('data/2019/lieux-2019.csv', sep=';')\n",
    "user_19= pd.read_csv('data/2019/usagers-2019.csv', sep=';')"
   ]
  },
  {
   "cell_type": "markdown",
   "id": "3241a438-f189-4bce-84ae-e00b9cb089b2",
   "metadata": {},
   "source": [
    "## Merging files by year"
   ]
  },
  {
   "cell_type": "code",
   "execution_count": 3,
   "id": "bca7f2f5-79b2-4e0b-9dae-5ff65c437f8d",
   "metadata": {},
   "outputs": [],
   "source": [
    "u_19_20= pd.concat([user_19, user_20])\n",
    "v_19_20= pd.concat([veh_19,veh_20])\n",
    "l_19_20= pd.concat([lieux_19, lieux_20])\n",
    "c_19_20= pd.concat([carac_19,carac_20])\n",
    "\n",
    "#drop larrout & lartpc drom Lieux (most of the values are absent):\n",
    "l_19_20.drop(['larrout','lartpc'],axis=1,inplace=True)"
   ]
  },
  {
   "cell_type": "markdown",
   "id": "f9300377-9e61-4ca5-a970-9fde486f8768",
   "metadata": {},
   "source": [
    "- Convert *(an, mois, jour, hrmn)* columns to one **datetime** column :"
   ]
  },
  {
   "cell_type": "code",
   "execution_count": 4,
   "id": "f88cd744-8b90-4fd3-a6b5-b8f4bec208fa",
   "metadata": {},
   "outputs": [],
   "source": [
    "#split 'hrmn' column to two\n",
    "c_19_20[['hour','minute']] = carac_19.hrmn.str.split(\":\", expand=True).astype('int')\n",
    "\n",
    "#create a new datetime column \n",
    "c_19_20['date']= pd.to_datetime(dict(year=c_19_20.an, month=c_19_20.mois, day=c_19_20.jour, hour=c_19_20.hour, minute=c_19_20.minute) )\n",
    "\n",
    "#drop old colmns\n",
    "c_19_20.drop(['an', 'mois', 'jour','hrmn', 'hour', 'minute'], axis=1, inplace=True)"
   ]
  },
  {
   "cell_type": "markdown",
   "id": "9e568ad3-5663-4f96-ad48-3da6d69bfa98",
   "metadata": {},
   "source": [
    "## General Infos about the tables"
   ]
  },
  {
   "cell_type": "markdown",
   "id": "53a0df44-3026-445c-bffe-a3108549dfb5",
   "metadata": {},
   "source": [
    "- diplay columns of each table:"
   ]
  },
  {
   "cell_type": "code",
   "execution_count": 5,
   "id": "8c54fe82-b7d1-41f8-b2c9-abd0d82bbc8a",
   "metadata": {},
   "outputs": [
    {
     "name": "stdout",
     "output_type": "stream",
     "text": [
      "Carac columns     :  ['Num_Acc', 'lum', 'dep', 'com', 'agg', 'int', 'atm', 'col', 'adr', 'lat', 'long', 'date']\n",
      "Lieux columns     :  ['Num_Acc', 'catr', 'voie', 'v1', 'v2', 'circ', 'nbv', 'vosp', 'prof', 'pr', 'pr1', 'plan', 'surf', 'infra', 'situ', 'vma']\n",
      "Vehicules columns :  ['Num_Acc', 'id_vehicule', 'num_veh', 'senc', 'catv', 'obs', 'obsm', 'choc', 'manv', 'motor', 'occutc']\n",
      "Usagers columns   :  ['Num_Acc', 'id_vehicule', 'num_veh', 'place', 'catu', 'grav', 'sexe', 'an_nais', 'trajet', 'secu1', 'secu2', 'secu3', 'locp', 'actp', 'etatp']\n"
     ]
    }
   ],
   "source": [
    "print(\"Carac columns     : \", list(c_19_20.columns))\n",
    "print(\"Lieux columns     : \",list(l_19_20.columns))\n",
    "print(\"Vehicules columns : \",list(v_19_20.columns))\n",
    "print(\"Usagers columns   : \",list(u_19_20.columns))"
   ]
  },
  {
   "cell_type": "markdown",
   "id": "5b382ab9-17f4-4846-8383-a14f1877929c",
   "metadata": {},
   "source": [
    "- diplay rows number of each table:"
   ]
  },
  {
   "cell_type": "code",
   "execution_count": 6,
   "id": "5c240cd2-0e08-4888-8dbe-4b4123eeab02",
   "metadata": {},
   "outputs": [
    {
     "name": "stdout",
     "output_type": "stream",
     "text": [
      "'User' rows                :  238272\n",
      "'Vehicule' rows            :  181776\n",
      "'Lieux' rows               :  106584\n",
      "'Caracteristiques' rows    :  106584\n"
     ]
    }
   ],
   "source": [
    "print(\"'User' rows                : \",u_19_20.shape[0])\n",
    "print(\"'Vehicule' rows            : \",v_19_20.shape[0])\n",
    "print(\"'Lieux' rows               : \",l_19_20.shape[0])\n",
    "print(\"'Caracteristiques' rows    : \",c_19_20.shape[0])"
   ]
  },
  {
   "cell_type": "markdown",
   "id": "b60d1629-5d9e-4fed-afff-17f3ad298801",
   "metadata": {},
   "source": [
    "- Remarks about the identifiction of each table:\n",
    "    - Usagers : Num_Acc is not unique; id_vehicule is not unique\n",
    "    - Vehicule : Num_Acc is not unique; id_vehicule is unique\n",
    "    - Lieux : Num_Acc is unique\n",
    "    - Caracteristiques : Num_ACC is unique\n",
    "    - num_veh should be dropped\n",
    "    > **1 Accident** *('Caracteristiques' + 'Lieux')* contains **mutiple** *'Vehicule'* wich contains **multiple** *'Usager'*."
   ]
  },
  {
   "cell_type": "markdown",
   "id": "cbc06c31-0155-494b-a6b0-aeaec8cbc61e",
   "metadata": {},
   "source": [
    "## Merging tables"
   ]
  },
  {
   "cell_type": "markdown",
   "id": "08007592-07c5-4d7a-b2cb-08ef19a01aae",
   "metadata": {},
   "source": [
    "- Merging 'Lieux' & 'Caractéristiques' : Num_Acc is unique between the two, we consider that 'Lieux' is an extension for 'Caractéristiques' :"
   ]
  },
  {
   "cell_type": "code",
   "execution_count": 7,
   "id": "bb87bcee-0e73-4fe8-921e-56624ddb1689",
   "metadata": {},
   "outputs": [],
   "source": [
    "cl_19_20= pd.merge(c_19_20, l_19_20, on='Num_Acc')"
   ]
  },
  {
   "cell_type": "markdown",
   "id": "745f0d88-44c0-4356-add5-4ec4ad11ded0",
   "metadata": {},
   "source": [
    "- Merging 'Vehicule' & 'Caracteristiques'+'Lieux' :"
   ]
  },
  {
   "cell_type": "code",
   "execution_count": 8,
   "id": "04ecaf38-a833-4d71-bd71-dd4fa0fba714",
   "metadata": {},
   "outputs": [],
   "source": [
    "vcl_19_20= pd.merge(v_19_20, cl_19_20, on='Num_Acc')"
   ]
  },
  {
   "cell_type": "markdown",
   "id": "bf7848d6-9e0a-4587-a06f-02f0027ba783",
   "metadata": {},
   "source": [
    "- Merged dataset, wich represents road accidents victims in 2019-2020 by vehicules, places and circomstances of the accident:"
   ]
  },
  {
   "cell_type": "code",
   "execution_count": 9,
   "id": "ff4dfac6-3cac-4487-a0dd-79619565adb4",
   "metadata": {},
   "outputs": [],
   "source": [
    "uvcl_19_20 = pd.merge(u_19_20,vcl_19_20, on=['id_vehicule', 'num_veh', 'Num_Acc'])\n",
    "\n",
    "#create a column for usager_id\n",
    "uvcl_19_20['victim_id']= uvcl_19_20.index\n",
    "\n",
    "#place the new columns first\n",
    "cols = uvcl_19_20.columns.tolist()\n",
    "cols = cols[-1:] + cols[:-1]\n",
    "uvcl_19_20=uvcl_19_20[cols]\n",
    "\n",
    "#Replace (-1) values with NaN : \n",
    "uvcl_19_20.replace(-1, np.nan, inplace=True)"
   ]
  },
  {
   "cell_type": "markdown",
   "id": "55e8deb8-cdda-469c-ae4c-1ef971a292cc",
   "metadata": {},
   "source": [
    "- Dimensions verification:"
   ]
  },
  {
   "cell_type": "code",
   "execution_count": 10,
   "id": "b7008e9e-6725-4189-a329-dc4973f38ea5",
   "metadata": {},
   "outputs": [
    {
     "name": "stdout",
     "output_type": "stream",
     "text": [
      "Dimensions of the Merged Dataset :  (238272, 50)\n",
      "Dataset columns : \n",
      " ['victim_id', 'Num_Acc', 'id_vehicule', 'num_veh', 'place', 'catu', 'grav', 'sexe', 'an_nais', 'trajet', 'secu1', 'secu2', 'secu3', 'locp', 'actp', 'etatp', 'senc', 'catv', 'obs', 'obsm', 'choc', 'manv', 'motor', 'occutc', 'lum', 'dep', 'com', 'agg', 'int', 'atm', 'col', 'adr', 'lat', 'long', 'date', 'catr', 'voie', 'v1', 'v2', 'circ', 'nbv', 'vosp', 'prof', 'pr', 'pr1', 'plan', 'surf', 'infra', 'situ', 'vma']\n"
     ]
    }
   ],
   "source": [
    "# shape\n",
    "print (\"Dimensions of the Merged Dataset : \", uvcl_19_20.shape)\n",
    "\n",
    "# columns\n",
    "print(\"Dataset columns : \\n\",list(uvcl_19_20.columns))"
   ]
  },
  {
   "cell_type": "markdown",
   "id": "aa284bee-4c6d-42de-b783-4dfcf1c3d5d4",
   "metadata": {},
   "source": [
    "## Save the generated dataset to a new file :"
   ]
  },
  {
   "cell_type": "markdown",
   "id": "f8c3197c-c9f0-4068-9c91-fec72e31c73c",
   "metadata": {},
   "source": [
    "- The generated dataset is saved to *'donnes_19_20_fusionnes.csv'*  in the ***data/*** folder :"
   ]
  },
  {
   "cell_type": "code",
   "execution_count": 11,
   "id": "74ff65fe-ad1b-436a-b517-4bdde67b6f98",
   "metadata": {},
   "outputs": [],
   "source": [
    "uvcl_19_20.to_csv(path_or_buf= 'data/donnes_19_20_fusionnes.csv',sep=';')"
   ]
  }
 ],
 "metadata": {
  "kernelspec": {
   "display_name": "Python 3",
   "language": "python",
   "name": "python3"
  },
  "language_info": {
   "codemirror_mode": {
    "name": "ipython",
    "version": 3
   },
   "file_extension": ".py",
   "mimetype": "text/x-python",
   "name": "python",
   "nbconvert_exporter": "python",
   "pygments_lexer": "ipython3",
   "version": "3.8.8"
  }
 },
 "nbformat": 4,
 "nbformat_minor": 5
}
