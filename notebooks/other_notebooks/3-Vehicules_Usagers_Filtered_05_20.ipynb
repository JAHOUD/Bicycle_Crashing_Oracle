{
 "cells": [
  {
   "cell_type": "markdown",
   "id": "4f2364ee-7121-4321-b31b-2dfc5ad41def",
   "metadata": {},
   "source": [
    "# Merging Data from 2005 to 2020 for : *Usagers* & *Vehicules*\n",
    "## Import libraries & packages"
   ]
  },
  {
   "cell_type": "code",
   "execution_count": 85,
   "id": "c0138c73-865e-4309-a07e-dd6b1fe387de",
   "metadata": {},
   "outputs": [],
   "source": [
    "import pandas as pd\n",
    "import numpy as np"
   ]
  },
  {
   "cell_type": "markdown",
   "id": "abe45a98-efbf-4744-8897-20d1fe7819c5",
   "metadata": {},
   "source": [
    "## Load CSV files : 2005..2020"
   ]
  },
  {
   "cell_type": "code",
   "execution_count": 86,
   "id": "bb1f5965",
   "metadata": {},
   "outputs": [],
   "source": [
    "separator= ','\n",
    "tiret='-'\n",
    "\n",
    "for year in range(2005, 2021):\n",
    "\n",
    "#    if year> 2016:\n",
    "#        tiret='-'\n",
    "\n",
    "    if year> 2018:\n",
    "        separator=';'\n",
    "\n",
    " #   if year!= 2009:\n",
    " #       locals()[\"carac\"+\"_\"+str(year)[-2:]] = pd.read_csv('data/'+str(year)+'/caracteristiques'+tiret + str(year) +'.csv', sep=separator)\n",
    "    \n",
    "#    if year== 2009:\n",
    "#        locals()[\"carac\"+\"_\"+str(year)[-2:]] = pd.read_csv('data/'+str(year)+'/caracteristiques'+tiret+ str(year) +'.csv', sep='\t')\n",
    "    \n",
    "#    locals()[\"lieux\"+\"_\"+str(year)[-2:]] = pd.read_csv('data/'+str(year)+'/lieux'+tiret+ str(year) +'.csv', sep= separator)\n",
    "    locals()[\"veh\"+\"_\"+str(year)[-2:]] = pd.read_csv('data/'+str(year)+'/vehicules'+tiret+ str(year) +'.csv', sep= separator)\n",
    "    locals()[\"user\"+\"_\"+str(year)[-2:]] = pd.read_csv('data/'+str(year)+'/usagers'+tiret+ str(year) +'.csv', sep= separator)"
   ]
  },
  {
   "cell_type": "markdown",
   "id": "1df84902",
   "metadata": {},
   "source": [
    "### Adjusting and cleaning *Usagers* tables"
   ]
  },
  {
   "cell_type": "markdown",
   "id": "992c102a",
   "metadata": {},
   "source": [
    "* There is a diffrence between *Usagers* tables before and after 2019:"
   ]
  },
  {
   "cell_type": "code",
   "execution_count": 87,
   "id": "6e6afb2a",
   "metadata": {},
   "outputs": [
    {
     "name": "stdout",
     "output_type": "stream",
     "text": [
      "['Num_Acc', 'id_vehicule', 'num_veh', 'place', 'catu', 'grav', 'sexe', 'an_nais', 'trajet', 'secu1', 'secu2', 'secu3', 'locp', 'actp', 'etatp']\n",
      "['Num_Acc', 'place', 'catu', 'grav', 'sexe', 'trajet', 'secu', 'locp', 'actp', 'etatp', 'an_nais', 'num_veh']\n"
     ]
    }
   ],
   "source": [
    "print(list(user_19.columns))\n",
    "print(list(user_18.columns))"
   ]
  },
  {
   "cell_type": "markdown",
   "id": "a5343c18",
   "metadata": {},
   "source": [
    "* The diffrences are the *'id_vehicule'* and security columns : *'secu'*, *'secu1'*, *'secu2'* & *'secu3'*. The columns in every year must be the same, this is how we will adapt btween the years before and the years after 2019 :\n",
    "    - We drop secu2 and secu3 from user_19 and user_20, since they don't exist in the other years, besides most of the values in secu3 and a third of secu2 values are not specified.\n",
    "    - We rename *secu1* to *secu*, to match the years before 2019.\n",
    "    - We adjust values in 2019-2020 to the values of the years before.\n",
    "    - *Usagers* table in years 2005..2018 has only one column for security equipment with the name of *secu*, we will fit it with the 2019-2020 labeling.\n"
   ]
  },
  {
   "cell_type": "code",
   "execution_count": 88,
   "id": "fed58da8",
   "metadata": {},
   "outputs": [],
   "source": [
    "#droping id_vehicule, secu2 & secu3 in 219-2020:\n",
    "user_19.drop(['id_vehicule','secu2', 'secu3'], axis=1, inplace= True)\n",
    "user_20.drop(['id_vehicule', 'secu2', 'secu3'], axis=1, inplace= True)\n",
    "\n",
    "#rename secu1 columns:\n",
    "user_19.rename( columns={'secu1':'secu'}, inplace=True)\n",
    "user_20.rename( columns={'secu1':'secu'}, inplace=True)\n",
    "\n",
    "#Adjust values in 2019-2020 to match the labeling in =<2018\n",
    "user_19.secu.replace([[5,6,7], 8], [9, -1], inplace=True )\n",
    "user_20.secu.replace([[5,6,7], 8], [9, -1], inplace=True )"
   ]
  },
  {
   "cell_type": "code",
   "execution_count": 89,
   "id": "79f03014",
   "metadata": {},
   "outputs": [],
   "source": [
    "#define the secu adjusting function:\n",
    "def adjust_secu_with_2019(x):\n",
    "    if len(str(x))!=2 or str(x)[1]=='3' or x==-1 :\n",
    "        y=-1\n",
    "    elif str(x)[1]=='2':\n",
    "        y=0\n",
    "    else:\n",
    "        y= int(str(x)[0])\n",
    "    return y"
   ]
  },
  {
   "cell_type": "code",
   "execution_count": 90,
   "id": "0a37730f",
   "metadata": {},
   "outputs": [],
   "source": [
    "#applying the secu adjusting function on Usagers tables from 2005 to 2018:\n",
    "\n",
    "for year in range(2005, 2019):\n",
    "    \n",
    "    #filling NaN with (-1)\n",
    "    locals()[\"user\"+\"_\"+str(year)[-2:]].secu =  locals()[\"user\"+\"_\"+str(year)[-2:]].secu.fillna(-1)\n",
    "    \n",
    "    #change secu type from float to int\n",
    "    locals()[\"user\"+\"_\"+str(year)[-2:]].secu = locals()[\"user\"+\"_\"+str(year)[-2:]].secu.astype({'secu' : 'int64'})\n",
    "    \n",
    "    #apply adjusting function\n",
    "    locals()[\"user\"+\"_\"+str(year)[-2:]].secu = locals()[\"user\"+\"_\"+str(year)[-2:]].secu.apply(adjust_secu_with_2019)"
   ]
  },
  {
   "cell_type": "markdown",
   "id": "0a4d5132",
   "metadata": {},
   "source": [
    "* Most of the values in *actp* column are set to 0 (=not specified), so we drop it. The same applies for *actp* and *locp* columns:"
   ]
  },
  {
   "cell_type": "code",
   "execution_count": 91,
   "id": "7b4037d2",
   "metadata": {},
   "outputs": [],
   "source": [
    "for year in range(2005, 2021):\n",
    "    locals()[\"user\"+\"_\"+str(year)[-2:]].drop(['actp','etatp','locp'], axis=1, inplace= True )"
   ]
  },
  {
   "cell_type": "markdown",
   "id": "eafd442e",
   "metadata": {},
   "source": [
    "### Adjusting  and cleaning *Vehicules* tables"
   ]
  },
  {
   "cell_type": "markdown",
   "id": "c7fc961d",
   "metadata": {},
   "source": [
    "* The diffrences in the *Vehicules* table before and after 2019:"
   ]
  },
  {
   "cell_type": "code",
   "execution_count": 92,
   "id": "726f83ed",
   "metadata": {},
   "outputs": [
    {
     "name": "stdout",
     "output_type": "stream",
     "text": [
      "['Num_Acc', 'id_vehicule', 'num_veh', 'senc', 'catv', 'obs', 'obsm', 'choc', 'manv', 'motor', 'occutc']\n",
      "['Num_Acc', 'senc', 'catv', 'occutc', 'obs', 'obsm', 'choc', 'manv', 'num_veh']\n"
     ]
    }
   ],
   "source": [
    "print(list(veh_19.columns))\n",
    "print(list(veh_05.columns))"
   ]
  },
  {
   "cell_type": "markdown",
   "id": "f4a4d22a",
   "metadata": {},
   "source": [
    "* We add ***id_vehicule*** column to the *Vehicule* table for years between 2005 & 2018, this will make it easier to understand the relation woth other tables once we started merging:"
   ]
  },
  {
   "cell_type": "code",
   "execution_count": 93,
   "id": "f53f5182",
   "metadata": {},
   "outputs": [],
   "source": [
    "#the id_vehicule will be the year+index :\n",
    "for year in range(2005, 2019):\n",
    "    locals()[\"veh\"+\"_\"+str(year)[-2:]] ['id_vehicule'] = (str(year) + locals()[\"veh\"+\"_\"+str(year)[-2:]].index.astype('str')).astype('int64')"
   ]
  },
  {
   "cell_type": "markdown",
   "id": "6fad1856",
   "metadata": {},
   "source": [
    "* We change type of *id_vehicule* in 2019-2020 to *int*:"
   ]
  },
  {
   "cell_type": "code",
   "execution_count": 94,
   "id": "3468f0d5",
   "metadata": {},
   "outputs": [],
   "source": [
    "#correcting the encoding problem within id_column in 2019-2020 : \n",
    "veh_19['id_vehicule'] = veh_19['id_vehicule'].str.encode('ascii', 'ignore').str.decode('UTF-8')\n",
    "veh_20['id_vehicule'] = veh_20['id_vehicule'].str.encode('ascii', 'ignore').str.decode('UTF-8')\n",
    "\n",
    "#convert to int64\n",
    "veh_19['id_vehicule'] = veh_19['id_vehicule'].astype('int64')\n",
    "veh_20['id_vehicule'] = veh_20['id_vehicule'].astype('int64')"
   ]
  },
  {
   "cell_type": "markdown",
   "id": "d775903b",
   "metadata": {},
   "source": [
    "* We adapt *manv* column in 2019-2020 with the years=<2018. We replace 26 and 25 with 0 , the two values have very limited number and can be considered a part of the 0 (unkown) category in the other years:"
   ]
  },
  {
   "cell_type": "code",
   "execution_count": 95,
   "id": "d092d754",
   "metadata": {},
   "outputs": [],
   "source": [
    "veh_19.manv.replace([25,26], 0, inplace=True)\n",
    "veh_20.manv.replace([25,26], 0, inplace=True)"
   ]
  },
  {
   "cell_type": "markdown",
   "id": "5bb5ec7b",
   "metadata": {},
   "source": [
    "- We combine between *obsm* & *obs*. The two columns are going to be combined in *obs* (*obsm* is dropped):\n",
    "   - for the fixed obstacle obs=10\n",
    "   - for the multi obstacle presence obs=11\n",
    "   - we combine obsm=5 & obsm=6  in obs=5 (corresponds to diffrent animals)\n",
    "   - we combine obsm=2 & obsm=4 in obs=2 (correponds to diffrent vehicles)\n",
    "   - we keep obsm=9 as obs=9"
   ]
  },
  {
   "cell_type": "code",
   "execution_count": 96,
   "id": "5fde4fba",
   "metadata": {},
   "outputs": [],
   "source": [
    "for year in range(2005, 2021):\n",
    "\n",
    "    #replace all the fixed obstacle with value 10\n",
    "    locals()[\"veh\"+\"_\"+str(year)[-2:]].loc[(locals()[\"veh\"+\"_\"+str(year)[-2:]].obs!=0) & (locals()[\"veh\"+\"_\"+str(year)[-2:]].obsm==0), 'obs']= 10\n",
    "    \n",
    "    #if obsm!=0 et ob!=0 means that there's multiobstacles, we give the value 11:\n",
    "    locals()[\"veh\"+\"_\"+str(year)[-2:]].loc[locals()[\"veh\"+\"_\"+str(year)[-2:]].obs==11 , 'obs']= -1\n",
    "    locals()[\"veh\"+\"_\"+str(year)[-2:]].loc[(locals()[\"veh\"+\"_\"+str(year)[-2:]].obs!=0) & (locals()[\"veh\"+\"_\"+str(year)[-2:]].obsm!=0),'obs']= 11\n",
    "\n",
    "    #we combine between obsm=5 and obsm=6, in obs=5\n",
    "    locals()[\"veh\"+\"_\"+str(year)[-2:]].loc[(locals()[\"veh\"+\"_\"+str(year)[-2:]].obsm==6) & (locals()[\"veh\"+\"_\"+str(year)[-2:]].obs==0),'obs']= 5\n",
    "    #we combine between obsm=2 and obsm=4, in obs=2\n",
    "    locals()[\"veh\"+\"_\"+str(year)[-2:]].loc[(locals()[\"veh\"+\"_\"+str(year)[-2:]].obsm==4) & (locals()[\"veh\"+\"_\"+str(year)[-2:]].obs==0),'obs']= 2\n",
    "    \n",
    "    #obs=9 for obsm=9\n",
    "    locals()[\"veh\"+\"_\"+str(year)[-2:]].loc[(locals()[\"veh\"+\"_\"+str(year)[-2:]].obsm==9) & (locals()[\"veh\"+\"_\"+str(year)[-2:]].obs==0),'obs']= 9\n",
    "    #we drop the obsm\n",
    "    locals()[\"veh\"+\"_\"+str(year)[-2:]].drop('obsm', axis=1, inplace= True )\n"
   ]
  },
  {
   "cell_type": "markdown",
   "id": "2222ffc1",
   "metadata": {},
   "source": [
    "* We drop the *motor* column in 2019-2020, since we won't use it :"
   ]
  },
  {
   "cell_type": "code",
   "execution_count": 97,
   "id": "c3a06190",
   "metadata": {},
   "outputs": [],
   "source": [
    "veh_19.drop('motor', axis=1, inplace=True)\n",
    "veh_20.drop('motor', axis=1, inplace=True)"
   ]
  },
  {
   "cell_type": "markdown",
   "id": "93a5997b",
   "metadata": {},
   "source": [
    "* We drop *occutc* column since most values are not specified and is not useful in our use case. *senc* column is alos useless in our case, so we drop it too:"
   ]
  },
  {
   "cell_type": "code",
   "execution_count": 98,
   "id": "b94c1020",
   "metadata": {},
   "outputs": [],
   "source": [
    "for year in range(2005, 2021):\n",
    "    locals()[\"veh\"+\"_\"+str(year)[-2:]].drop(['occutc','senc'],  axis=1, inplace= True)"
   ]
  },
  {
   "cell_type": "markdown",
   "id": "3241a438-f189-4bce-84ae-e00b9cb089b2",
   "metadata": {},
   "source": [
    "## Merging files by year for : *Usagers* & *Vehicules*"
   ]
  },
  {
   "cell_type": "code",
   "execution_count": 99,
   "id": "bca7f2f5-79b2-4e0b-9dae-5ff65c437f8d",
   "metadata": {},
   "outputs": [],
   "source": [
    "#init\n",
    "usagers= user_05\n",
    "vehicules= veh_05\n",
    "\n",
    "#concatenate files for usage\n",
    "for year in range(2006, 2021):\n",
    "    usagers= pd.concat([usagers, locals()[\"user\"+\"_\"+str(year)[-2:]]  ])\n",
    "    vehicules= pd.concat([vehicules, locals()[\"veh\"+\"_\"+str(year)[-2:]] ] )"
   ]
  },
  {
   "cell_type": "markdown",
   "id": "bf7848d6-9e0a-4587-a06f-02f0027ba783",
   "metadata": {},
   "source": [
    "- Adding a column for ***usagers_id***. This will make the understanding of the relation between the diffrent tables clearer:"
   ]
  },
  {
   "cell_type": "code",
   "execution_count": 106,
   "id": "ff4dfac6-3cac-4487-a0dd-79619565adb4",
   "metadata": {},
   "outputs": [],
   "source": [
    "\n",
    "#create a column for usager_id\n",
    "usagers['usager_id']= usagers.index\n",
    "\n",
    "#place the new columns first\n",
    "cols = usagers.columns.tolist()\n",
    "cols = cols[-1:] + cols[:-1]\n",
    "usagers= usagers[cols]\n",
    "\n",
    "#Replace NaN with -1 : \n",
    "usagers.fillna(-1, inplace=True)\n",
    "vehicules.fillna(-1, inplace=True)\n",
    "\n",
    "#Change float64 to int64 :\n",
    "usagers= usagers.astype({'trajet':'int64', 'an_nais':'int64', 'place':'int64'})\n",
    "vehicules= vehicules.astype({'catv':'int64', 'obs':'int64', 'choc':'int64','manv':'int64'})"
   ]
  },
  {
   "cell_type": "markdown",
   "id": "aa284bee-4c6d-42de-b783-4dfcf1c3d5d4",
   "metadata": {},
   "source": [
    "## Export generated tables to new files : *Usagers.csv* & *Vehicule.csv*"
   ]
  },
  {
   "cell_type": "markdown",
   "id": "f8c3197c-c9f0-4068-9c91-fec72e31c73c",
   "metadata": {},
   "source": [
    "- The generated tables are saved to the ***data/*** folder :"
   ]
  },
  {
   "cell_type": "code",
   "execution_count": null,
   "id": "74ff65fe-ad1b-436a-b517-4bdde67b6f98",
   "metadata": {},
   "outputs": [],
   "source": [
    "usagers.to_csv(path_or_buf= 'data/Usagers.csv',sep=';')\n",
    "vehicules.to_csv(path_or_buf= 'data/Vehicules.csv',sep=';')"
   ]
  },
  {
   "cell_type": "code",
   "execution_count": null,
   "id": "5a9b8937",
   "metadata": {},
   "outputs": [],
   "source": [
    "#to test\n",
    "#x=pd.read_csv('data/vehicules.csv', sep=';', index_col=0)\n",
    "#y=pd.read_csv('data/usagers.csv', sep=';', index_col=0)\n",
    "\n",
    "#x.dtypes\n",
    "#y.dtypes"
   ]
  }
 ],
 "metadata": {
  "kernelspec": {
   "display_name": "Python 3",
   "language": "python",
   "name": "python3"
  },
  "language_info": {
   "codemirror_mode": {
    "name": "ipython",
    "version": 3
   },
   "file_extension": ".py",
   "mimetype": "text/x-python",
   "name": "python",
   "nbconvert_exporter": "python",
   "pygments_lexer": "ipython3",
   "version": "3.8.8"
  }
 },
 "nbformat": 4,
 "nbformat_minor": 5
}
